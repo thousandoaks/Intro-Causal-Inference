{
  "nbformat": 4,
  "nbformat_minor": 0,
  "metadata": {
    "colab": {
      "name": "DoWhy example on Infant Health and Development Program.ipynb",
      "provenance": [],
      "authorship_tag": "ABX9TyMKWW3cHfPWshikuO9l0fI3",
      "include_colab_link": true
    },
    "kernelspec": {
      "name": "python3",
      "display_name": "Python 3"
    },
    "language_info": {
      "name": "python"
    }
  },
  "cells": [
    {
      "cell_type": "markdown",
      "metadata": {
        "id": "view-in-github",
        "colab_type": "text"
      },
      "source": [
        "<a href=\"https://colab.research.google.com/github/thousandoaks/Intro-Causal-Inference/blob/main/code/DoWhy_example_on_Infant_Health_and_Development_Program.ipynb\" target=\"_parent\"><img src=\"https://colab.research.google.com/assets/colab-badge.svg\" alt=\"Open In Colab\"/></a>"
      ]
    },
    {
      "cell_type": "code",
      "metadata": {
        "colab": {
          "base_uri": "https://localhost:8080/"
        },
        "id": "atdnaQN4vBtz",
        "outputId": "d8ab7860-b0d1-442d-bebb-2bae40a9e34a"
      },
      "source": [
        "pip install dowhy"
      ],
      "execution_count": 2,
      "outputs": [
        {
          "output_type": "stream",
          "text": [
            "Collecting dowhy\n",
            "  Downloading dowhy-0.6-py3-none-any.whl (123 kB)\n",
            "\u001b[?25l\r\u001b[K     |██▋                             | 10 kB 17.4 MB/s eta 0:00:01\r\u001b[K     |█████▎                          | 20 kB 22.1 MB/s eta 0:00:01\r\u001b[K     |████████                        | 30 kB 13.2 MB/s eta 0:00:01\r\u001b[K     |██████████▋                     | 40 kB 10.4 MB/s eta 0:00:01\r\u001b[K     |█████████████▏                  | 51 kB 6.2 MB/s eta 0:00:01\r\u001b[K     |███████████████▉                | 61 kB 5.5 MB/s eta 0:00:01\r\u001b[K     |██████████████████▌             | 71 kB 5.7 MB/s eta 0:00:01\r\u001b[K     |█████████████████████▏          | 81 kB 6.4 MB/s eta 0:00:01\r\u001b[K     |███████████████████████▉        | 92 kB 4.9 MB/s eta 0:00:01\r\u001b[K     |██████████████████████████▍     | 102 kB 5.4 MB/s eta 0:00:01\r\u001b[K     |█████████████████████████████   | 112 kB 5.4 MB/s eta 0:00:01\r\u001b[K     |███████████████████████████████▊| 122 kB 5.4 MB/s eta 0:00:01\r\u001b[K     |████████████████████████████████| 123 kB 5.4 MB/s \n",
            "\u001b[?25hRequirement already satisfied: pandas>=0.24 in /usr/local/lib/python3.7/dist-packages (from dowhy) (1.1.5)\n",
            "Requirement already satisfied: networkx>=2.0 in /usr/local/lib/python3.7/dist-packages (from dowhy) (2.6.2)\n",
            "Collecting pydot>=1.4\n",
            "  Downloading pydot-1.4.2-py2.py3-none-any.whl (21 kB)\n",
            "Requirement already satisfied: scipy in /usr/local/lib/python3.7/dist-packages (from dowhy) (1.4.1)\n",
            "Requirement already satisfied: statsmodels in /usr/local/lib/python3.7/dist-packages (from dowhy) (0.10.2)\n",
            "Requirement already satisfied: numpy>=1.15 in /usr/local/lib/python3.7/dist-packages (from dowhy) (1.19.5)\n",
            "Requirement already satisfied: scikit-learn in /usr/local/lib/python3.7/dist-packages (from dowhy) (0.22.2.post1)\n",
            "Requirement already satisfied: sympy>=1.4 in /usr/local/lib/python3.7/dist-packages (from dowhy) (1.7.1)\n",
            "Requirement already satisfied: pytz>=2017.2 in /usr/local/lib/python3.7/dist-packages (from pandas>=0.24->dowhy) (2018.9)\n",
            "Requirement already satisfied: python-dateutil>=2.7.3 in /usr/local/lib/python3.7/dist-packages (from pandas>=0.24->dowhy) (2.8.2)\n",
            "Requirement already satisfied: pyparsing>=2.1.4 in /usr/local/lib/python3.7/dist-packages (from pydot>=1.4->dowhy) (2.4.7)\n",
            "Requirement already satisfied: six>=1.5 in /usr/local/lib/python3.7/dist-packages (from python-dateutil>=2.7.3->pandas>=0.24->dowhy) (1.15.0)\n",
            "Requirement already satisfied: mpmath>=0.19 in /usr/local/lib/python3.7/dist-packages (from sympy>=1.4->dowhy) (1.2.1)\n",
            "Requirement already satisfied: joblib>=0.11 in /usr/local/lib/python3.7/dist-packages (from scikit-learn->dowhy) (1.0.1)\n",
            "Requirement already satisfied: patsy>=0.4.0 in /usr/local/lib/python3.7/dist-packages (from statsmodels->dowhy) (0.5.1)\n",
            "Installing collected packages: pydot, dowhy\n",
            "  Attempting uninstall: pydot\n",
            "    Found existing installation: pydot 1.3.0\n",
            "    Uninstalling pydot-1.3.0:\n",
            "      Successfully uninstalled pydot-1.3.0\n",
            "Successfully installed dowhy-0.6 pydot-1.4.2\n"
          ],
          "name": "stdout"
        }
      ]
    },
    {
      "cell_type": "code",
      "metadata": {
        "id": "LDZlfd_EvMjA"
      },
      "source": [
        ""
      ],
      "execution_count": null,
      "outputs": []
    },
    {
      "cell_type": "code",
      "metadata": {
        "id": "ZBjDFvsDvMlo"
      },
      "source": [
        "# importing required libraries\n",
        "import dowhy\n",
        "from dowhy import CausalModel\n",
        "import pandas as pd\n",
        "import numpy as np"
      ],
      "execution_count": 3,
      "outputs": []
    },
    {
      "cell_type": "code",
      "metadata": {
        "colab": {
          "base_uri": "https://localhost:8080/",
          "height": 204
        },
        "id": "L9Sbg62YvMoS",
        "outputId": "7574f89b-ff27-49bd-b1e1-dea9457f6e2f"
      },
      "source": [
        "data= pd.read_csv(\"https://raw.githubusercontent.com/AMLab-Amsterdam/CEVAE/master/datasets/IHDP/csv/ihdp_npci_1.csv\", header = None)\n",
        "col =  [\"treatment\", \"y_factual\", \"y_cfactual\", \"mu0\", \"mu1\" ,]\n",
        "for i in range(1,26):\n",
        "    col.append(\"x\"+str(i))\n",
        "data.columns = col\n",
        "data = data.astype({\"treatment\":'bool'}, copy=False)\n",
        "data.head()"
      ],
      "execution_count": 4,
      "outputs": [
        {
          "output_type": "execute_result",
          "data": {
            "text/html": [
              "<div>\n",
              "<style scoped>\n",
              "    .dataframe tbody tr th:only-of-type {\n",
              "        vertical-align: middle;\n",
              "    }\n",
              "\n",
              "    .dataframe tbody tr th {\n",
              "        vertical-align: top;\n",
              "    }\n",
              "\n",
              "    .dataframe thead th {\n",
              "        text-align: right;\n",
              "    }\n",
              "</style>\n",
              "<table border=\"1\" class=\"dataframe\">\n",
              "  <thead>\n",
              "    <tr style=\"text-align: right;\">\n",
              "      <th></th>\n",
              "      <th>treatment</th>\n",
              "      <th>y_factual</th>\n",
              "      <th>y_cfactual</th>\n",
              "      <th>mu0</th>\n",
              "      <th>mu1</th>\n",
              "      <th>x1</th>\n",
              "      <th>x2</th>\n",
              "      <th>x3</th>\n",
              "      <th>x4</th>\n",
              "      <th>x5</th>\n",
              "      <th>x6</th>\n",
              "      <th>x7</th>\n",
              "      <th>x8</th>\n",
              "      <th>x9</th>\n",
              "      <th>x10</th>\n",
              "      <th>x11</th>\n",
              "      <th>x12</th>\n",
              "      <th>x13</th>\n",
              "      <th>x14</th>\n",
              "      <th>x15</th>\n",
              "      <th>x16</th>\n",
              "      <th>x17</th>\n",
              "      <th>x18</th>\n",
              "      <th>x19</th>\n",
              "      <th>x20</th>\n",
              "      <th>x21</th>\n",
              "      <th>x22</th>\n",
              "      <th>x23</th>\n",
              "      <th>x24</th>\n",
              "      <th>x25</th>\n",
              "    </tr>\n",
              "  </thead>\n",
              "  <tbody>\n",
              "    <tr>\n",
              "      <th>0</th>\n",
              "      <td>True</td>\n",
              "      <td>5.599916</td>\n",
              "      <td>4.318780</td>\n",
              "      <td>3.268256</td>\n",
              "      <td>6.854457</td>\n",
              "      <td>-0.528603</td>\n",
              "      <td>-0.343455</td>\n",
              "      <td>1.128554</td>\n",
              "      <td>0.161703</td>\n",
              "      <td>-0.316603</td>\n",
              "      <td>1.295216</td>\n",
              "      <td>1</td>\n",
              "      <td>0</td>\n",
              "      <td>1</td>\n",
              "      <td>0</td>\n",
              "      <td>0</td>\n",
              "      <td>0</td>\n",
              "      <td>0</td>\n",
              "      <td>1</td>\n",
              "      <td>0</td>\n",
              "      <td>1</td>\n",
              "      <td>1</td>\n",
              "      <td>1</td>\n",
              "      <td>1</td>\n",
              "      <td>0</td>\n",
              "      <td>0</td>\n",
              "      <td>0</td>\n",
              "      <td>0</td>\n",
              "      <td>0</td>\n",
              "      <td>0</td>\n",
              "    </tr>\n",
              "    <tr>\n",
              "      <th>1</th>\n",
              "      <td>False</td>\n",
              "      <td>6.875856</td>\n",
              "      <td>7.856495</td>\n",
              "      <td>6.636059</td>\n",
              "      <td>7.562718</td>\n",
              "      <td>-1.736945</td>\n",
              "      <td>-1.802002</td>\n",
              "      <td>0.383828</td>\n",
              "      <td>2.244320</td>\n",
              "      <td>-0.629189</td>\n",
              "      <td>1.295216</td>\n",
              "      <td>0</td>\n",
              "      <td>0</td>\n",
              "      <td>0</td>\n",
              "      <td>1</td>\n",
              "      <td>0</td>\n",
              "      <td>0</td>\n",
              "      <td>1</td>\n",
              "      <td>1</td>\n",
              "      <td>1</td>\n",
              "      <td>1</td>\n",
              "      <td>1</td>\n",
              "      <td>1</td>\n",
              "      <td>1</td>\n",
              "      <td>0</td>\n",
              "      <td>0</td>\n",
              "      <td>0</td>\n",
              "      <td>0</td>\n",
              "      <td>0</td>\n",
              "      <td>0</td>\n",
              "    </tr>\n",
              "    <tr>\n",
              "      <th>2</th>\n",
              "      <td>False</td>\n",
              "      <td>2.996273</td>\n",
              "      <td>6.633952</td>\n",
              "      <td>1.570536</td>\n",
              "      <td>6.121617</td>\n",
              "      <td>-0.807451</td>\n",
              "      <td>-0.202946</td>\n",
              "      <td>-0.360898</td>\n",
              "      <td>-0.879606</td>\n",
              "      <td>0.808706</td>\n",
              "      <td>-0.526556</td>\n",
              "      <td>0</td>\n",
              "      <td>0</td>\n",
              "      <td>0</td>\n",
              "      <td>1</td>\n",
              "      <td>0</td>\n",
              "      <td>0</td>\n",
              "      <td>0</td>\n",
              "      <td>2</td>\n",
              "      <td>0</td>\n",
              "      <td>1</td>\n",
              "      <td>0</td>\n",
              "      <td>1</td>\n",
              "      <td>1</td>\n",
              "      <td>0</td>\n",
              "      <td>0</td>\n",
              "      <td>0</td>\n",
              "      <td>0</td>\n",
              "      <td>0</td>\n",
              "      <td>0</td>\n",
              "    </tr>\n",
              "    <tr>\n",
              "      <th>3</th>\n",
              "      <td>False</td>\n",
              "      <td>1.366206</td>\n",
              "      <td>5.697239</td>\n",
              "      <td>1.244738</td>\n",
              "      <td>5.889125</td>\n",
              "      <td>0.390083</td>\n",
              "      <td>0.596582</td>\n",
              "      <td>-1.850350</td>\n",
              "      <td>-0.879606</td>\n",
              "      <td>-0.004017</td>\n",
              "      <td>-0.857787</td>\n",
              "      <td>0</td>\n",
              "      <td>0</td>\n",
              "      <td>0</td>\n",
              "      <td>0</td>\n",
              "      <td>0</td>\n",
              "      <td>1</td>\n",
              "      <td>1</td>\n",
              "      <td>2</td>\n",
              "      <td>0</td>\n",
              "      <td>1</td>\n",
              "      <td>0</td>\n",
              "      <td>1</td>\n",
              "      <td>1</td>\n",
              "      <td>0</td>\n",
              "      <td>0</td>\n",
              "      <td>0</td>\n",
              "      <td>0</td>\n",
              "      <td>0</td>\n",
              "      <td>0</td>\n",
              "    </tr>\n",
              "    <tr>\n",
              "      <th>4</th>\n",
              "      <td>False</td>\n",
              "      <td>1.963538</td>\n",
              "      <td>6.202582</td>\n",
              "      <td>1.685048</td>\n",
              "      <td>6.191994</td>\n",
              "      <td>-1.045229</td>\n",
              "      <td>-0.602710</td>\n",
              "      <td>0.011465</td>\n",
              "      <td>0.161703</td>\n",
              "      <td>0.683672</td>\n",
              "      <td>-0.360940</td>\n",
              "      <td>1</td>\n",
              "      <td>0</td>\n",
              "      <td>0</td>\n",
              "      <td>0</td>\n",
              "      <td>0</td>\n",
              "      <td>1</td>\n",
              "      <td>1</td>\n",
              "      <td>1</td>\n",
              "      <td>0</td>\n",
              "      <td>1</td>\n",
              "      <td>1</td>\n",
              "      <td>1</td>\n",
              "      <td>1</td>\n",
              "      <td>0</td>\n",
              "      <td>0</td>\n",
              "      <td>0</td>\n",
              "      <td>0</td>\n",
              "      <td>0</td>\n",
              "      <td>0</td>\n",
              "    </tr>\n",
              "  </tbody>\n",
              "</table>\n",
              "</div>"
            ],
            "text/plain": [
              "   treatment  y_factual  y_cfactual       mu0  ...  x22  x23  x24  x25\n",
              "0       True   5.599916    4.318780  3.268256  ...    0    0    0    0\n",
              "1      False   6.875856    7.856495  6.636059  ...    0    0    0    0\n",
              "2      False   2.996273    6.633952  1.570536  ...    0    0    0    0\n",
              "3      False   1.366206    5.697239  1.244738  ...    0    0    0    0\n",
              "4      False   1.963538    6.202582  1.685048  ...    0    0    0    0\n",
              "\n",
              "[5 rows x 30 columns]"
            ]
          },
          "metadata": {},
          "execution_count": 4
        }
      ]
    },
    {
      "cell_type": "code",
      "metadata": {
        "id": "cmUfJvhzxZTa"
      },
      "source": [
        ""
      ],
      "execution_count": null,
      "outputs": []
    },
    {
      "cell_type": "code",
      "metadata": {
        "id": "SE3uxfAVvMqU"
      },
      "source": [
        ""
      ],
      "execution_count": null,
      "outputs": []
    },
    {
      "cell_type": "markdown",
      "metadata": {
        "id": "nR4ZELN-v8uA"
      },
      "source": [
        "# Step 1. Causal Model specification"
      ]
    },
    {
      "cell_type": "code",
      "metadata": {
        "id": "gTt72RZxwmFN"
      },
      "source": [
        "# Create a causal model from the data and given common causes.\n",
        "xs = \"\"\n",
        "for i in range(1,26):\n",
        "    xs += (\"x\"+str(i)+\"+\")\n",
        "\n",
        "model=CausalModel(\n",
        "        data = data,\n",
        "        treatment='treatment',\n",
        "        outcome='y_factual',\n",
        "        common_causes=xs.split('+')\n",
        "        )"
      ],
      "execution_count": 5,
      "outputs": []
    },
    {
      "cell_type": "code",
      "metadata": {
        "colab": {
          "base_uri": "https://localhost:8080/",
          "height": 248
        },
        "id": "yTFl_3NSwrRp",
        "outputId": "5f8d3559-0978-4874-86af-3e816887b1ca"
      },
      "source": [
        "model.view_model()"
      ],
      "execution_count": 6,
      "outputs": [
        {
          "output_type": "display_data",
          "data": {
            "image/png": "[encoded data removed]",
            "text/plain": [
              "<Figure size 432x288 with 1 Axes>"
            ]
          },
          "metadata": {}
        }
      ]
    },
    {
      "cell_type": "markdown",
      "metadata": {
        "id": "xb5A-NmgwCSO"
      },
      "source": [
        "# Step 2.Identify"
      ]
    },
    {
      "cell_type": "code",
      "metadata": {
        "colab": {
          "base_uri": "https://localhost:8080/"
        },
        "id": "eMVkmYnEw_gS",
        "outputId": "5eb0f0c9-b1d9-4b97-b47b-4cd52ad05d39"
      },
      "source": [
        "#Identify the causal effect\n",
        "identified_estimand = model.identify_effect(proceed_when_unidentifiable=True)\n",
        "print(identified_estimand)"
      ],
      "execution_count": 7,
      "outputs": [
        {
          "output_type": "stream",
          "text": [
            "Estimand type: nonparametric-ate\n",
            "\n",
            "### Estimand : 1\n",
            "Estimand name: backdoor\n",
            "Estimand expression:\n",
            "     d                                                                        \n",
            "────────────(Expectation(y_factual|x19,x17,x2,x20,x25,x13,x15,x11,x23,x8,x24,x\n",
            "d[treatment]                                                                  \n",
            "\n",
            "                                                 \n",
            "5,x9,x16,x21,x12,x22,x7,x18,x14,x1,x3,x4,x10,x6))\n",
            "                                                 \n",
            "Estimand assumption 1, Unconfoundedness: If U→{treatment} and U→y_factual then P(y_factual|treatment,x19,x17,x2,x20,x25,x13,x15,x11,x23,x8,x24,x5,x9,x16,x21,x12,x22,x7,x18,x14,x1,x3,x4,x10,x6,U) = P(y_factual|treatment,x19,x17,x2,x20,x25,x13,x15,x11,x23,x8,x24,x5,x9,x16,x21,x12,x22,x7,x18,x14,x1,x3,x4,x10,x6)\n",
            "\n",
            "### Estimand : 2\n",
            "Estimand name: iv\n",
            "No such variable found!\n",
            "\n",
            "### Estimand : 3\n",
            "Estimand name: frontdoor\n",
            "No such variable found!\n",
            "\n"
          ],
          "name": "stdout"
        }
      ]
    },
    {
      "cell_type": "markdown",
      "metadata": {
        "id": "ctr7QqriwCUw"
      },
      "source": [
        "# Step 3.Estimate"
      ]
    },
    {
      "cell_type": "code",
      "metadata": {
        "colab": {
          "base_uri": "https://localhost:8080/"
        },
        "id": "Fjq0RJLAxnKl",
        "outputId": "fe1d0742-cd35-4eae-878f-5aa69ab3a219"
      },
      "source": [
        "# Estimate the causal effect and compare it with Average Treatment Effect\n",
        "estimate = model.estimate_effect(identified_estimand,\n",
        "        method_name=\"backdoor.linear_regression\", test_significance=True\n",
        ")\n",
        "\n",
        "print(estimate)\n",
        "\n",
        "print(\"Causal Estimate is \" + str(estimate.value))\n",
        "data_1 = data[data[\"treatment\"]==1]\n",
        "data_0 = data[data[\"treatment\"]==0]\n",
        "\n",
        "print(\"ATE\", np.mean(data_1[\"y_factual\"])- np.mean(data_0[\"y_factual\"]))\n"
      ],
      "execution_count": 8,
      "outputs": [
        {
          "output_type": "stream",
          "text": [
            "/usr/local/lib/python3.7/dist-packages/statsmodels/tools/_testing.py:19: FutureWarning: pandas.util.testing is deprecated. Use the functions in the public API at pandas.testing instead.\n",
            "  import pandas.util.testing as tm\n"
          ],
          "name": "stderr"
        },
        {
          "output_type": "stream",
          "text": [
            "*** Causal Estimate ***\n",
            "\n",
            "## Identified estimand\n",
            "Estimand type: nonparametric-ate\n",
            "\n",
            "### Estimand : 1\n",
            "Estimand name: backdoor\n",
            "Estimand expression:\n",
            "     d                                                                        \n",
            "────────────(Expectation(y_factual|x19,x17,x2,x20,x25,x13,x15,x11,x23,x8,x24,x\n",
            "d[treatment]                                                                  \n",
            "\n",
            "                                                 \n",
            "5,x9,x16,x21,x12,x22,x7,x18,x14,x1,x3,x4,x10,x6))\n",
            "                                                 \n",
            "Estimand assumption 1, Unconfoundedness: If U→{treatment} and U→y_factual then P(y_factual|treatment,x19,x17,x2,x20,x25,x13,x15,x11,x23,x8,x24,x5,x9,x16,x21,x12,x22,x7,x18,x14,x1,x3,x4,x10,x6,U) = P(y_factual|treatment,x19,x17,x2,x20,x25,x13,x15,x11,x23,x8,x24,x5,x9,x16,x21,x12,x22,x7,x18,x14,x1,x3,x4,x10,x6)\n",
            "\n",
            "## Realized estimand\n",
            "b: y_factual~treatment+x19+x17+x2+x20+x25+x13+x15+x11+x23+x8+x24+x5+x9+x16+x21+x12+x22+x7+x18+x14+x1+x3+x4+x10+x6\n",
            "Target units: ate\n",
            "\n",
            "## Estimate\n",
            "Mean value: 3.928671750872719\n",
            "p-value: [1.58915682e-156]\n",
            "\n",
            "Causal Estimate is 3.928671750872719\n",
            "ATE 4.021121012430832\n"
          ],
          "name": "stdout"
        }
      ]
    },
    {
      "cell_type": "code",
      "metadata": {
        "colab": {
          "base_uri": "https://localhost:8080/"
        },
        "id": "BdSAIGuAxrHv",
        "outputId": "b17db3c2-6576-4084-fd61-f1a7871a6836"
      },
      "source": [
        "estimate = model.estimate_effect(identified_estimand,\n",
        "        method_name=\"backdoor.propensity_score_matching\"\n",
        ")\n",
        "\n",
        "print(\"Causal Estimate is \" + str(estimate.value))\n",
        "\n",
        "print(\"ATE\", np.mean(data_1[\"y_factual\"])- np.mean(data_0[\"y_factual\"]))\n"
      ],
      "execution_count": 9,
      "outputs": [
        {
          "output_type": "stream",
          "text": [
            "/usr/local/lib/python3.7/dist-packages/sklearn/utils/validation.py:760: DataConversionWarning: A column-vector y was passed when a 1d array was expected. Please change the shape of y to (n_samples, ), for example using ravel().\n",
            "  y = column_or_1d(y, warn=True)\n"
          ],
          "name": "stderr"
        },
        {
          "output_type": "stream",
          "text": [
            "Causal Estimate is 3.9791388232170393\n",
            "ATE 4.021121012430832\n"
          ],
          "name": "stdout"
        }
      ]
    },
    {
      "cell_type": "code",
      "metadata": {
        "colab": {
          "base_uri": "https://localhost:8080/"
        },
        "id": "38MIATLMxt1B",
        "outputId": "cd97712b-9e71-4ac8-a6be-fd412f75046e"
      },
      "source": [
        "estimate = model.estimate_effect(identified_estimand,\n",
        "        method_name=\"backdoor.propensity_score_stratification\", method_params={'num_strata':50, 'clipping_threshold':5}\n",
        ")\n",
        "\n",
        "print(\"Causal Estimate is \" + str(estimate.value))\n",
        "print(\"ATE\", np.mean(data_1[\"y_factual\"])- np.mean(data_0[\"y_factual\"]))"
      ],
      "execution_count": 10,
      "outputs": [
        {
          "output_type": "stream",
          "text": [
            "/usr/local/lib/python3.7/dist-packages/sklearn/utils/validation.py:760: DataConversionWarning: A column-vector y was passed when a 1d array was expected. Please change the shape of y to (n_samples, ), for example using ravel().\n",
            "  y = column_or_1d(y, warn=True)\n"
          ],
          "name": "stderr"
        },
        {
          "output_type": "stream",
          "text": [
            "Causal Estimate is 3.4550471588628207\n",
            "ATE 4.021121012430832\n"
          ],
          "name": "stdout"
        }
      ]
    },
    {
      "cell_type": "code",
      "metadata": {
        "colab": {
          "base_uri": "https://localhost:8080/"
        },
        "id": "MYEa5Dcwxt37",
        "outputId": "06631a21-85ae-4f79-813c-9f782041681d"
      },
      "source": [
        "estimate = model.estimate_effect(identified_estimand,\n",
        "        method_name=\"backdoor.propensity_score_weighting\"\n",
        ")\n",
        "\n",
        "print(\"Causal Estimate is \" + str(estimate.value))\n",
        "\n",
        "print(\"ATE\", np.mean(data_1[\"y_factual\"])- np.mean(data_0[\"y_factual\"]))\n"
      ],
      "execution_count": 11,
      "outputs": [
        {
          "output_type": "stream",
          "text": [
            "Causal Estimate is 3.409737824413048\n",
            "ATE 4.021121012430832\n"
          ],
          "name": "stdout"
        },
        {
          "output_type": "stream",
          "text": [
            "/usr/local/lib/python3.7/dist-packages/sklearn/utils/validation.py:760: DataConversionWarning: A column-vector y was passed when a 1d array was expected. Please change the shape of y to (n_samples, ), for example using ravel().\n",
            "  y = column_or_1d(y, warn=True)\n"
          ],
          "name": "stderr"
        }
      ]
    },
    {
      "cell_type": "markdown",
      "metadata": {
        "id": "NDWoJzU_wCW4"
      },
      "source": [
        "# 4. Refute"
      ]
    },
    {
      "cell_type": "code",
      "metadata": {
        "id": "Ld5ebpa4yAUX"
      },
      "source": [
        "import warnings\n",
        "warnings.filterwarnings(\"ignore\")"
      ],
      "execution_count": 15,
      "outputs": []
    },
    {
      "cell_type": "code",
      "metadata": {
        "colab": {
          "base_uri": "https://localhost:8080/"
        },
        "id": "43Dx-abDxyuT",
        "outputId": "e4e97438-4fc9-4534-dd0a-08432aab8a12"
      },
      "source": [
        "refute_results=model.refute_estimate(identified_estimand, estimate,\n",
        "        method_name=\"random_common_cause\")\n",
        "print(refute_results)\n"
      ],
      "execution_count": 16,
      "outputs": [
        {
          "output_type": "stream",
          "text": [
            "Refute: Add a Random Common Cause\n",
            "Estimated effect:3.409737824413048\n",
            "New effect:3.4188412903408447\n",
            "\n"
          ],
          "name": "stdout"
        }
      ]
    },
    {
      "cell_type": "code",
      "metadata": {
        "colab": {
          "base_uri": "https://localhost:8080/"
        },
        "id": "r70N1my0x03f",
        "outputId": "a5340f84-3970-478c-afd4-6c75b4bea357"
      },
      "source": [
        "res_placebo=model.refute_estimate(identified_estimand, estimate,\n",
        "        method_name=\"placebo_treatment_refuter\", placebo_type=\"permute\")\n",
        "print(res_placebo)"
      ],
      "execution_count": 17,
      "outputs": [
        {
          "output_type": "stream",
          "text": [
            "Refute: Use a Placebo Treatment\n",
            "Estimated effect:3.409737824413048\n",
            "New effect:-0.010143156735866939\n",
            "p value:0.48\n",
            "\n"
          ],
          "name": "stdout"
        }
      ]
    },
    {
      "cell_type": "code",
      "metadata": {
        "colab": {
          "base_uri": "https://localhost:8080/"
        },
        "id": "K_8wOJ5ex57Y",
        "outputId": "4cf3c7af-7604-4e62-97ec-ed6874c52eae"
      },
      "source": [
        "res_subset=model.refute_estimate(identified_estimand, estimate,\n",
        "        method_name=\"data_subset_refuter\", subset_fraction=0.9)\n",
        "print(res_subset)"
      ],
      "execution_count": 18,
      "outputs": [
        {
          "output_type": "stream",
          "text": [
            "Refute: Use a subset of data\n",
            "Estimated effect:3.409737824413048\n",
            "New effect:3.3750110937144586\n",
            "p value:0.35\n",
            "\n"
          ],
          "name": "stdout"
        }
      ]
    },
    {
      "cell_type": "markdown",
      "metadata": {
        "id": "9kDynkkJyLjQ"
      },
      "source": [
        "# Interpretation\n",
        "\n",
        "We get:\n",
        "\n",
        "Causal Estimate is: 3.9791388232170393\n",
        "\n",
        "ATE: 4.021121012430832"
      ]
    },
    {
      "cell_type": "markdown",
      "metadata": {
        "id": "T3ZLplxmyixQ"
      },
      "source": [
        "For this example we have the true effect of treatment on the outcome"
      ]
    },
    {
      "cell_type": "code",
      "metadata": {
        "colab": {
          "base_uri": "https://localhost:8080/",
          "height": 359
        },
        "id": "h7Gq3jdzyXa3",
        "outputId": "52318599-445e-47ae-9d76-e8087af19762"
      },
      "source": [
        "data[['treatment','y_factual','y_cfactual']].sample(10)\n"
      ],
      "execution_count": 35,
      "outputs": [
        {
          "output_type": "execute_result",
          "data": {
            "text/html": [
              "<div>\n",
              "<style scoped>\n",
              "    .dataframe tbody tr th:only-of-type {\n",
              "        vertical-align: middle;\n",
              "    }\n",
              "\n",
              "    .dataframe tbody tr th {\n",
              "        vertical-align: top;\n",
              "    }\n",
              "\n",
              "    .dataframe thead th {\n",
              "        text-align: right;\n",
              "    }\n",
              "</style>\n",
              "<table border=\"1\" class=\"dataframe\">\n",
              "  <thead>\n",
              "    <tr style=\"text-align: right;\">\n",
              "      <th></th>\n",
              "      <th>treatment</th>\n",
              "      <th>y_factual</th>\n",
              "      <th>y_cfactual</th>\n",
              "    </tr>\n",
              "  </thead>\n",
              "  <tbody>\n",
              "    <tr>\n",
              "      <th>722</th>\n",
              "      <td>False</td>\n",
              "      <td>3.778649</td>\n",
              "      <td>6.770402</td>\n",
              "    </tr>\n",
              "    <tr>\n",
              "      <th>688</th>\n",
              "      <td>True</td>\n",
              "      <td>7.342641</td>\n",
              "      <td>1.713163</td>\n",
              "    </tr>\n",
              "    <tr>\n",
              "      <th>236</th>\n",
              "      <td>False</td>\n",
              "      <td>1.570458</td>\n",
              "      <td>6.437022</td>\n",
              "    </tr>\n",
              "    <tr>\n",
              "      <th>154</th>\n",
              "      <td>False</td>\n",
              "      <td>3.546917</td>\n",
              "      <td>6.554049</td>\n",
              "    </tr>\n",
              "    <tr>\n",
              "      <th>348</th>\n",
              "      <td>False</td>\n",
              "      <td>2.485087</td>\n",
              "      <td>6.659411</td>\n",
              "    </tr>\n",
              "    <tr>\n",
              "      <th>328</th>\n",
              "      <td>False</td>\n",
              "      <td>1.893695</td>\n",
              "      <td>6.812002</td>\n",
              "    </tr>\n",
              "    <tr>\n",
              "      <th>478</th>\n",
              "      <td>False</td>\n",
              "      <td>3.182114</td>\n",
              "      <td>5.342471</td>\n",
              "    </tr>\n",
              "    <tr>\n",
              "      <th>550</th>\n",
              "      <td>False</td>\n",
              "      <td>0.677101</td>\n",
              "      <td>7.061750</td>\n",
              "    </tr>\n",
              "    <tr>\n",
              "      <th>491</th>\n",
              "      <td>False</td>\n",
              "      <td>1.944537</td>\n",
              "      <td>6.185291</td>\n",
              "    </tr>\n",
              "    <tr>\n",
              "      <th>480</th>\n",
              "      <td>False</td>\n",
              "      <td>1.797997</td>\n",
              "      <td>5.957574</td>\n",
              "    </tr>\n",
              "  </tbody>\n",
              "</table>\n",
              "</div>"
            ],
            "text/plain": [
              "     treatment  y_factual  y_cfactual\n",
              "722      False   3.778649    6.770402\n",
              "688       True   7.342641    1.713163\n",
              "236      False   1.570458    6.437022\n",
              "154      False   3.546917    6.554049\n",
              "348      False   2.485087    6.659411\n",
              "328      False   1.893695    6.812002\n",
              "478      False   3.182114    5.342471\n",
              "550      False   0.677101    7.061750\n",
              "491      False   1.944537    6.185291\n",
              "480      False   1.797997    5.957574"
            ]
          },
          "metadata": {},
          "execution_count": 35
        }
      ]
    },
    {
      "cell_type": "code",
      "metadata": {
        "id": "3uT3SZeO1LMb"
      },
      "source": [
        "data['factualLessCouterFactual']=data.y_factual-data.y_cfactual"
      ],
      "execution_count": 31,
      "outputs": []
    },
    {
      "cell_type": "code",
      "metadata": {
        "id": "nu7U5L4d2Lq0"
      },
      "source": [
        ""
      ],
      "execution_count": null,
      "outputs": []
    },
    {
      "cell_type": "code",
      "metadata": {
        "colab": {
          "base_uri": "https://localhost:8080/",
          "height": 279
        },
        "id": "-1cYVooD2Lt8",
        "outputId": "c80ae5ac-ba77-491c-f89c-5b76f7596b4a"
      },
      "source": [
        "ax = sns.swarmplot(data=data[['treatment','factualLessCouterFactual']], x=\"treatment\", y=\"factualLessCouterFactual\")"
      ],
      "execution_count": 36,
      "outputs": [
        {
          "output_type": "display_data",
          "data": {
            "image/png": "[encoded data removed]",
            "text/plain": [
              "<Figure size 432x288 with 1 Axes>"
            ]
          },
          "metadata": {
            "needs_background": "light"
          }
        }
      ]
    },
    {
      "cell_type": "code",
      "metadata": {
        "id": "KcJFCN7c0Kx2"
      },
      "source": [
        ""
      ],
      "execution_count": null,
      "outputs": []
    },
    {
      "cell_type": "code",
      "metadata": {
        "id": "C2MHuwLEz6Uo"
      },
      "source": [
        ""
      ],
      "execution_count": null,
      "outputs": []
    }
  ]
}