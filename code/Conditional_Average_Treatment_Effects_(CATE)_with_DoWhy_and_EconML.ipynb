{
  "nbformat": 4,
  "nbformat_minor": 0,
  "metadata": {
    "colab": {
      "name": "Conditional Average Treatment Effects (CATE) with DoWhy and EconML.ipynb",
      "provenance": [],
      "collapsed_sections": [],
      "authorship_tag": "ABX9TyOv3XYBPAmGQw7zZ37i1z8q",
      "include_colab_link": true
    },
    "kernelspec": {
      "name": "python3",
      "display_name": "Python 3"
    },
    "language_info": {
      "name": "python"
    }
  },
  "cells": [
    {
      "cell_type": "markdown",
      "metadata": {
        "id": "view-in-github",
        "colab_type": "text"
      },
      "source": [
        "<a href=\"https://colab.research.google.com/github/thousandoaks/Intro-Causal-Inference/blob/main/code/Conditional_Average_Treatment_Effects_(CATE)_with_DoWhy_and_EconML.ipynb\" target=\"_parent\"><img src=\"https://colab.research.google.com/assets/colab-badge.svg\" alt=\"Open In Colab\"/></a>"
      ]
    },
    {
      "cell_type": "code",
      "metadata": {
        "colab": {
          "base_uri": "https://localhost:8080/"
        },
        "id": "_oqjLPiuQylc",
        "outputId": "5a7fa231-7f09-4a94-9856-b9aa9dd01767"
      },
      "source": [
        "pip install dowhy"
      ],
      "execution_count": null,
      "outputs": [
        {
          "output_type": "stream",
          "text": [
            "\u001b[31mERROR: Invalid requirement: 'dowhy,econml'\u001b[0m\n"
          ],
          "name": "stdout"
        }
      ]
    },
    {
      "cell_type": "code",
      "metadata": {
        "colab": {
          "base_uri": "https://localhost:8080/"
        },
        "id": "HidZTzn3RDCh",
        "outputId": "31b2c6e1-3f8e-4228-a195-524744c035c0"
      },
      "source": [
        "pip install econml"
      ],
      "execution_count": null,
      "outputs": [
        {
          "output_type": "stream",
          "text": [
            "Collecting econml\n",
            "  Downloading econml-0.12.0-cp37-cp37m-manylinux_2_5_x86_64.manylinux1_x86_64.manylinux_2_12_x86_64.manylinux2010_x86_64.whl (3.1 MB)\n",
            "\u001b[K     |████████████████████████████████| 3.1 MB 4.8 MB/s \n",
            "\u001b[?25hCollecting sparse\n",
            "  Downloading sparse-0.12.0-py2.py3-none-any.whl (76 kB)\n",
            "\u001b[K     |████████████████████████████████| 76 kB 4.8 MB/s \n",
            "\u001b[?25hRequirement already satisfied: joblib>=0.13.0 in /usr/local/lib/python3.7/dist-packages (from econml) (1.0.1)\n",
            "Requirement already satisfied: numba!=0.42.1 in /usr/local/lib/python3.7/dist-packages (from econml) (0.51.2)\n",
            "Requirement already satisfied: scikit-learn>0.22.0 in /usr/local/lib/python3.7/dist-packages (from econml) (0.22.2.post1)\n",
            "Requirement already satisfied: pandas in /usr/local/lib/python3.7/dist-packages (from econml) (1.1.5)\n",
            "Requirement already satisfied: lightgbm in /usr/local/lib/python3.7/dist-packages (from econml) (2.2.3)\n",
            "Requirement already satisfied: scipy>1.4.0 in /usr/local/lib/python3.7/dist-packages (from econml) (1.4.1)\n",
            "Requirement already satisfied: statsmodels>=0.10 in /usr/local/lib/python3.7/dist-packages (from econml) (0.10.2)\n",
            "Requirement already satisfied: numpy in /usr/local/lib/python3.7/dist-packages (from econml) (1.19.5)\n",
            "Requirement already satisfied: dowhy in /usr/local/lib/python3.7/dist-packages (from econml) (0.6)\n",
            "Collecting shap<0.40.0,>=0.38.1\n",
            "  Downloading shap-0.39.0.tar.gz (356 kB)\n",
            "\u001b[K     |████████████████████████████████| 356 kB 50.5 MB/s \n",
            "\u001b[?25hRequirement already satisfied: setuptools in /usr/local/lib/python3.7/dist-packages (from numba!=0.42.1->econml) (57.4.0)\n",
            "Requirement already satisfied: llvmlite<0.35,>=0.34.0.dev0 in /usr/local/lib/python3.7/dist-packages (from numba!=0.42.1->econml) (0.34.0)\n",
            "Requirement already satisfied: tqdm>4.25.0 in /usr/local/lib/python3.7/dist-packages (from shap<0.40.0,>=0.38.1->econml) (4.62.0)\n",
            "Collecting slicer==0.0.7\n",
            "  Downloading slicer-0.0.7-py3-none-any.whl (14 kB)\n",
            "Requirement already satisfied: cloudpickle in /usr/local/lib/python3.7/dist-packages (from shap<0.40.0,>=0.38.1->econml) (1.3.0)\n",
            "Requirement already satisfied: patsy>=0.4.0 in /usr/local/lib/python3.7/dist-packages (from statsmodels>=0.10->econml) (0.5.1)\n",
            "Requirement already satisfied: pytz>=2017.2 in /usr/local/lib/python3.7/dist-packages (from pandas->econml) (2018.9)\n",
            "Requirement already satisfied: python-dateutil>=2.7.3 in /usr/local/lib/python3.7/dist-packages (from pandas->econml) (2.8.2)\n",
            "Requirement already satisfied: six in /usr/local/lib/python3.7/dist-packages (from patsy>=0.4.0->statsmodels>=0.10->econml) (1.15.0)\n",
            "Requirement already satisfied: pydot>=1.4 in /usr/local/lib/python3.7/dist-packages (from dowhy->econml) (1.4.2)\n",
            "Requirement already satisfied: sympy>=1.4 in /usr/local/lib/python3.7/dist-packages (from dowhy->econml) (1.7.1)\n",
            "Requirement already satisfied: networkx>=2.0 in /usr/local/lib/python3.7/dist-packages (from dowhy->econml) (2.6.2)\n",
            "Requirement already satisfied: pyparsing>=2.1.4 in /usr/local/lib/python3.7/dist-packages (from pydot>=1.4->dowhy->econml) (2.4.7)\n",
            "Requirement already satisfied: mpmath>=0.19 in /usr/local/lib/python3.7/dist-packages (from sympy>=1.4->dowhy->econml) (1.2.1)\n",
            "Building wheels for collected packages: shap\n",
            "  Building wheel for shap (setup.py) ... \u001b[?25l\u001b[?25hdone\n",
            "  Created wheel for shap: filename=shap-0.39.0-cp37-cp37m-linux_x86_64.whl size=491644 sha256=3ad536b658314a1183b4d93b127cdf80599e6f840605d0aa6fb3000f9af4bdbd\n",
            "  Stored in directory: /root/.cache/pip/wheels/ca/25/8f/6ae5df62c32651cd719e972e738a8aaa4a87414c4d2b14c9c0\n",
            "Successfully built shap\n",
            "Installing collected packages: slicer, sparse, shap, econml\n",
            "Successfully installed econml-0.12.0 shap-0.39.0 slicer-0.0.7 sparse-0.12.0\n"
          ],
          "name": "stdout"
        }
      ]
    },
    {
      "cell_type": "code",
      "metadata": {
        "id": "-mBdl0keQ7Wp"
      },
      "source": [
        "import numpy as np\n",
        "import pandas as pd\n",
        "import logging\n",
        "\n",
        "import dowhy\n",
        "from dowhy import CausalModel\n",
        "import dowhy.datasets\n",
        "\n",
        "import econml\n",
        "import warnings\n",
        "warnings.filterwarnings('ignore')\n",
        "\n",
        "BETA = 10"
      ],
      "execution_count": null,
      "outputs": []
    },
    {
      "cell_type": "code",
      "metadata": {
        "id": "okrHvLGEWBPG"
      },
      "source": [
        "from sklearn.preprocessing import PolynomialFeatures\n",
        "from sklearn.linear_model import LassoCV\n",
        "from sklearn.ensemble import GradientBoostingRegressor"
      ],
      "execution_count": null,
      "outputs": []
    },
    {
      "cell_type": "code",
      "metadata": {
        "colab": {
          "base_uri": "https://localhost:8080/"
        },
        "id": "KbK5qyWaQ7cm",
        "outputId": "3a73f9c9-d784-47af-c462-371709a353f2"
      },
      "source": [
        "data = dowhy.datasets.linear_dataset(BETA, num_common_causes=4, num_samples=10000,\n",
        "                                    num_instruments=2, num_effect_modifiers=2,\n",
        "                                     num_treatments=1,\n",
        "                                    treatment_is_binary=False,\n",
        "                                    num_discrete_common_causes=2,\n",
        "                                    num_discrete_effect_modifiers=0,\n",
        "                                    one_hot_encode=False)\n",
        "df=data['df']\n",
        "print(df.head())\n",
        "print(\"True causal estimate is\", data[\"ate\"])\n"
      ],
      "execution_count": null,
      "outputs": [
        {
          "output_type": "stream",
          "text": [
            "         X0        X1   Z0        Z1  ...  W2  W3         v0           y\n",
            "0 -0.242667 -1.702520  1.0  0.945718  ...   2   1  28.664404  168.092648\n",
            "1  0.428980 -1.319788  1.0  0.985538  ...   3   1  27.286892  219.683883\n",
            "2 -0.529471 -0.431979  0.0  0.236021  ...   3   2  13.608778  117.556335\n",
            "3 -0.115640 -1.075329  0.0  0.963527  ...   1   3  20.680448  161.691127\n",
            "4  0.058297 -0.046161  1.0  0.717328  ...   3   1  25.912276  269.321081\n",
            "\n",
            "[5 rows x 10 columns]\n",
            "True causal estimate is 11.01114410071968\n"
          ],
          "name": "stdout"
        }
      ]
    },
    {
      "cell_type": "code",
      "metadata": {
        "colab": {
          "base_uri": "https://localhost:8080/"
        },
        "id": "WrxFAjOlQ7fX",
        "outputId": "24309fa5-b790-4927-e798-bce96b849018"
      },
      "source": [
        "df.info()"
      ],
      "execution_count": null,
      "outputs": [
        {
          "output_type": "stream",
          "text": [
            "<class 'pandas.core.frame.DataFrame'>\n",
            "RangeIndex: 10000 entries, 0 to 9999\n",
            "Data columns (total 10 columns):\n",
            " #   Column  Non-Null Count  Dtype   \n",
            "---  ------  --------------  -----   \n",
            " 0   X0      10000 non-null  float64 \n",
            " 1   X1      10000 non-null  float64 \n",
            " 2   Z0      10000 non-null  float64 \n",
            " 3   Z1      10000 non-null  float64 \n",
            " 4   W0      10000 non-null  float64 \n",
            " 5   W1      10000 non-null  float64 \n",
            " 6   W2      10000 non-null  category\n",
            " 7   W3      10000 non-null  category\n",
            " 8   v0      10000 non-null  float64 \n",
            " 9   y       10000 non-null  float64 \n",
            "dtypes: category(2), float64(8)\n",
            "memory usage: 645.0 KB\n"
          ],
          "name": "stdout"
        }
      ]
    },
    {
      "cell_type": "markdown",
      "metadata": {
        "id": "pzuqY8LWTtNq"
      },
      "source": [
        "# Step1. Causal Modelling"
      ]
    },
    {
      "cell_type": "code",
      "metadata": {
        "id": "2nkPB6LBRPP0"
      },
      "source": [
        "model = CausalModel(data=data[\"df\"],\n",
        "                    treatment=data[\"treatment_name\"], outcome=data[\"outcome_name\"],\n",
        "                    graph=data[\"gml_graph\"])"
      ],
      "execution_count": null,
      "outputs": []
    },
    {
      "cell_type": "code",
      "metadata": {
        "colab": {
          "base_uri": "https://localhost:8080/",
          "height": 248
        },
        "id": "xYR_6c6qRWms",
        "outputId": "5407e51d-7afb-4c5a-b64e-c70e3aa192ad"
      },
      "source": [
        "model.view_model();\n"
      ],
      "execution_count": null,
      "outputs": [
        {
          "output_type": "display_data",
          "data": {
            "image/png": "[encoded data removed]",
            "text/plain": [
              "<Figure size 432x288 with 1 Axes>"
            ]
          },
          "metadata": {}
        }
      ]
    },
    {
      "cell_type": "code",
      "metadata": {
        "id": "rZR15Iq-Rdpo"
      },
      "source": [
        ""
      ],
      "execution_count": null,
      "outputs": []
    },
    {
      "cell_type": "markdown",
      "metadata": {
        "id": "TN8Z8SAZTh0a"
      },
      "source": [
        "# Step 2. Identify"
      ]
    },
    {
      "cell_type": "code",
      "metadata": {
        "colab": {
          "base_uri": "https://localhost:8080/"
        },
        "id": "I2LkHH7gT0cZ",
        "outputId": "fd7e8ca6-0708-449f-baec-27a34245b0e6"
      },
      "source": [
        "identified_estimand= model.identify_effect(proceed_when_unidentifiable=True)\n",
        "print(identified_estimand)"
      ],
      "execution_count": null,
      "outputs": [
        {
          "output_type": "stream",
          "text": [
            "Estimand type: nonparametric-ate\n",
            "\n",
            "### Estimand : 1\n",
            "Estimand name: backdoor\n",
            "Estimand expression:\n",
            "  d                                    \n",
            "─────(Expectation(y|W2,W3,X0,W1,X1,W0))\n",
            "d[v₀]                                  \n",
            "Estimand assumption 1, Unconfoundedness: If U→{v0} and U→y then P(y|v0,W2,W3,X0,W1,X1,W0,U) = P(y|v0,W2,W3,X0,W1,X1,W0)\n",
            "\n",
            "### Estimand : 2\n",
            "Estimand name: iv\n",
            "Estimand expression:\n",
            "Expectation(Derivative(y, [Z1, Z0])*Derivative([v0], [Z1, Z0])**(-1))\n",
            "Estimand assumption 1, As-if-random: If U→→y then ¬(U →→{Z1,Z0})\n",
            "Estimand assumption 2, Exclusion: If we remove {Z1,Z0}→{v0}, then ¬({Z1,Z0}→y)\n",
            "\n",
            "### Estimand : 3\n",
            "Estimand name: frontdoor\n",
            "No such variable found!\n",
            "\n"
          ],
          "name": "stdout"
        }
      ]
    },
    {
      "cell_type": "code",
      "metadata": {
        "id": "oYjfetmVT0ew"
      },
      "source": [
        ""
      ],
      "execution_count": null,
      "outputs": []
    },
    {
      "cell_type": "markdown",
      "metadata": {
        "id": "am-oK-9BT6uT"
      },
      "source": [
        "# Step 3.Estimate (DoWhy-based approach~)"
      ]
    },
    {
      "cell_type": "code",
      "metadata": {
        "colab": {
          "base_uri": "https://localhost:8080/"
        },
        "id": "iWTeapfaT_Sq",
        "outputId": "45beb25b-efc5-4992-f22b-0fb0799b8747"
      },
      "source": [
        "linear_estimate = model.estimate_effect(identified_estimand,\n",
        "                                        method_name=\"backdoor.linear_regression\",\n",
        "                                       control_value=0,\n",
        "                                       treatment_value=1)\n",
        "print(linear_estimate)"
      ],
      "execution_count": null,
      "outputs": [
        {
          "output_type": "stream",
          "text": [
            "*** Causal Estimate ***\n",
            "\n",
            "## Identified estimand\n",
            "Estimand type: nonparametric-ate\n",
            "\n",
            "### Estimand : 1\n",
            "Estimand name: backdoor\n",
            "Estimand expression:\n",
            "  d                                    \n",
            "─────(Expectation(y|W2,W3,X0,W1,X1,W0))\n",
            "d[v₀]                                  \n",
            "Estimand assumption 1, Unconfoundedness: If U→{v0} and U→y then P(y|v0,W2,W3,X0,W1,X1,W0,U) = P(y|v0,W2,W3,X0,W1,X1,W0)\n",
            "\n",
            "## Realized estimand\n",
            "b: y~v0+W2+W3+X0+W1+X1+W0+v0*X0+v0*X1\n",
            "Target units: ate\n",
            "\n",
            "## Estimate\n",
            "Mean value: 11.011327394998634\n",
            "### Conditional Estimates\n",
            "__categorical__X0  __categorical__X1\n",
            "(-2.913, -0.169]   (-3.826, -1.045]      4.610188\n",
            "                   (-1.045, -0.456]      6.683854\n",
            "                   (-0.456, 0.0493]      7.884535\n",
            "                   (0.0493, 0.652]       9.090551\n",
            "                   (0.652, 3.427]       11.389072\n",
            "(-0.169, 0.413]    (-3.826, -1.045]      6.724354\n",
            "                   (-1.045, -0.456]      8.621599\n",
            "                   (-0.456, 0.0493]      9.796304\n",
            "                   (0.0493, 0.652]      11.103558\n",
            "                   (0.652, 3.427]       13.172548\n",
            "(0.413, 0.907]     (-3.826, -1.045]      7.869806\n",
            "                   (-1.045, -0.456]      9.805003\n",
            "                   (-0.456, 0.0493]     10.997334\n",
            "                   (0.0493, 0.652]      12.257253\n",
            "                   (0.652, 3.427]       14.175066\n",
            "(0.907, 1.496]     (-3.826, -1.045]      8.965967\n",
            "                   (-1.045, -0.456]     10.924795\n",
            "                   (-0.456, 0.0493]     12.143226\n",
            "                   (0.0493, 0.652]      13.439425\n",
            "                   (0.652, 3.427]       15.331315\n",
            "(1.496, 4.379]     (-3.826, -1.045]     10.847215\n",
            "                   (-1.045, -0.456]     12.852981\n",
            "                   (-0.456, 0.0493]     14.125663\n",
            "                   (0.0493, 0.652]      15.201159\n",
            "                   (0.652, 3.427]       17.273418\n",
            "dtype: float64\n"
          ],
          "name": "stdout"
        }
      ]
    },
    {
      "cell_type": "code",
      "metadata": {
        "colab": {
          "base_uri": "https://localhost:8080/"
        },
        "id": "V4e9XPchVgOD",
        "outputId": "12080db7-1b92-461a-cf55-ed079c32088e"
      },
      "source": [
        "print(\"True causal estimate is\", data[\"ate\"])"
      ],
      "execution_count": null,
      "outputs": [
        {
          "output_type": "stream",
          "text": [
            "True causal estimate is 11.01114410071968\n"
          ],
          "name": "stdout"
        }
      ]
    },
    {
      "cell_type": "code",
      "metadata": {
        "id": "3_tovqJMVlr6"
      },
      "source": [
        ""
      ],
      "execution_count": null,
      "outputs": []
    },
    {
      "cell_type": "code",
      "metadata": {
        "id": "wbcovHdOVlum"
      },
      "source": [
        ""
      ],
      "execution_count": null,
      "outputs": []
    },
    {
      "cell_type": "markdown",
      "metadata": {
        "id": "YzKWrlL3Vnzb"
      },
      "source": [
        "# Step 3.Estimate (EconML approach)"
      ]
    },
    {
      "cell_type": "code",
      "metadata": {
        "colab": {
          "base_uri": "https://localhost:8080/"
        },
        "id": "8V_TmuBnV45N",
        "outputId": "35fb7bff-da84-48b9-c0d1-29a5d580661a"
      },
      "source": [
        "dml_estimate = model.estimate_effect(identified_estimand, method_name=\"backdoor.econml.dml.DML\",\n",
        "                                     control_value = 0,\n",
        "                                     treatment_value = 1,\n",
        "                                 target_units = 1,  # condition used for CATE\n",
        "                                 confidence_intervals=False,\n",
        "                                method_params={\"init_params\":{'model_y':GradientBoostingRegressor(),\n",
        "                                                              'model_t': GradientBoostingRegressor(),\n",
        "                                                              \"model_final\":LassoCV(fit_intercept=False),\n",
        "                                                              'featurizer':PolynomialFeatures(degree=1, include_bias=True)},\n",
        "                                               \"fit_params\":{}})\n",
        "print(dml_estimate)"
      ],
      "execution_count": null,
      "outputs": [
        {
          "output_type": "stream",
          "text": [
            "*** Causal Estimate ***\n",
            "\n",
            "## Identified estimand\n",
            "Estimand type: nonparametric-ate\n",
            "\n",
            "### Estimand : 1\n",
            "Estimand name: backdoor\n",
            "Estimand expression:\n",
            "  d                                    \n",
            "─────(Expectation(y|W2,W3,X0,W1,X1,W0))\n",
            "d[v₀]                                  \n",
            "Estimand assumption 1, Unconfoundedness: If U→{v0} and U→y then P(y|v0,W2,W3,X0,W1,X1,W0,U) = P(y|v0,W2,W3,X0,W1,X1,W0)\n",
            "\n",
            "## Realized estimand\n",
            "b: y~v0+W2+W3+X0+W1+X1+W0 | X0,X1\n",
            "Target units: \n",
            "\n",
            "## Estimate\n",
            "Mean value: 10.976657674815494\n",
            "Effect estimates: [ 5.39825457  7.80003532  7.79008551 ... 10.95664346  9.72970634\n",
            "  9.5712594 ]\n",
            "\n"
          ],
          "name": "stdout"
        }
      ]
    },
    {
      "cell_type": "code",
      "metadata": {
        "colab": {
          "base_uri": "https://localhost:8080/"
        },
        "id": "oggsIFr3WNtd",
        "outputId": "0ab7abcd-0d89-4a95-d702-248469c2e93d"
      },
      "source": [
        "print(\"True causal estimate is\", data[\"ate\"])"
      ],
      "execution_count": null,
      "outputs": [
        {
          "output_type": "stream",
          "text": [
            "True causal estimate is 11.01114410071968\n"
          ],
          "name": "stdout"
        }
      ]
    },
    {
      "cell_type": "code",
      "metadata": {
        "id": "_rg2rTt1XD8N"
      },
      "source": [
        ""
      ],
      "execution_count": null,
      "outputs": []
    },
    {
      "cell_type": "code",
      "metadata": {
        "id": "xjTVvp_YXECK"
      },
      "source": [
        ""
      ],
      "execution_count": null,
      "outputs": []
    },
    {
      "cell_type": "markdown",
      "metadata": {
        "id": "lCBWavOfXF9Q"
      },
      "source": [
        "# Step 4.Refute"
      ]
    },
    {
      "cell_type": "code",
      "metadata": {
        "colab": {
          "base_uri": "https://localhost:8080/"
        },
        "id": "dWy_jchiXIhq",
        "outputId": "746b90f9-2d3d-49a6-ee98-b9fb6abbc5ee"
      },
      "source": [
        "res_random=model.refute_estimate(identified_estimand, dml_estimate, method_name=\"random_common_cause\")\n",
        "print(res_random)"
      ],
      "execution_count": null,
      "outputs": [
        {
          "output_type": "stream",
          "text": [
            "Refute: Add a Random Common Cause\n",
            "Estimated effect:10.976657674815494\n",
            "New effect:10.997538297972323\n",
            "\n"
          ],
          "name": "stdout"
        }
      ]
    }
  ]
}