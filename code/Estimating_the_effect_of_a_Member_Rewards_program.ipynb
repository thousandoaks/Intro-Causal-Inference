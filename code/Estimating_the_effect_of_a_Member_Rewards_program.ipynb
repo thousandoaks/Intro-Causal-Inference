{
  "nbformat": 4,
  "nbformat_minor": 0,
  "metadata": {
    "colab": {
      "name": "Estimating the effect of a Member Rewards program.ipynb",
      "provenance": [],
      "collapsed_sections": [],
      "authorship_tag": "ABX9TyOUEdwQ6J9Gj7HNV+vF6MYb",
      "include_colab_link": true
    },
    "kernelspec": {
      "name": "python3",
      "display_name": "Python 3"
    },
    "language_info": {
      "name": "python"
    }
  },
  "cells": [
    {
      "cell_type": "markdown",
      "metadata": {
        "id": "view-in-github",
        "colab_type": "text"
      },
      "source": [
        "<a href=\"https://colab.research.google.com/github/thousandoaks/Intro-Causal-Inference/blob/main/code/Estimating_the_effect_of_a_Member_Rewards_program.ipynb\" target=\"_parent\"><img src=\"https://colab.research.google.com/assets/colab-badge.svg\" alt=\"Open In Colab\"/></a>"
      ]
    },
    {
      "cell_type": "markdown",
      "metadata": {
        "id": "TVPy-SlbXw_b"
      },
      "source": [
        "Suppose that a website has a membership rewards program where customers receive additional benefits if they sign up. How do we know if the program is effective? Here the relevant causal question is: > What is the impact of offering the membership rewards program on total sales?\n",
        "\n",
        "And the equivalent counterfactual question is, > If the current members had not signed up for the program, how much less would they have spent on the website?\n",
        "\n",
        "In formal language, we are interested in the Average Treatment Effect on the Treated (ATT)."
      ]
    },
    {
      "cell_type": "code",
      "metadata": {
        "id": "aP-2vHJWX0zM"
      },
      "source": [
        ""
      ],
      "execution_count": null,
      "outputs": []
    },
    {
      "cell_type": "code",
      "metadata": {
        "colab": {
          "base_uri": "https://localhost:8080/"
        },
        "id": "VDvWDLekX01s",
        "outputId": "02a433fb-d8d0-4733-bfc9-4cac4bfc1ee2"
      },
      "source": [
        "pip install dowhy"
      ],
      "execution_count": 13,
      "outputs": [
        {
          "output_type": "stream",
          "text": [
            "Requirement already satisfied: dowhy in /usr/local/lib/python3.7/dist-packages (0.6)\n",
            "Requirement already satisfied: pydot>=1.4 in /usr/local/lib/python3.7/dist-packages (from dowhy) (1.4.2)\n",
            "Requirement already satisfied: statsmodels in /usr/local/lib/python3.7/dist-packages (from dowhy) (0.10.2)\n",
            "Requirement already satisfied: scikit-learn in /usr/local/lib/python3.7/dist-packages (from dowhy) (0.22.2.post1)\n",
            "Requirement already satisfied: networkx>=2.0 in /usr/local/lib/python3.7/dist-packages (from dowhy) (2.6.2)\n",
            "Requirement already satisfied: sympy>=1.4 in /usr/local/lib/python3.7/dist-packages (from dowhy) (1.7.1)\n",
            "Requirement already satisfied: numpy>=1.15 in /usr/local/lib/python3.7/dist-packages (from dowhy) (1.19.5)\n",
            "Requirement already satisfied: pandas>=0.24 in /usr/local/lib/python3.7/dist-packages (from dowhy) (1.1.5)\n",
            "Requirement already satisfied: scipy in /usr/local/lib/python3.7/dist-packages (from dowhy) (1.4.1)\n",
            "Requirement already satisfied: pytz>=2017.2 in /usr/local/lib/python3.7/dist-packages (from pandas>=0.24->dowhy) (2018.9)\n",
            "Requirement already satisfied: python-dateutil>=2.7.3 in /usr/local/lib/python3.7/dist-packages (from pandas>=0.24->dowhy) (2.8.2)\n",
            "Requirement already satisfied: pyparsing>=2.1.4 in /usr/local/lib/python3.7/dist-packages (from pydot>=1.4->dowhy) (2.4.7)\n",
            "Requirement already satisfied: six>=1.5 in /usr/local/lib/python3.7/dist-packages (from python-dateutil>=2.7.3->pandas>=0.24->dowhy) (1.15.0)\n",
            "Requirement already satisfied: mpmath>=0.19 in /usr/local/lib/python3.7/dist-packages (from sympy>=1.4->dowhy) (1.2.1)\n",
            "Requirement already satisfied: joblib>=0.11 in /usr/local/lib/python3.7/dist-packages (from scikit-learn->dowhy) (1.0.1)\n",
            "Requirement already satisfied: patsy>=0.4.0 in /usr/local/lib/python3.7/dist-packages (from statsmodels->dowhy) (0.5.1)\n"
          ],
          "name": "stdout"
        }
      ]
    },
    {
      "cell_type": "code",
      "metadata": {
        "id": "idGv5SdZeVZB"
      },
      "source": [
        "import dowhy"
      ],
      "execution_count": 14,
      "outputs": []
    },
    {
      "cell_type": "code",
      "metadata": {
        "id": "7dM0b8jdaPfL"
      },
      "source": [
        "from scipy import stats"
      ],
      "execution_count": 3,
      "outputs": []
    },
    {
      "cell_type": "markdown",
      "metadata": {
        "id": "eadKvwE6X75N"
      },
      "source": [
        "## 0. Data exploration"
      ]
    },
    {
      "cell_type": "markdown",
      "metadata": {
        "id": "0S6t369iYBaq"
      },
      "source": [
        "Suppose that the rewards program was introduced in January 2019. The outcome variable is the total spends at the end of the year. We have data on all monthly transactions of every user and on the time of signup for those who chose to signup for the rewards program. Here’s what the data looks like."
      ]
    },
    {
      "cell_type": "code",
      "metadata": {
        "colab": {
          "base_uri": "https://localhost:8080/",
          "height": 419
        },
        "id": "S7wzhpEiX06a",
        "outputId": "f93bc55b-6306-437d-970b-8c29471211a2"
      },
      "source": [
        "# Creating some simulated data for our example example\n",
        "import pandas as pd\n",
        "import numpy as np\n",
        "num_users = 10000\n",
        "num_months = 12\n",
        "\n",
        "signup_months = np.random.choice(np.arange(1, num_months), num_users) * np.random.randint(0,2, size=num_users)\n",
        "df = pd.DataFrame({\n",
        "    'user_id': np.repeat(np.arange(num_users), num_months),\n",
        "    'signup_month': np.repeat(signup_months, num_months), # signup month == 0 means customer did not sign up\n",
        "    'month': np.tile(np.arange(1, num_months+1), num_users), # months are from 1 to 12\n",
        "    'spend': np.random.poisson(500, num_users*num_months) #np.random.beta(a=2, b=5, size=num_users * num_months)*1000 # centered at 500\n",
        "})\n",
        "# Assigning a treatment value based on the signup month\n",
        "df[\"treatment\"] = (1-(df[\"signup_month\"]==0)).astype(bool)\n",
        "# Simulating effect of month (monotonically increasing--customers buy the most in December)\n",
        "df[\"spend\"] = df[\"spend\"] - df[\"month\"]*10\n",
        "# The treatment effect (simulating a simple treatment effect of 100)\n",
        "after_signup = (df[\"signup_month\"] < df[\"month\"]) & (df[\"signup_month\"] !=0)\n",
        "df.loc[after_signup,\"spend\"] = df[after_signup][\"spend\"] + 100\n",
        "df"
      ],
      "execution_count": 2,
      "outputs": [
        {
          "output_type": "execute_result",
          "data": {
            "text/html": [
              "<div>\n",
              "<style scoped>\n",
              "    .dataframe tbody tr th:only-of-type {\n",
              "        vertical-align: middle;\n",
              "    }\n",
              "\n",
              "    .dataframe tbody tr th {\n",
              "        vertical-align: top;\n",
              "    }\n",
              "\n",
              "    .dataframe thead th {\n",
              "        text-align: right;\n",
              "    }\n",
              "</style>\n",
              "<table border=\"1\" class=\"dataframe\">\n",
              "  <thead>\n",
              "    <tr style=\"text-align: right;\">\n",
              "      <th></th>\n",
              "      <th>user_id</th>\n",
              "      <th>signup_month</th>\n",
              "      <th>month</th>\n",
              "      <th>spend</th>\n",
              "      <th>treatment</th>\n",
              "    </tr>\n",
              "  </thead>\n",
              "  <tbody>\n",
              "    <tr>\n",
              "      <th>0</th>\n",
              "      <td>0</td>\n",
              "      <td>0</td>\n",
              "      <td>1</td>\n",
              "      <td>480</td>\n",
              "      <td>False</td>\n",
              "    </tr>\n",
              "    <tr>\n",
              "      <th>1</th>\n",
              "      <td>0</td>\n",
              "      <td>0</td>\n",
              "      <td>2</td>\n",
              "      <td>463</td>\n",
              "      <td>False</td>\n",
              "    </tr>\n",
              "    <tr>\n",
              "      <th>2</th>\n",
              "      <td>0</td>\n",
              "      <td>0</td>\n",
              "      <td>3</td>\n",
              "      <td>456</td>\n",
              "      <td>False</td>\n",
              "    </tr>\n",
              "    <tr>\n",
              "      <th>3</th>\n",
              "      <td>0</td>\n",
              "      <td>0</td>\n",
              "      <td>4</td>\n",
              "      <td>517</td>\n",
              "      <td>False</td>\n",
              "    </tr>\n",
              "    <tr>\n",
              "      <th>4</th>\n",
              "      <td>0</td>\n",
              "      <td>0</td>\n",
              "      <td>5</td>\n",
              "      <td>470</td>\n",
              "      <td>False</td>\n",
              "    </tr>\n",
              "    <tr>\n",
              "      <th>...</th>\n",
              "      <td>...</td>\n",
              "      <td>...</td>\n",
              "      <td>...</td>\n",
              "      <td>...</td>\n",
              "      <td>...</td>\n",
              "    </tr>\n",
              "    <tr>\n",
              "      <th>119995</th>\n",
              "      <td>9999</td>\n",
              "      <td>3</td>\n",
              "      <td>8</td>\n",
              "      <td>489</td>\n",
              "      <td>True</td>\n",
              "    </tr>\n",
              "    <tr>\n",
              "      <th>119996</th>\n",
              "      <td>9999</td>\n",
              "      <td>3</td>\n",
              "      <td>9</td>\n",
              "      <td>499</td>\n",
              "      <td>True</td>\n",
              "    </tr>\n",
              "    <tr>\n",
              "      <th>119997</th>\n",
              "      <td>9999</td>\n",
              "      <td>3</td>\n",
              "      <td>10</td>\n",
              "      <td>478</td>\n",
              "      <td>True</td>\n",
              "    </tr>\n",
              "    <tr>\n",
              "      <th>119998</th>\n",
              "      <td>9999</td>\n",
              "      <td>3</td>\n",
              "      <td>11</td>\n",
              "      <td>518</td>\n",
              "      <td>True</td>\n",
              "    </tr>\n",
              "    <tr>\n",
              "      <th>119999</th>\n",
              "      <td>9999</td>\n",
              "      <td>3</td>\n",
              "      <td>12</td>\n",
              "      <td>480</td>\n",
              "      <td>True</td>\n",
              "    </tr>\n",
              "  </tbody>\n",
              "</table>\n",
              "<p>120000 rows × 5 columns</p>\n",
              "</div>"
            ],
            "text/plain": [
              "        user_id  signup_month  month  spend  treatment\n",
              "0             0             0      1    480      False\n",
              "1             0             0      2    463      False\n",
              "2             0             0      3    456      False\n",
              "3             0             0      4    517      False\n",
              "4             0             0      5    470      False\n",
              "...         ...           ...    ...    ...        ...\n",
              "119995     9999             3      8    489       True\n",
              "119996     9999             3      9    499       True\n",
              "119997     9999             3     10    478       True\n",
              "119998     9999             3     11    518       True\n",
              "119999     9999             3     12    480       True\n",
              "\n",
              "[120000 rows x 5 columns]"
            ]
          },
          "metadata": {},
          "execution_count": 2
        }
      ]
    },
    {
      "cell_type": "markdown",
      "metadata": {
        "id": "2HGjTgiriInD"
      },
      "source": [
        "## Please observe that, for the syntetic data, the effect on spending of being in the reward programme is 100 monetary units"
      ]
    },
    {
      "cell_type": "code",
      "metadata": {
        "colab": {
          "base_uri": "https://localhost:8080/",
          "height": 421
        },
        "id": "LG_lFnQbX08h",
        "outputId": "2b24caad-1a7e-46ce-c296-926617ad42c4"
      },
      "source": [
        "df[df['user_id']==0]"
      ],
      "execution_count": 7,
      "outputs": [
        {
          "output_type": "execute_result",
          "data": {
            "text/html": [
              "<div>\n",
              "<style scoped>\n",
              "    .dataframe tbody tr th:only-of-type {\n",
              "        vertical-align: middle;\n",
              "    }\n",
              "\n",
              "    .dataframe tbody tr th {\n",
              "        vertical-align: top;\n",
              "    }\n",
              "\n",
              "    .dataframe thead th {\n",
              "        text-align: right;\n",
              "    }\n",
              "</style>\n",
              "<table border=\"1\" class=\"dataframe\">\n",
              "  <thead>\n",
              "    <tr style=\"text-align: right;\">\n",
              "      <th></th>\n",
              "      <th>user_id</th>\n",
              "      <th>signup_month</th>\n",
              "      <th>month</th>\n",
              "      <th>spend</th>\n",
              "      <th>treatment</th>\n",
              "    </tr>\n",
              "  </thead>\n",
              "  <tbody>\n",
              "    <tr>\n",
              "      <th>0</th>\n",
              "      <td>0</td>\n",
              "      <td>0</td>\n",
              "      <td>1</td>\n",
              "      <td>480</td>\n",
              "      <td>False</td>\n",
              "    </tr>\n",
              "    <tr>\n",
              "      <th>1</th>\n",
              "      <td>0</td>\n",
              "      <td>0</td>\n",
              "      <td>2</td>\n",
              "      <td>463</td>\n",
              "      <td>False</td>\n",
              "    </tr>\n",
              "    <tr>\n",
              "      <th>2</th>\n",
              "      <td>0</td>\n",
              "      <td>0</td>\n",
              "      <td>3</td>\n",
              "      <td>456</td>\n",
              "      <td>False</td>\n",
              "    </tr>\n",
              "    <tr>\n",
              "      <th>3</th>\n",
              "      <td>0</td>\n",
              "      <td>0</td>\n",
              "      <td>4</td>\n",
              "      <td>517</td>\n",
              "      <td>False</td>\n",
              "    </tr>\n",
              "    <tr>\n",
              "      <th>4</th>\n",
              "      <td>0</td>\n",
              "      <td>0</td>\n",
              "      <td>5</td>\n",
              "      <td>470</td>\n",
              "      <td>False</td>\n",
              "    </tr>\n",
              "    <tr>\n",
              "      <th>5</th>\n",
              "      <td>0</td>\n",
              "      <td>0</td>\n",
              "      <td>6</td>\n",
              "      <td>431</td>\n",
              "      <td>False</td>\n",
              "    </tr>\n",
              "    <tr>\n",
              "      <th>6</th>\n",
              "      <td>0</td>\n",
              "      <td>0</td>\n",
              "      <td>7</td>\n",
              "      <td>415</td>\n",
              "      <td>False</td>\n",
              "    </tr>\n",
              "    <tr>\n",
              "      <th>7</th>\n",
              "      <td>0</td>\n",
              "      <td>0</td>\n",
              "      <td>8</td>\n",
              "      <td>452</td>\n",
              "      <td>False</td>\n",
              "    </tr>\n",
              "    <tr>\n",
              "      <th>8</th>\n",
              "      <td>0</td>\n",
              "      <td>0</td>\n",
              "      <td>9</td>\n",
              "      <td>390</td>\n",
              "      <td>False</td>\n",
              "    </tr>\n",
              "    <tr>\n",
              "      <th>9</th>\n",
              "      <td>0</td>\n",
              "      <td>0</td>\n",
              "      <td>10</td>\n",
              "      <td>422</td>\n",
              "      <td>False</td>\n",
              "    </tr>\n",
              "    <tr>\n",
              "      <th>10</th>\n",
              "      <td>0</td>\n",
              "      <td>0</td>\n",
              "      <td>11</td>\n",
              "      <td>395</td>\n",
              "      <td>False</td>\n",
              "    </tr>\n",
              "    <tr>\n",
              "      <th>11</th>\n",
              "      <td>0</td>\n",
              "      <td>0</td>\n",
              "      <td>12</td>\n",
              "      <td>349</td>\n",
              "      <td>False</td>\n",
              "    </tr>\n",
              "  </tbody>\n",
              "</table>\n",
              "</div>"
            ],
            "text/plain": [
              "    user_id  signup_month  month  spend  treatment\n",
              "0         0             0      1    480      False\n",
              "1         0             0      2    463      False\n",
              "2         0             0      3    456      False\n",
              "3         0             0      4    517      False\n",
              "4         0             0      5    470      False\n",
              "5         0             0      6    431      False\n",
              "6         0             0      7    415      False\n",
              "7         0             0      8    452      False\n",
              "8         0             0      9    390      False\n",
              "9         0             0     10    422      False\n",
              "10        0             0     11    395      False\n",
              "11        0             0     12    349      False"
            ]
          },
          "metadata": {},
          "execution_count": 7
        }
      ]
    },
    {
      "cell_type": "code",
      "metadata": {
        "colab": {
          "base_uri": "https://localhost:8080/",
          "height": 37
        },
        "id": "z64ZEgB8XyFM",
        "outputId": "009f6f8d-5b5e-42ea-ffab-8c33f205c4f1"
      },
      "source": [
        "stats.pearsonr(df['treatment'], df['spend'])"
      ],
      "execution_count": 76,
      "outputs": [
        {
          "output_type": "execute_result",
          "data": {
            "image/png": "[encoded data removed]",
            "text/latex": "$\\displaystyle \\left( 0.497600063534089, \\  0.0\\right)$",
            "text/plain": [
              "(0.4976000635340889, 0.0)"
            ]
          },
          "metadata": {},
          "execution_count": 76
        }
      ]
    },
    {
      "cell_type": "markdown",
      "metadata": {
        "id": "J9zzgBTcadQx"
      },
      "source": [
        "There seems to be a significant \"correlation\" between the rewards programme and spending"
      ]
    },
    {
      "cell_type": "code",
      "metadata": {
        "id": "BQ-K79lnaqfi"
      },
      "source": [
        ""
      ],
      "execution_count": null,
      "outputs": []
    },
    {
      "cell_type": "markdown",
      "metadata": {
        "id": "OTz3pxbab4R-"
      },
      "source": [
        "Time plays a crucial role in modeling this problem.\n",
        "\n",
        "Rewards signup can affect the future transactions. In fact, the transaction prior to the rewards signup can be assumed to cause the rewards signup decision. Therefore we can split up the variables for each user in terms of\n",
        "\n",
        "Activity prior to the treatment (causes the treatment)\n",
        "\n",
        "Activity after the treatment (is the outcome of applying treatment)\n",
        "\n",
        "Of course, many important variables that affect signup and total spend are missing (e.g., the type of products bought, length of a user’s account, geography, etc.). So we’ll need a node denoting Unobserved Confounders."
      ]
    },
    {
      "cell_type": "code",
      "metadata": {
        "id": "DYcgZOYQbiC6"
      },
      "source": [
        ""
      ],
      "execution_count": null,
      "outputs": []
    },
    {
      "cell_type": "code",
      "metadata": {
        "id": "lLpusFG6ipW1"
      },
      "source": [
        ""
      ],
      "execution_count": null,
      "outputs": []
    },
    {
      "cell_type": "code",
      "metadata": {
        "id": "wy2AftFiipZf"
      },
      "source": [
        ""
      ],
      "execution_count": null,
      "outputs": []
    },
    {
      "cell_type": "code",
      "metadata": {
        "id": "faMLyWnDoKOV"
      },
      "source": [
        ""
      ],
      "execution_count": null,
      "outputs": []
    },
    {
      "cell_type": "code",
      "metadata": {
        "id": "figiF4ubipeA"
      },
      "source": [
        ""
      ],
      "execution_count": null,
      "outputs": []
    },
    {
      "cell_type": "code",
      "metadata": {
        "id": "0bOtLsRoipgW"
      },
      "source": [
        ""
      ],
      "execution_count": null,
      "outputs": []
    },
    {
      "cell_type": "code",
      "metadata": {
        "id": "YNhYb98Cipi7"
      },
      "source": [
        ""
      ],
      "execution_count": null,
      "outputs": []
    },
    {
      "cell_type": "markdown",
      "metadata": {
        "id": "AE2e_iJidvaJ"
      },
      "source": [
        "# I. Formulating the causal model\n",
        "## Signing up in month 3"
      ]
    },
    {
      "cell_type": "code",
      "metadata": {
        "id": "fYL3AWsPd45g"
      },
      "source": [
        "i = 3"
      ],
      "execution_count": 8,
      "outputs": []
    },
    {
      "cell_type": "code",
      "metadata": {
        "colab": {
          "base_uri": "https://localhost:8080/"
        },
        "id": "DmvFYxGrd8TE",
        "outputId": "b1232e63-8f26-4ada-b5c3-0b8a0835ae77"
      },
      "source": [
        "# Post-process the data based on the graph and the month of the treatment (signup)\n",
        "df_i_signupmonth = df[df.signup_month.isin([0,i])].groupby([\"user_id\", \"signup_month\", \"treatment\"]).apply(\n",
        "    lambda x: pd.Series({'pre_spends': np.sum(np.where(x.month < i, x.spend,0))/np.sum(np.where(x.month<i, 1,0)),\n",
        "                        'post_spends': np.sum(np.where(x.month > i, x.spend,0))/np.sum(np.where(x.month>i, 1,0)) })\n",
        ").reset_index()\n",
        "print(df_i_signupmonth)"
      ],
      "execution_count": 51,
      "outputs": [
        {
          "output_type": "stream",
          "text": [
            "      user_id  signup_month  treatment  pre_spends  post_spends\n",
            "0           0             0      False  466.333333      415.500\n",
            "1           1             0      False  465.333333      415.000\n",
            "2           3             0      False  457.000000      408.375\n",
            "3           7             0      False  472.000000      424.375\n",
            "4           8             0      False  488.333333      407.875\n",
            "...       ...           ...        ...         ...          ...\n",
            "5355     9990             0      False  483.333333      427.375\n",
            "5356     9991             0      False  496.000000      416.000\n",
            "5357     9992             0      False  478.333333      415.875\n",
            "5358     9995             4       True  485.666667      512.625\n",
            "5359     9996             0      False  469.666667      431.500\n",
            "\n",
            "[5360 rows x 5 columns]\n"
          ],
          "name": "stdout"
        }
      ]
    },
    {
      "cell_type": "code",
      "metadata": {
        "id": "W37IO1Yrd_31"
      },
      "source": [
        "causal_graph = \"\"\"digraph {\n",
        "treatment[label=\"Program Signup in month i\"];\n",
        "pre_spends;\n",
        "post_spends;\n",
        "Z->treatment;\n",
        "U[label=\"Unobserved Confounders\"];\n",
        "pre_spends -> treatment;\n",
        "pre_spends -> post_spends;\n",
        "treatment->post_spends;\n",
        "signup_month->post_spends; signup_month->pre_spends;\n",
        "signup_month->treatment;\n",
        "U->treatment; U->pre_spends; U->post_spends;\n",
        "}\"\"\"\n"
      ],
      "execution_count": 57,
      "outputs": []
    },
    {
      "cell_type": "code",
      "metadata": {
        "colab": {
          "base_uri": "https://localhost:8080/",
          "height": 248
        },
        "id": "PvArMgJseQfq",
        "outputId": "ad452e80-c1d7-41c8-a083-8b84ac86299c"
      },
      "source": [
        "model = dowhy.CausalModel(data=df_i_signupmonth,\n",
        "                     graph=causal_graph.replace(\"\\n\", \" \"),\n",
        "                     treatment=\"treatment\",\n",
        "                     outcome=\"post_spends\")\n",
        "model.view_model()\n"
      ],
      "execution_count": 58,
      "outputs": [
        {
          "output_type": "display_data",
          "data": {
            "image/png": "[encoded data removed]",
            "text/plain": [
              "<Figure size 432x288 with 1 Axes>"
            ]
          },
          "metadata": {}
        }
      ]
    },
    {
      "cell_type": "code",
      "metadata": {
        "id": "52XIuGA4en_b"
      },
      "source": [
        ""
      ],
      "execution_count": null,
      "outputs": []
    },
    {
      "cell_type": "markdown",
      "metadata": {
        "id": "tqUn6ZLoeomJ"
      },
      "source": [
        "# II. Identifying the causal effect"
      ]
    },
    {
      "cell_type": "code",
      "metadata": {
        "colab": {
          "base_uri": "https://localhost:8080/"
        },
        "id": "r5LaVqLDepxz",
        "outputId": "d23d5499-0c39-4127-ab75-af8379554f90"
      },
      "source": [
        "identified_estimand = model.identify_effect(proceed_when_unidentifiable=True)\n",
        "print(identified_estimand)"
      ],
      "execution_count": 59,
      "outputs": [
        {
          "output_type": "stream",
          "text": [
            "Estimand type: nonparametric-ate\n",
            "\n",
            "### Estimand : 1\n",
            "Estimand name: backdoor\n",
            "Estimand expression:\n",
            "     d                                                        \n",
            "────────────(Expectation(post_spends|signup_month,pre_spends))\n",
            "d[treatment]                                                  \n",
            "Estimand assumption 1, Unconfoundedness: If U→{treatment} and U→post_spends then P(post_spends|treatment,signup_month,pre_spends,U) = P(post_spends|treatment,signup_month,pre_spends)\n",
            "\n",
            "### Estimand : 2\n",
            "Estimand name: iv\n",
            "Estimand expression:\n",
            "Expectation(Derivative(post_spends, [Z])*Derivative([treatment], [Z])**(-1))\n",
            "Estimand assumption 1, As-if-random: If U→→post_spends then ¬(U →→{Z})\n",
            "Estimand assumption 2, Exclusion: If we remove {Z}→{treatment}, then ¬({Z}→post_spends)\n",
            "\n",
            "### Estimand : 3\n",
            "Estimand name: frontdoor\n",
            "No such variable found!\n",
            "\n"
          ],
          "name": "stdout"
        }
      ]
    },
    {
      "cell_type": "markdown",
      "metadata": {
        "id": "kTTMyjoIeuFa"
      },
      "source": [
        "# III. Estimating the effect"
      ]
    },
    {
      "cell_type": "code",
      "metadata": {
        "colab": {
          "base_uri": "https://localhost:8080/"
        },
        "id": "Kgdu0z-RevUp",
        "outputId": "b25e1631-be24-4f33-ea7c-b11aa331d206"
      },
      "source": [
        "estimate = model.estimate_effect(identified_estimand,\n",
        "                                 method_name=\"backdoor1.propensity_score_matching\",\n",
        "                                target_units=\"att\")\n",
        "print(estimate)"
      ],
      "execution_count": 60,
      "outputs": [
        {
          "output_type": "stream",
          "text": [
            "/usr/local/lib/python3.7/dist-packages/sklearn/utils/validation.py:760: DataConversionWarning: A column-vector y was passed when a 1d array was expected. Please change the shape of y to (n_samples, ), for example using ravel().\n",
            "  y = column_or_1d(y, warn=True)\n"
          ],
          "name": "stderr"
        },
        {
          "output_type": "stream",
          "text": [
            "*** Causal Estimate ***\n",
            "\n",
            "## Identified estimand\n",
            "Estimand type: nonparametric-ate\n",
            "\n",
            "## Realized estimand\n",
            "b: post_spends~treatment+signup_month+pre_spends\n",
            "Target units: att\n",
            "\n",
            "## Estimate\n",
            "Mean value: 96.16569086651054\n",
            "\n"
          ],
          "name": "stdout"
        }
      ]
    },
    {
      "cell_type": "markdown",
      "metadata": {
        "id": "jDMctb3Ee-sC"
      },
      "source": [
        "The analysis tells us the Average Treatment Effect on the Treated (ATT). That is, the average effect on total spend for the customers that signed up for the Rewards Program in month i=3 (compared to the case where they had not signed up)."
      ]
    },
    {
      "cell_type": "code",
      "metadata": {
        "id": "IiIE84vxe-Ej"
      },
      "source": [
        ""
      ],
      "execution_count": null,
      "outputs": []
    },
    {
      "cell_type": "markdown",
      "metadata": {
        "id": "3AOvMR0CfDpr"
      },
      "source": [
        "# IV. Refuting the estimate"
      ]
    },
    {
      "cell_type": "code",
      "metadata": {
        "colab": {
          "base_uri": "https://localhost:8080/"
        },
        "id": "CsIY4itdfEep",
        "outputId": "efbcaf89-c1e9-4eea-d7ab-2b7f416744ac"
      },
      "source": [
        "refutation = model.refute_estimate(identified_estimand, estimate, method_name=\"placebo_treatment_refuter\",\n",
        "                     placebo_type=\"permute\", num_simulations=4)\n",
        "print(refutation)"
      ],
      "execution_count": 61,
      "outputs": [
        {
          "output_type": "stream",
          "text": [
            "/usr/local/lib/python3.7/dist-packages/sklearn/utils/validation.py:760: DataConversionWarning: A column-vector y was passed when a 1d array was expected. Please change the shape of y to (n_samples, ), for example using ravel().\n",
            "  y = column_or_1d(y, warn=True)\n",
            "/usr/local/lib/python3.7/dist-packages/sklearn/utils/validation.py:760: DataConversionWarning: A column-vector y was passed when a 1d array was expected. Please change the shape of y to (n_samples, ), for example using ravel().\n",
            "  y = column_or_1d(y, warn=True)\n",
            "/usr/local/lib/python3.7/dist-packages/sklearn/utils/validation.py:760: DataConversionWarning: A column-vector y was passed when a 1d array was expected. Please change the shape of y to (n_samples, ), for example using ravel().\n",
            "  y = column_or_1d(y, warn=True)\n",
            "/usr/local/lib/python3.7/dist-packages/sklearn/utils/validation.py:760: DataConversionWarning: A column-vector y was passed when a 1d array was expected. Please change the shape of y to (n_samples, ), for example using ravel().\n",
            "  y = column_or_1d(y, warn=True)\n"
          ],
          "name": "stderr"
        },
        {
          "output_type": "stream",
          "text": [
            "Refute: Use a Placebo Treatment\n",
            "Estimated effect:96.16569086651054\n",
            "New effect:-0.13165983606557374\n",
            "p value:0.4393392560977516\n",
            "\n"
          ],
          "name": "stdout"
        }
      ]
    },
    {
      "cell_type": "code",
      "metadata": {
        "id": "ikr9Ew35fIBb"
      },
      "source": [
        ""
      ],
      "execution_count": null,
      "outputs": []
    },
    {
      "cell_type": "code",
      "metadata": {
        "id": "FFaFpF02fIEN"
      },
      "source": [
        ""
      ],
      "execution_count": null,
      "outputs": []
    },
    {
      "cell_type": "markdown",
      "metadata": {
        "id": "E8YBq50kfNi0"
      },
      "source": [
        "# Let's repeat the analysis, this time for month 6"
      ]
    },
    {
      "cell_type": "code",
      "metadata": {
        "id": "K22vrGH4fIG5"
      },
      "source": [
        "i=6"
      ],
      "execution_count": 21,
      "outputs": []
    },
    {
      "cell_type": "code",
      "metadata": {
        "colab": {
          "base_uri": "https://localhost:8080/"
        },
        "id": "CaDUK0AFfXk-",
        "outputId": "a73e9047-cae2-4964-e8ac-a28bbb704f3c"
      },
      "source": [
        "# Post-process the data based on the graph and the month of the treatment (signup)\n",
        "df_i_signupmonth = df[df.signup_month.isin([0,i])].groupby([\"user_id\", \"signup_month\", \"treatment\"]).apply(\n",
        "    lambda x: pd.Series({'pre_spends': np.sum(np.where(x.month < i, x.spend,0))/np.sum(np.where(x.month<i, 1,0)),\n",
        "                        'post_spends': np.sum(np.where(x.month > i, x.spend,0))/np.sum(np.where(x.month>i, 1,0)) })\n",
        ").reset_index()\n",
        "print(df_i_signupmonth)\n",
        "\n",
        "causal_graph = \"\"\"digraph {\n",
        "treatment[label=\"Program Signup in month i\"];\n",
        "pre_spends;\n",
        "post_spends;\n",
        "Z->treatment;\n",
        "U[label=\"Unobserved Confounders\"];\n",
        "pre_spends -> treatment;\n",
        "treatment->post_spends;\n",
        "signup_month->post_spends; signup_month->pre_spends;\n",
        "signup_month->treatment;\n",
        "U->treatment; U->pre_spends; U->post_spends;\n",
        "}\"\"\"\n",
        "\n",
        "\n",
        "\n",
        "model = dowhy.CausalModel(data=df_i_signupmonth,\n",
        "                     graph=causal_graph.replace(\"\\n\", \" \"),\n",
        "                     treatment=\"treatment\",\n",
        "                     outcome=\"post_spends\")\n",
        "\n",
        "\n",
        "identified_estimand = model.identify_effect(proceed_when_unidentifiable=True)\n",
        "print(identified_estimand)\n",
        "\n",
        "\n",
        "\n",
        "estimate = model.estimate_effect(identified_estimand,\n",
        "                                 method_name=\"backdoor1.propensity_score_matching\",\n",
        "                                target_units=\"att\")\n",
        "print(estimate)\n",
        "\n",
        "\n",
        "\n",
        "\n",
        "refutation = model.refute_estimate(identified_estimand, estimate, method_name=\"placebo_treatment_refuter\",\n",
        "                     placebo_type=\"permute\", num_simulations=2)\n",
        "print(refutation)"
      ],
      "execution_count": 22,
      "outputs": [
        {
          "output_type": "stream",
          "text": [
            "      user_id  signup_month  treatment  pre_spends  post_spends\n",
            "0           0             0      False       477.2   403.833333\n",
            "1           1             0      False       456.2   404.000000\n",
            "2           3             0      False       463.8   393.666667\n",
            "3           7             0      False       470.0   418.500000\n",
            "4           8             0      False       474.6   398.000000\n",
            "...       ...           ...        ...         ...          ...\n",
            "5389     9989             0      False       460.4   408.166667\n",
            "5390     9990             0      False       471.0   417.833333\n",
            "5391     9991             0      False       493.0   404.500000\n",
            "5392     9992             0      False       460.6   408.166667\n",
            "5393     9996             0      False       476.6   411.333333\n",
            "\n",
            "[5394 rows x 5 columns]\n",
            "Estimand type: nonparametric-ate\n",
            "\n",
            "### Estimand : 1\n",
            "Estimand name: backdoor\n",
            "Estimand expression:\n",
            "     d                                                        \n",
            "────────────(Expectation(post_spends|signup_month,pre_spends))\n",
            "d[treatment]                                                  \n",
            "Estimand assumption 1, Unconfoundedness: If U→{treatment} and U→post_spends then P(post_spends|treatment,signup_month,pre_spends,U) = P(post_spends|treatment,signup_month,pre_spends)\n",
            "\n",
            "### Estimand : 2\n",
            "Estimand name: iv\n",
            "Estimand expression:\n",
            "Expectation(Derivative(post_spends, [Z])*Derivative([treatment], [Z])**(-1))\n",
            "Estimand assumption 1, As-if-random: If U→→post_spends then ¬(U →→{Z})\n",
            "Estimand assumption 2, Exclusion: If we remove {Z}→{treatment}, then ¬({Z}→post_spends)\n",
            "\n",
            "### Estimand : 3\n",
            "Estimand name: frontdoor\n",
            "No such variable found!\n",
            "\n"
          ],
          "name": "stdout"
        },
        {
          "output_type": "stream",
          "text": [
            "/usr/local/lib/python3.7/dist-packages/sklearn/utils/validation.py:760: DataConversionWarning: A column-vector y was passed when a 1d array was expected. Please change the shape of y to (n_samples, ), for example using ravel().\n",
            "  y = column_or_1d(y, warn=True)\n"
          ],
          "name": "stderr"
        },
        {
          "output_type": "stream",
          "text": [
            "*** Causal Estimate ***\n",
            "\n",
            "## Identified estimand\n",
            "Estimand type: nonparametric-ate\n",
            "\n",
            "## Realized estimand\n",
            "b: post_spends~treatment+signup_month+pre_spends\n",
            "Target units: att\n",
            "\n",
            "## Estimate\n",
            "Mean value: 84.20209689081702\n",
            "\n"
          ],
          "name": "stdout"
        },
        {
          "output_type": "stream",
          "text": [
            "/usr/local/lib/python3.7/dist-packages/sklearn/utils/validation.py:760: DataConversionWarning: A column-vector y was passed when a 1d array was expected. Please change the shape of y to (n_samples, ), for example using ravel().\n",
            "  y = column_or_1d(y, warn=True)\n",
            "/usr/local/lib/python3.7/dist-packages/sklearn/utils/validation.py:760: DataConversionWarning: A column-vector y was passed when a 1d array was expected. Please change the shape of y to (n_samples, ), for example using ravel().\n",
            "  y = column_or_1d(y, warn=True)\n"
          ],
          "name": "stderr"
        },
        {
          "output_type": "stream",
          "text": [
            "Refute: Use a Placebo Treatment\n",
            "Estimated effect:84.20209689081702\n",
            "New effect:0.5104844540853223\n",
            "p value:0.3688147801994104\n",
            "\n"
          ],
          "name": "stdout"
        }
      ]
    },
    {
      "cell_type": "markdown",
      "metadata": {
        "id": "vF4rmFIOfywl"
      },
      "source": [
        ""
      ]
    },
    {
      "cell_type": "markdown",
      "metadata": {
        "id": "Oleaz8s4fyzF"
      },
      "source": [
        "# Let's repeat the analysis, this time for month 9"
      ]
    },
    {
      "cell_type": "code",
      "metadata": {
        "id": "o0fAsuSmf3-1"
      },
      "source": [
        "i=9"
      ],
      "execution_count": 23,
      "outputs": []
    },
    {
      "cell_type": "code",
      "metadata": {
        "colab": {
          "base_uri": "https://localhost:8080/"
        },
        "id": "zXw765eQf5Lt",
        "outputId": "703c1bae-873e-4e20-95a5-443015fd3e4b"
      },
      "source": [
        "# Post-process the data based on the graph and the month of the treatment (signup)\n",
        "df_i_signupmonth = df[df.signup_month.isin([0,i])].groupby([\"user_id\", \"signup_month\", \"treatment\"]).apply(\n",
        "    lambda x: pd.Series({'pre_spends': np.sum(np.where(x.month < i, x.spend,0))/np.sum(np.where(x.month<i, 1,0)),\n",
        "                        'post_spends': np.sum(np.where(x.month > i, x.spend,0))/np.sum(np.where(x.month>i, 1,0)) })\n",
        ").reset_index()\n",
        "print(df_i_signupmonth)\n",
        "\n",
        "causal_graph = \"\"\"digraph {\n",
        "treatment[label=\"Program Signup in month i\"];\n",
        "pre_spends;\n",
        "post_spends;\n",
        "Z->treatment;\n",
        "U[label=\"Unobserved Confounders\"];\n",
        "pre_spends -> treatment;\n",
        "treatment->post_spends;\n",
        "signup_month->post_spends; signup_month->pre_spends;\n",
        "signup_month->treatment;\n",
        "U->treatment; U->pre_spends; U->post_spends;\n",
        "}\"\"\"\n",
        "\n",
        "\n",
        "\n",
        "model = dowhy.CausalModel(data=df_i_signupmonth,\n",
        "                     graph=causal_graph.replace(\"\\n\", \" \"),\n",
        "                     treatment=\"treatment\",\n",
        "                     outcome=\"post_spends\")\n",
        "\n",
        "\n",
        "identified_estimand = model.identify_effect(proceed_when_unidentifiable=True)\n",
        "print(identified_estimand)\n",
        "\n",
        "\n",
        "\n",
        "estimate = model.estimate_effect(identified_estimand,\n",
        "                                 method_name=\"backdoor1.propensity_score_matching\",\n",
        "                                target_units=\"att\")\n",
        "print(estimate)\n",
        "\n",
        "\n",
        "\n",
        "\n",
        "refutation = model.refute_estimate(identified_estimand, estimate, method_name=\"placebo_treatment_refuter\",\n",
        "                     placebo_type=\"permute\", num_simulations=2)\n",
        "print(refutation)"
      ],
      "execution_count": 24,
      "outputs": [
        {
          "output_type": "stream",
          "text": [
            "      user_id  signup_month  treatment  pre_spends  post_spends\n",
            "0           0             0      False     460.500   388.666667\n",
            "1           1             0      False     448.125   397.000000\n",
            "2           3             0      False     448.250   385.333333\n",
            "3           7             0      False     459.250   404.333333\n",
            "4           8             0      False     454.250   384.666667\n",
            "...       ...           ...        ...         ...          ...\n",
            "5417     9989             0      False     451.875   391.333333\n",
            "5418     9990             0      False     465.625   379.000000\n",
            "5419     9991             0      False     465.875   395.000000\n",
            "5420     9992             0      False     452.750   388.333333\n",
            "5421     9996             0      False     462.875   397.333333\n",
            "\n",
            "[5422 rows x 5 columns]\n",
            "Estimand type: nonparametric-ate\n",
            "\n",
            "### Estimand : 1\n",
            "Estimand name: backdoor\n",
            "Estimand expression:\n",
            "     d                                                        \n",
            "────────────(Expectation(post_spends|signup_month,pre_spends))\n",
            "d[treatment]                                                  \n",
            "Estimand assumption 1, Unconfoundedness: If U→{treatment} and U→post_spends then P(post_spends|treatment,signup_month,pre_spends,U) = P(post_spends|treatment,signup_month,pre_spends)\n",
            "\n",
            "### Estimand : 2\n",
            "Estimand name: iv\n",
            "Estimand expression:\n",
            "Expectation(Derivative(post_spends, [Z])*Derivative([treatment], [Z])**(-1))\n",
            "Estimand assumption 1, As-if-random: If U→→post_spends then ¬(U →→{Z})\n",
            "Estimand assumption 2, Exclusion: If we remove {Z}→{treatment}, then ¬({Z}→post_spends)\n",
            "\n",
            "### Estimand : 3\n",
            "Estimand name: frontdoor\n",
            "No such variable found!\n",
            "\n"
          ],
          "name": "stdout"
        },
        {
          "output_type": "stream",
          "text": [
            "/usr/local/lib/python3.7/dist-packages/sklearn/utils/validation.py:760: DataConversionWarning: A column-vector y was passed when a 1d array was expected. Please change the shape of y to (n_samples, ), for example using ravel().\n",
            "  y = column_or_1d(y, warn=True)\n"
          ],
          "name": "stderr"
        },
        {
          "output_type": "stream",
          "text": [
            "*** Causal Estimate ***\n",
            "\n",
            "## Identified estimand\n",
            "Estimand type: nonparametric-ate\n",
            "\n",
            "## Realized estimand\n",
            "b: post_spends~treatment+signup_month+pre_spends\n",
            "Target units: att\n",
            "\n",
            "## Estimate\n",
            "Mean value: 77.23312883435582\n",
            "\n"
          ],
          "name": "stdout"
        },
        {
          "output_type": "stream",
          "text": [
            "/usr/local/lib/python3.7/dist-packages/sklearn/utils/validation.py:760: DataConversionWarning: A column-vector y was passed when a 1d array was expected. Please change the shape of y to (n_samples, ), for example using ravel().\n",
            "  y = column_or_1d(y, warn=True)\n",
            "/usr/local/lib/python3.7/dist-packages/sklearn/utils/validation.py:760: DataConversionWarning: A column-vector y was passed when a 1d array was expected. Please change the shape of y to (n_samples, ), for example using ravel().\n",
            "  y = column_or_1d(y, warn=True)\n"
          ],
          "name": "stderr"
        },
        {
          "output_type": "stream",
          "text": [
            "Refute: Use a Placebo Treatment\n",
            "Estimated effect:77.23312883435582\n",
            "New effect:2.0323790047716432\n",
            "p value:0.0007978362201020439\n",
            "\n"
          ],
          "name": "stdout"
        }
      ]
    }
  ]
}