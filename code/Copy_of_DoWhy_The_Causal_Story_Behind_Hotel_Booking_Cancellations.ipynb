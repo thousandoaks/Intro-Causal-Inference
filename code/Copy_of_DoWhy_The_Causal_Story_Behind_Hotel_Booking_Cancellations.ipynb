{
  "nbformat": 4,
  "nbformat_minor": 0,
  "metadata": {
    "colab": {
      "name": "Copy of DoWhy-The Causal Story Behind Hotel Booking Cancellations.ipynb",
      "provenance": [],
      "authorship_tag": "ABX9TyOcCwtQRGks1v2oowszBXpg",
      "include_colab_link": true
    },
    "kernelspec": {
      "name": "python3",
      "display_name": "Python 3"
    },
    "language_info": {
      "name": "python"
    }
  },
  "cells": [
    {
      "cell_type": "markdown",
      "metadata": {
        "id": "view-in-github",
        "colab_type": "text"
      },
      "source": [
        "<a href=\"https://colab.research.google.com/github/thousandoaks/Intro-Causal-Inference/blob/main/code/Copy_of_DoWhy_The_Causal_Story_Behind_Hotel_Booking_Cancellations.ipynb\" target=\"_parent\"><img src=\"https://colab.research.google.com/assets/colab-badge.svg\" alt=\"Open In Colab\"/></a>"
      ]
    },
    {
      "cell_type": "code",
      "metadata": {
        "colab": {
          "base_uri": "https://localhost:8080/"
        },
        "id": "GW-S0wuqcizx",
        "outputId": "b0f17105-afbd-4f5d-806c-3fcd962e91af"
      },
      "source": [
        "pip install dowhy\n"
      ],
      "execution_count": 1,
      "outputs": [
        {
          "output_type": "stream",
          "text": [
            "Collecting dowhy\n",
            "  Downloading dowhy-0.6-py3-none-any.whl (123 kB)\n",
            "\u001b[?25l\r\u001b[K     |██▋                             | 10 kB 20.7 MB/s eta 0:00:01\r\u001b[K     |█████▎                          | 20 kB 23.1 MB/s eta 0:00:01\r\u001b[K     |████████                        | 30 kB 25.7 MB/s eta 0:00:01\r\u001b[K     |██████████▋                     | 40 kB 27.6 MB/s eta 0:00:01\r\u001b[K     |█████████████▏                  | 51 kB 11.4 MB/s eta 0:00:01\r\u001b[K     |███████████████▉                | 61 kB 12.9 MB/s eta 0:00:01\r\u001b[K     |██████████████████▌             | 71 kB 14.1 MB/s eta 0:00:01\r\u001b[K     |█████████████████████▏          | 81 kB 15.4 MB/s eta 0:00:01\r\u001b[K     |███████████████████████▉        | 92 kB 16.4 MB/s eta 0:00:01\r\u001b[K     |██████████████████████████▍     | 102 kB 17.6 MB/s eta 0:00:01\r\u001b[K     |█████████████████████████████   | 112 kB 17.6 MB/s eta 0:00:01\r\u001b[K     |███████████████████████████████▊| 122 kB 17.6 MB/s eta 0:00:01\r\u001b[K     |████████████████████████████████| 123 kB 17.6 MB/s \n",
            "\u001b[?25hRequirement already satisfied: scipy in /usr/local/lib/python3.7/dist-packages (from dowhy) (1.4.1)\n",
            "Requirement already satisfied: sympy>=1.4 in /usr/local/lib/python3.7/dist-packages (from dowhy) (1.7.1)\n",
            "Requirement already satisfied: pandas>=0.24 in /usr/local/lib/python3.7/dist-packages (from dowhy) (1.1.5)\n",
            "Requirement already satisfied: networkx>=2.0 in /usr/local/lib/python3.7/dist-packages (from dowhy) (2.6.2)\n",
            "Requirement already satisfied: numpy>=1.15 in /usr/local/lib/python3.7/dist-packages (from dowhy) (1.19.5)\n",
            "Collecting pydot>=1.4\n",
            "  Downloading pydot-1.4.2-py2.py3-none-any.whl (21 kB)\n",
            "Requirement already satisfied: scikit-learn in /usr/local/lib/python3.7/dist-packages (from dowhy) (0.22.2.post1)\n",
            "Requirement already satisfied: statsmodels in /usr/local/lib/python3.7/dist-packages (from dowhy) (0.10.2)\n",
            "Requirement already satisfied: pytz>=2017.2 in /usr/local/lib/python3.7/dist-packages (from pandas>=0.24->dowhy) (2018.9)\n",
            "Requirement already satisfied: python-dateutil>=2.7.3 in /usr/local/lib/python3.7/dist-packages (from pandas>=0.24->dowhy) (2.8.2)\n",
            "Requirement already satisfied: pyparsing>=2.1.4 in /usr/local/lib/python3.7/dist-packages (from pydot>=1.4->dowhy) (2.4.7)\n",
            "Requirement already satisfied: six>=1.5 in /usr/local/lib/python3.7/dist-packages (from python-dateutil>=2.7.3->pandas>=0.24->dowhy) (1.15.0)\n",
            "Requirement already satisfied: mpmath>=0.19 in /usr/local/lib/python3.7/dist-packages (from sympy>=1.4->dowhy) (1.2.1)\n",
            "Requirement already satisfied: joblib>=0.11 in /usr/local/lib/python3.7/dist-packages (from scikit-learn->dowhy) (1.0.1)\n",
            "Requirement already satisfied: patsy>=0.4.0 in /usr/local/lib/python3.7/dist-packages (from statsmodels->dowhy) (0.5.1)\n",
            "Installing collected packages: pydot, dowhy\n",
            "  Attempting uninstall: pydot\n",
            "    Found existing installation: pydot 1.3.0\n",
            "    Uninstalling pydot-1.3.0:\n",
            "      Successfully uninstalled pydot-1.3.0\n",
            "Successfully installed dowhy-0.6 pydot-1.4.2\n"
          ],
          "name": "stdout"
        }
      ]
    },
    {
      "cell_type": "markdown",
      "metadata": {
        "id": "xQpvYdgSgeij"
      },
      "source": [
        "# Ojective of the analysis: Determine what factors cause a hotel booking to be cancelled"
      ]
    },
    {
      "cell_type": "markdown",
      "metadata": {
        "id": "SDIdXR3qgGxQ"
      },
      "source": [
        "We consider what factors cause a hotel booking to be cancelled. This analysis is based on a hotel bookings dataset from Antonio, Almeida and Nunes (2019). On GitHub, the dataset is available at rfordatascience/tidytuesday.\n",
        "\n",
        "\n",
        "https://github.com/rfordatascience/tidytuesday/blob/master/data/2020/2020-02-11/readme.md\n",
        "\n",
        "\n",
        "There can be different reasons for why a booking is cancelled. A customer may have requested something that was not available (e.g., car parking), a customer may have found later that the hotel did not meet their requirements, or a customer may have simply cancelled their entire trip. Some of these like car parking are actionable by the hotel whereas others like trip cancellation are outside the hotel’s control. In any case, we would like to better understand which of these factors cause booking cancellations.\n",
        "\n",
        "The gold standard of finding this out would be to use experiments such as Randomized Controlled Trials wherein each customer is randomly assigned to one of the two categories i.e. each customer is either assigned a car parking or not. However, such an experiment can be too costly and also unethical in some cases (for example, a hotel would start losing its reputation if people learn that its randomly assigning people to different level of service).\n",
        "\n"
      ]
    },
    {
      "cell_type": "markdown",
      "metadata": {
        "id": "5RUkyxRLhYuP"
      },
      "source": [
        "## Can we somehow answer our query using only observational data or data that has been collected in the past?"
      ]
    },
    {
      "cell_type": "code",
      "metadata": {
        "id": "d8D4a7qXcoxK"
      },
      "source": [
        "%reload_ext autoreload\n",
        "%autoreload 2"
      ],
      "execution_count": 2,
      "outputs": []
    },
    {
      "cell_type": "code",
      "metadata": {
        "id": "ljCV6Wu3RsQG"
      },
      "source": [
        "from scipy import stats"
      ],
      "execution_count": 38,
      "outputs": []
    },
    {
      "cell_type": "code",
      "metadata": {
        "id": "1Qm720jBcsjn"
      },
      "source": [
        "# Config dict to set the logging level\n",
        "import logging.config\n",
        "DEFAULT_LOGGING = {\n",
        "    'version': 1,\n",
        "    'disable_existing_loggers': False,\n",
        "    'loggers': {\n",
        "        '': {\n",
        "            'level': 'INFO',\n",
        "        },\n",
        "    }\n",
        "}\n",
        "\n",
        "logging.config.dictConfig(DEFAULT_LOGGING)\n",
        "# Disabling warnings output\n",
        "import warnings\n",
        "from sklearn.exceptions import DataConversionWarning, ConvergenceWarning\n",
        "warnings.filterwarnings(action='ignore', category=DataConversionWarning)\n",
        "warnings.filterwarnings(action='ignore', category=ConvergenceWarning)\n",
        "warnings.filterwarnings(action='ignore', category=UserWarning)\n",
        "\n",
        "#!pip install dowhy\n",
        "import dowhy\n",
        "import pandas as pd\n",
        "import numpy as np\n",
        "import matplotlib.pyplot as plt"
      ],
      "execution_count": 3,
      "outputs": []
    },
    {
      "cell_type": "code",
      "metadata": {
        "colab": {
          "base_uri": "https://localhost:8080/"
        },
        "id": "iPLUTyDfcsmJ",
        "outputId": "8b0bb30a-8ec2-4958-d166-ba84d0501c25"
      },
      "source": [
        "dataset = pd.read_csv('https://raw.githubusercontent.com/Sid-darthvader/DoWhy-The-Causal-Story-Behind-Hotel-Booking-Cancellations/master/hotel_bookings.csv')\n",
        "dataset.info()"
      ],
      "execution_count": 4,
      "outputs": [
        {
          "output_type": "stream",
          "text": [
            "<class 'pandas.core.frame.DataFrame'>\n",
            "RangeIndex: 119390 entries, 0 to 119389\n",
            "Data columns (total 32 columns):\n",
            " #   Column                          Non-Null Count   Dtype  \n",
            "---  ------                          --------------   -----  \n",
            " 0   hotel                           119390 non-null  object \n",
            " 1   is_canceled                     119390 non-null  int64  \n",
            " 2   lead_time                       119390 non-null  int64  \n",
            " 3   arrival_date_year               119390 non-null  int64  \n",
            " 4   arrival_date_month              119390 non-null  object \n",
            " 5   arrival_date_week_number        119390 non-null  int64  \n",
            " 6   arrival_date_day_of_month       119390 non-null  int64  \n",
            " 7   stays_in_weekend_nights         119390 non-null  int64  \n",
            " 8   stays_in_week_nights            119390 non-null  int64  \n",
            " 9   adults                          119390 non-null  int64  \n",
            " 10  children                        119386 non-null  float64\n",
            " 11  babies                          119390 non-null  int64  \n",
            " 12  meal                            119390 non-null  object \n",
            " 13  country                         118902 non-null  object \n",
            " 14  market_segment                  119390 non-null  object \n",
            " 15  distribution_channel            119390 non-null  object \n",
            " 16  is_repeated_guest               119390 non-null  int64  \n",
            " 17  previous_cancellations          119390 non-null  int64  \n",
            " 18  previous_bookings_not_canceled  119390 non-null  int64  \n",
            " 19  reserved_room_type              119390 non-null  object \n",
            " 20  assigned_room_type              119390 non-null  object \n",
            " 21  booking_changes                 119390 non-null  int64  \n",
            " 22  deposit_type                    119390 non-null  object \n",
            " 23  agent                           103050 non-null  float64\n",
            " 24  company                         6797 non-null    float64\n",
            " 25  days_in_waiting_list            119390 non-null  int64  \n",
            " 26  customer_type                   119390 non-null  object \n",
            " 27  adr                             119390 non-null  float64\n",
            " 28  required_car_parking_spaces     119390 non-null  int64  \n",
            " 29  total_of_special_requests       119390 non-null  int64  \n",
            " 30  reservation_status              119390 non-null  object \n",
            " 31  reservation_status_date         119390 non-null  object \n",
            "dtypes: float64(4), int64(16), object(12)\n",
            "memory usage: 29.1+ MB\n"
          ],
          "name": "stdout"
        }
      ]
    },
    {
      "cell_type": "code",
      "metadata": {
        "colab": {
          "base_uri": "https://localhost:8080/",
          "height": 309
        },
        "id": "4hiSIqVUcson",
        "outputId": "06d9c39d-19b7-412e-e78b-133421848cd8"
      },
      "source": [
        "dataset.head()"
      ],
      "execution_count": 5,
      "outputs": [
        {
          "output_type": "execute_result",
          "data": {
            "text/html": [
              "<div>\n",
              "<style scoped>\n",
              "    .dataframe tbody tr th:only-of-type {\n",
              "        vertical-align: middle;\n",
              "    }\n",
              "\n",
              "    .dataframe tbody tr th {\n",
              "        vertical-align: top;\n",
              "    }\n",
              "\n",
              "    .dataframe thead th {\n",
              "        text-align: right;\n",
              "    }\n",
              "</style>\n",
              "<table border=\"1\" class=\"dataframe\">\n",
              "  <thead>\n",
              "    <tr style=\"text-align: right;\">\n",
              "      <th></th>\n",
              "      <th>hotel</th>\n",
              "      <th>is_canceled</th>\n",
              "      <th>lead_time</th>\n",
              "      <th>arrival_date_year</th>\n",
              "      <th>arrival_date_month</th>\n",
              "      <th>arrival_date_week_number</th>\n",
              "      <th>arrival_date_day_of_month</th>\n",
              "      <th>stays_in_weekend_nights</th>\n",
              "      <th>stays_in_week_nights</th>\n",
              "      <th>adults</th>\n",
              "      <th>children</th>\n",
              "      <th>babies</th>\n",
              "      <th>meal</th>\n",
              "      <th>country</th>\n",
              "      <th>market_segment</th>\n",
              "      <th>distribution_channel</th>\n",
              "      <th>is_repeated_guest</th>\n",
              "      <th>previous_cancellations</th>\n",
              "      <th>previous_bookings_not_canceled</th>\n",
              "      <th>reserved_room_type</th>\n",
              "      <th>assigned_room_type</th>\n",
              "      <th>booking_changes</th>\n",
              "      <th>deposit_type</th>\n",
              "      <th>agent</th>\n",
              "      <th>company</th>\n",
              "      <th>days_in_waiting_list</th>\n",
              "      <th>customer_type</th>\n",
              "      <th>adr</th>\n",
              "      <th>required_car_parking_spaces</th>\n",
              "      <th>total_of_special_requests</th>\n",
              "      <th>reservation_status</th>\n",
              "      <th>reservation_status_date</th>\n",
              "    </tr>\n",
              "  </thead>\n",
              "  <tbody>\n",
              "    <tr>\n",
              "      <th>0</th>\n",
              "      <td>Resort Hotel</td>\n",
              "      <td>0</td>\n",
              "      <td>342</td>\n",
              "      <td>2015</td>\n",
              "      <td>July</td>\n",
              "      <td>27</td>\n",
              "      <td>1</td>\n",
              "      <td>0</td>\n",
              "      <td>0</td>\n",
              "      <td>2</td>\n",
              "      <td>0.0</td>\n",
              "      <td>0</td>\n",
              "      <td>BB</td>\n",
              "      <td>PRT</td>\n",
              "      <td>Direct</td>\n",
              "      <td>Direct</td>\n",
              "      <td>0</td>\n",
              "      <td>0</td>\n",
              "      <td>0</td>\n",
              "      <td>C</td>\n",
              "      <td>C</td>\n",
              "      <td>3</td>\n",
              "      <td>No Deposit</td>\n",
              "      <td>NaN</td>\n",
              "      <td>NaN</td>\n",
              "      <td>0</td>\n",
              "      <td>Transient</td>\n",
              "      <td>0.0</td>\n",
              "      <td>0</td>\n",
              "      <td>0</td>\n",
              "      <td>Check-Out</td>\n",
              "      <td>2015-07-01</td>\n",
              "    </tr>\n",
              "    <tr>\n",
              "      <th>1</th>\n",
              "      <td>Resort Hotel</td>\n",
              "      <td>0</td>\n",
              "      <td>737</td>\n",
              "      <td>2015</td>\n",
              "      <td>July</td>\n",
              "      <td>27</td>\n",
              "      <td>1</td>\n",
              "      <td>0</td>\n",
              "      <td>0</td>\n",
              "      <td>2</td>\n",
              "      <td>0.0</td>\n",
              "      <td>0</td>\n",
              "      <td>BB</td>\n",
              "      <td>PRT</td>\n",
              "      <td>Direct</td>\n",
              "      <td>Direct</td>\n",
              "      <td>0</td>\n",
              "      <td>0</td>\n",
              "      <td>0</td>\n",
              "      <td>C</td>\n",
              "      <td>C</td>\n",
              "      <td>4</td>\n",
              "      <td>No Deposit</td>\n",
              "      <td>NaN</td>\n",
              "      <td>NaN</td>\n",
              "      <td>0</td>\n",
              "      <td>Transient</td>\n",
              "      <td>0.0</td>\n",
              "      <td>0</td>\n",
              "      <td>0</td>\n",
              "      <td>Check-Out</td>\n",
              "      <td>2015-07-01</td>\n",
              "    </tr>\n",
              "    <tr>\n",
              "      <th>2</th>\n",
              "      <td>Resort Hotel</td>\n",
              "      <td>0</td>\n",
              "      <td>7</td>\n",
              "      <td>2015</td>\n",
              "      <td>July</td>\n",
              "      <td>27</td>\n",
              "      <td>1</td>\n",
              "      <td>0</td>\n",
              "      <td>1</td>\n",
              "      <td>1</td>\n",
              "      <td>0.0</td>\n",
              "      <td>0</td>\n",
              "      <td>BB</td>\n",
              "      <td>GBR</td>\n",
              "      <td>Direct</td>\n",
              "      <td>Direct</td>\n",
              "      <td>0</td>\n",
              "      <td>0</td>\n",
              "      <td>0</td>\n",
              "      <td>A</td>\n",
              "      <td>C</td>\n",
              "      <td>0</td>\n",
              "      <td>No Deposit</td>\n",
              "      <td>NaN</td>\n",
              "      <td>NaN</td>\n",
              "      <td>0</td>\n",
              "      <td>Transient</td>\n",
              "      <td>75.0</td>\n",
              "      <td>0</td>\n",
              "      <td>0</td>\n",
              "      <td>Check-Out</td>\n",
              "      <td>2015-07-02</td>\n",
              "    </tr>\n",
              "    <tr>\n",
              "      <th>3</th>\n",
              "      <td>Resort Hotel</td>\n",
              "      <td>0</td>\n",
              "      <td>13</td>\n",
              "      <td>2015</td>\n",
              "      <td>July</td>\n",
              "      <td>27</td>\n",
              "      <td>1</td>\n",
              "      <td>0</td>\n",
              "      <td>1</td>\n",
              "      <td>1</td>\n",
              "      <td>0.0</td>\n",
              "      <td>0</td>\n",
              "      <td>BB</td>\n",
              "      <td>GBR</td>\n",
              "      <td>Corporate</td>\n",
              "      <td>Corporate</td>\n",
              "      <td>0</td>\n",
              "      <td>0</td>\n",
              "      <td>0</td>\n",
              "      <td>A</td>\n",
              "      <td>A</td>\n",
              "      <td>0</td>\n",
              "      <td>No Deposit</td>\n",
              "      <td>304.0</td>\n",
              "      <td>NaN</td>\n",
              "      <td>0</td>\n",
              "      <td>Transient</td>\n",
              "      <td>75.0</td>\n",
              "      <td>0</td>\n",
              "      <td>0</td>\n",
              "      <td>Check-Out</td>\n",
              "      <td>2015-07-02</td>\n",
              "    </tr>\n",
              "    <tr>\n",
              "      <th>4</th>\n",
              "      <td>Resort Hotel</td>\n",
              "      <td>0</td>\n",
              "      <td>14</td>\n",
              "      <td>2015</td>\n",
              "      <td>July</td>\n",
              "      <td>27</td>\n",
              "      <td>1</td>\n",
              "      <td>0</td>\n",
              "      <td>2</td>\n",
              "      <td>2</td>\n",
              "      <td>0.0</td>\n",
              "      <td>0</td>\n",
              "      <td>BB</td>\n",
              "      <td>GBR</td>\n",
              "      <td>Online TA</td>\n",
              "      <td>TA/TO</td>\n",
              "      <td>0</td>\n",
              "      <td>0</td>\n",
              "      <td>0</td>\n",
              "      <td>A</td>\n",
              "      <td>A</td>\n",
              "      <td>0</td>\n",
              "      <td>No Deposit</td>\n",
              "      <td>240.0</td>\n",
              "      <td>NaN</td>\n",
              "      <td>0</td>\n",
              "      <td>Transient</td>\n",
              "      <td>98.0</td>\n",
              "      <td>0</td>\n",
              "      <td>1</td>\n",
              "      <td>Check-Out</td>\n",
              "      <td>2015-07-03</td>\n",
              "    </tr>\n",
              "  </tbody>\n",
              "</table>\n",
              "</div>"
            ],
            "text/plain": [
              "          hotel  is_canceled  ...  reservation_status  reservation_status_date\n",
              "0  Resort Hotel            0  ...           Check-Out               2015-07-01\n",
              "1  Resort Hotel            0  ...           Check-Out               2015-07-01\n",
              "2  Resort Hotel            0  ...           Check-Out               2015-07-02\n",
              "3  Resort Hotel            0  ...           Check-Out               2015-07-02\n",
              "4  Resort Hotel            0  ...           Check-Out               2015-07-03\n",
              "\n",
              "[5 rows x 32 columns]"
            ]
          },
          "metadata": {},
          "execution_count": 5
        }
      ]
    },
    {
      "cell_type": "code",
      "metadata": {
        "id": "hc4xVqUaeRkH"
      },
      "source": [
        ""
      ],
      "execution_count": 5,
      "outputs": []
    },
    {
      "cell_type": "markdown",
      "metadata": {
        "id": "bsGwCuuPmCJ5"
      },
      "source": [
        "## Data Description"
      ]
    },
    {
      "cell_type": "markdown",
      "metadata": {
        "id": "418JC57kmGJB"
      },
      "source": [
        "For a quick glance of the features and their descriptions the reader is referred here. https://github.com/rfordatascience/tidytuesday/blob/master/data/2020/2020-02-11/readme.md\n"
      ]
    },
    {
      "cell_type": "code",
      "metadata": {
        "id": "BhKLBn2RmEDW"
      },
      "source": [
        ""
      ],
      "execution_count": 5,
      "outputs": []
    },
    {
      "cell_type": "markdown",
      "metadata": {
        "id": "JLQVXI2nmKJH"
      },
      "source": [
        "# Feature Engineering\n",
        "\n",
        "Lets create some new and meaningful features so as to reduce the dimensionality of the dataset. \n",
        "\n",
        "Total Stay = stays_in_weekend_nights + stays_in_week_nights\n",
        "\n",
        "Guests = adults + children + babies  \n",
        "\n",
        "Different_room_assigned = 1 if reserved_room_type & assigned_room_type are different, 0 otherwise."
      ]
    },
    {
      "cell_type": "code",
      "metadata": {
        "colab": {
          "base_uri": "https://localhost:8080/"
        },
        "id": "vRm_ZgxLmNqK",
        "outputId": "d59ac0ea-4367-44d0-dcb5-d7c57bc69e2e"
      },
      "source": [
        "# Total stay in nights\n",
        "dataset['total_stay'] = dataset['stays_in_week_nights']+dataset['stays_in_weekend_nights']\n",
        "# Total number of guests\n",
        "dataset['guests'] = dataset['adults']+dataset['children'] +dataset['babies']\n",
        "# Creating the different_room_assigned feature\n",
        "dataset['different_room_assigned']=0\n",
        "slice_indices =dataset['reserved_room_type']!=dataset['assigned_room_type']\n",
        "dataset.loc[slice_indices,'different_room_assigned']=1\n",
        "# Deleting older features\n",
        "dataset = dataset.drop(['stays_in_week_nights','stays_in_weekend_nights','adults','children','babies'\n",
        "                        ,'reserved_room_type','assigned_room_type'],axis=1)\n",
        "dataset.columns"
      ],
      "execution_count": 6,
      "outputs": [
        {
          "output_type": "execute_result",
          "data": {
            "text/plain": [
              "Index(['hotel', 'is_canceled', 'lead_time', 'arrival_date_year',\n",
              "       'arrival_date_month', 'arrival_date_week_number',\n",
              "       'arrival_date_day_of_month', 'meal', 'country', 'market_segment',\n",
              "       'distribution_channel', 'is_repeated_guest', 'previous_cancellations',\n",
              "       'previous_bookings_not_canceled', 'booking_changes', 'deposit_type',\n",
              "       'agent', 'company', 'days_in_waiting_list', 'customer_type', 'adr',\n",
              "       'required_car_parking_spaces', 'total_of_special_requests',\n",
              "       'reservation_status', 'reservation_status_date', 'total_stay', 'guests',\n",
              "       'different_room_assigned'],\n",
              "      dtype='object')"
            ]
          },
          "metadata": {},
          "execution_count": 6
        }
      ]
    },
    {
      "cell_type": "markdown",
      "metadata": {
        "id": "J9SHvPKImly4"
      },
      "source": [
        "We also remove other columns that either contain NULL values or have too many unique values (e.g., agent ID). We also impute missing values of the country column with the most frequent country. We remove distribution_channel since it has a high overlap with market_segment."
      ]
    },
    {
      "cell_type": "code",
      "metadata": {
        "id": "VPQCS6AjmNst"
      },
      "source": [
        "dataset.isnull().sum() # Country,Agent,Company contain 488,16340,112593 missing entries\n",
        "dataset = dataset.drop(['agent','company'],axis=1)\n",
        "# Replacing missing countries with most freqently occuring countries\n",
        "dataset['country']= dataset['country'].fillna(dataset['country'].mode()[0])"
      ],
      "execution_count": 7,
      "outputs": []
    },
    {
      "cell_type": "code",
      "metadata": {
        "id": "zoIPyULempQ6"
      },
      "source": [
        "dataset = dataset.drop(['reservation_status','reservation_status_date','arrival_date_day_of_month'],axis=1)\n",
        "dataset = dataset.drop(['arrival_date_year'],axis=1)\n",
        "dataset = dataset.drop(['distribution_channel'], axis=1)"
      ],
      "execution_count": 8,
      "outputs": []
    },
    {
      "cell_type": "code",
      "metadata": {
        "colab": {
          "base_uri": "https://localhost:8080/",
          "height": 575
        },
        "id": "ruA9ij44msoo",
        "outputId": "513e8fce-525d-44e2-e08a-29489e9535e7"
      },
      "source": [
        "# Replacing 1 by True and 0 by False for the experiment and outcome variables\n",
        "dataset['different_room_assigned']= dataset['different_room_assigned'].replace(1,True)\n",
        "dataset['different_room_assigned']= dataset['different_room_assigned'].replace(0,False)\n",
        "dataset['is_canceled']= dataset['is_canceled'].replace(1,True)\n",
        "dataset['is_canceled']= dataset['is_canceled'].replace(0,False)\n",
        "dataset.dropna(inplace=True)\n",
        "print(dataset.columns)\n",
        "dataset.iloc[:, 5:20].head(100)"
      ],
      "execution_count": 9,
      "outputs": [
        {
          "output_type": "stream",
          "text": [
            "Index(['hotel', 'is_canceled', 'lead_time', 'arrival_date_month',\n",
            "       'arrival_date_week_number', 'meal', 'country', 'market_segment',\n",
            "       'is_repeated_guest', 'previous_cancellations',\n",
            "       'previous_bookings_not_canceled', 'booking_changes', 'deposit_type',\n",
            "       'days_in_waiting_list', 'customer_type', 'adr',\n",
            "       'required_car_parking_spaces', 'total_of_special_requests',\n",
            "       'total_stay', 'guests', 'different_room_assigned'],\n",
            "      dtype='object')\n"
          ],
          "name": "stdout"
        },
        {
          "output_type": "execute_result",
          "data": {
            "text/html": [
              "<div>\n",
              "<style scoped>\n",
              "    .dataframe tbody tr th:only-of-type {\n",
              "        vertical-align: middle;\n",
              "    }\n",
              "\n",
              "    .dataframe tbody tr th {\n",
              "        vertical-align: top;\n",
              "    }\n",
              "\n",
              "    .dataframe thead th {\n",
              "        text-align: right;\n",
              "    }\n",
              "</style>\n",
              "<table border=\"1\" class=\"dataframe\">\n",
              "  <thead>\n",
              "    <tr style=\"text-align: right;\">\n",
              "      <th></th>\n",
              "      <th>meal</th>\n",
              "      <th>country</th>\n",
              "      <th>market_segment</th>\n",
              "      <th>is_repeated_guest</th>\n",
              "      <th>previous_cancellations</th>\n",
              "      <th>previous_bookings_not_canceled</th>\n",
              "      <th>booking_changes</th>\n",
              "      <th>deposit_type</th>\n",
              "      <th>days_in_waiting_list</th>\n",
              "      <th>customer_type</th>\n",
              "      <th>adr</th>\n",
              "      <th>required_car_parking_spaces</th>\n",
              "      <th>total_of_special_requests</th>\n",
              "      <th>total_stay</th>\n",
              "      <th>guests</th>\n",
              "    </tr>\n",
              "  </thead>\n",
              "  <tbody>\n",
              "    <tr>\n",
              "      <th>0</th>\n",
              "      <td>BB</td>\n",
              "      <td>PRT</td>\n",
              "      <td>Direct</td>\n",
              "      <td>0</td>\n",
              "      <td>0</td>\n",
              "      <td>0</td>\n",
              "      <td>3</td>\n",
              "      <td>No Deposit</td>\n",
              "      <td>0</td>\n",
              "      <td>Transient</td>\n",
              "      <td>0.00</td>\n",
              "      <td>0</td>\n",
              "      <td>0</td>\n",
              "      <td>0</td>\n",
              "      <td>2.0</td>\n",
              "    </tr>\n",
              "    <tr>\n",
              "      <th>1</th>\n",
              "      <td>BB</td>\n",
              "      <td>PRT</td>\n",
              "      <td>Direct</td>\n",
              "      <td>0</td>\n",
              "      <td>0</td>\n",
              "      <td>0</td>\n",
              "      <td>4</td>\n",
              "      <td>No Deposit</td>\n",
              "      <td>0</td>\n",
              "      <td>Transient</td>\n",
              "      <td>0.00</td>\n",
              "      <td>0</td>\n",
              "      <td>0</td>\n",
              "      <td>0</td>\n",
              "      <td>2.0</td>\n",
              "    </tr>\n",
              "    <tr>\n",
              "      <th>2</th>\n",
              "      <td>BB</td>\n",
              "      <td>GBR</td>\n",
              "      <td>Direct</td>\n",
              "      <td>0</td>\n",
              "      <td>0</td>\n",
              "      <td>0</td>\n",
              "      <td>0</td>\n",
              "      <td>No Deposit</td>\n",
              "      <td>0</td>\n",
              "      <td>Transient</td>\n",
              "      <td>75.00</td>\n",
              "      <td>0</td>\n",
              "      <td>0</td>\n",
              "      <td>1</td>\n",
              "      <td>1.0</td>\n",
              "    </tr>\n",
              "    <tr>\n",
              "      <th>3</th>\n",
              "      <td>BB</td>\n",
              "      <td>GBR</td>\n",
              "      <td>Corporate</td>\n",
              "      <td>0</td>\n",
              "      <td>0</td>\n",
              "      <td>0</td>\n",
              "      <td>0</td>\n",
              "      <td>No Deposit</td>\n",
              "      <td>0</td>\n",
              "      <td>Transient</td>\n",
              "      <td>75.00</td>\n",
              "      <td>0</td>\n",
              "      <td>0</td>\n",
              "      <td>1</td>\n",
              "      <td>1.0</td>\n",
              "    </tr>\n",
              "    <tr>\n",
              "      <th>4</th>\n",
              "      <td>BB</td>\n",
              "      <td>GBR</td>\n",
              "      <td>Online TA</td>\n",
              "      <td>0</td>\n",
              "      <td>0</td>\n",
              "      <td>0</td>\n",
              "      <td>0</td>\n",
              "      <td>No Deposit</td>\n",
              "      <td>0</td>\n",
              "      <td>Transient</td>\n",
              "      <td>98.00</td>\n",
              "      <td>0</td>\n",
              "      <td>1</td>\n",
              "      <td>2</td>\n",
              "      <td>2.0</td>\n",
              "    </tr>\n",
              "    <tr>\n",
              "      <th>...</th>\n",
              "      <td>...</td>\n",
              "      <td>...</td>\n",
              "      <td>...</td>\n",
              "      <td>...</td>\n",
              "      <td>...</td>\n",
              "      <td>...</td>\n",
              "      <td>...</td>\n",
              "      <td>...</td>\n",
              "      <td>...</td>\n",
              "      <td>...</td>\n",
              "      <td>...</td>\n",
              "      <td>...</td>\n",
              "      <td>...</td>\n",
              "      <td>...</td>\n",
              "      <td>...</td>\n",
              "    </tr>\n",
              "    <tr>\n",
              "      <th>95</th>\n",
              "      <td>BB</td>\n",
              "      <td>PRT</td>\n",
              "      <td>Online TA</td>\n",
              "      <td>0</td>\n",
              "      <td>0</td>\n",
              "      <td>0</td>\n",
              "      <td>0</td>\n",
              "      <td>No Deposit</td>\n",
              "      <td>0</td>\n",
              "      <td>Transient</td>\n",
              "      <td>73.80</td>\n",
              "      <td>0</td>\n",
              "      <td>1</td>\n",
              "      <td>2</td>\n",
              "      <td>2.0</td>\n",
              "    </tr>\n",
              "    <tr>\n",
              "      <th>96</th>\n",
              "      <td>BB</td>\n",
              "      <td>PRT</td>\n",
              "      <td>Online TA</td>\n",
              "      <td>0</td>\n",
              "      <td>0</td>\n",
              "      <td>0</td>\n",
              "      <td>0</td>\n",
              "      <td>No Deposit</td>\n",
              "      <td>0</td>\n",
              "      <td>Transient</td>\n",
              "      <td>117.00</td>\n",
              "      <td>0</td>\n",
              "      <td>1</td>\n",
              "      <td>7</td>\n",
              "      <td>2.0</td>\n",
              "    </tr>\n",
              "    <tr>\n",
              "      <th>97</th>\n",
              "      <td>HB</td>\n",
              "      <td>ESP</td>\n",
              "      <td>Offline TA/TO</td>\n",
              "      <td>0</td>\n",
              "      <td>0</td>\n",
              "      <td>0</td>\n",
              "      <td>0</td>\n",
              "      <td>No Deposit</td>\n",
              "      <td>0</td>\n",
              "      <td>Transient</td>\n",
              "      <td>196.54</td>\n",
              "      <td>0</td>\n",
              "      <td>1</td>\n",
              "      <td>7</td>\n",
              "      <td>3.0</td>\n",
              "    </tr>\n",
              "    <tr>\n",
              "      <th>98</th>\n",
              "      <td>BB</td>\n",
              "      <td>PRT</td>\n",
              "      <td>Online TA</td>\n",
              "      <td>0</td>\n",
              "      <td>0</td>\n",
              "      <td>0</td>\n",
              "      <td>0</td>\n",
              "      <td>No Deposit</td>\n",
              "      <td>0</td>\n",
              "      <td>Transient</td>\n",
              "      <td>99.30</td>\n",
              "      <td>1</td>\n",
              "      <td>2</td>\n",
              "      <td>7</td>\n",
              "      <td>3.0</td>\n",
              "    </tr>\n",
              "    <tr>\n",
              "      <th>99</th>\n",
              "      <td>BB</td>\n",
              "      <td>DEU</td>\n",
              "      <td>Direct</td>\n",
              "      <td>0</td>\n",
              "      <td>0</td>\n",
              "      <td>0</td>\n",
              "      <td>0</td>\n",
              "      <td>No Deposit</td>\n",
              "      <td>0</td>\n",
              "      <td>Transient</td>\n",
              "      <td>90.95</td>\n",
              "      <td>0</td>\n",
              "      <td>0</td>\n",
              "      <td>7</td>\n",
              "      <td>2.0</td>\n",
              "    </tr>\n",
              "  </tbody>\n",
              "</table>\n",
              "<p>100 rows × 15 columns</p>\n",
              "</div>"
            ],
            "text/plain": [
              "   meal country market_segment  ...  total_of_special_requests  total_stay  guests\n",
              "0    BB     PRT         Direct  ...                          0           0     2.0\n",
              "1    BB     PRT         Direct  ...                          0           0     2.0\n",
              "2    BB     GBR         Direct  ...                          0           1     1.0\n",
              "3    BB     GBR      Corporate  ...                          0           1     1.0\n",
              "4    BB     GBR      Online TA  ...                          1           2     2.0\n",
              "..  ...     ...            ...  ...                        ...         ...     ...\n",
              "95   BB     PRT      Online TA  ...                          1           2     2.0\n",
              "96   BB     PRT      Online TA  ...                          1           7     2.0\n",
              "97   HB     ESP  Offline TA/TO  ...                          1           7     3.0\n",
              "98   BB     PRT      Online TA  ...                          2           7     3.0\n",
              "99   BB     DEU         Direct  ...                          0           7     2.0\n",
              "\n",
              "[100 rows x 15 columns]"
            ]
          },
          "metadata": {},
          "execution_count": 9
        }
      ]
    },
    {
      "cell_type": "code",
      "metadata": {
        "colab": {
          "base_uri": "https://localhost:8080/",
          "height": 162
        },
        "id": "AJLDMKAlmzwI",
        "outputId": "06ba9fc1-3c34-4597-efae-a4042cd8715f"
      },
      "source": [
        "dataset = dataset[dataset.deposit_type==\"No Deposit\"]\n",
        "dataset.groupby(['deposit_type','is_canceled']).count()"
      ],
      "execution_count": 10,
      "outputs": [
        {
          "output_type": "execute_result",
          "data": {
            "text/html": [
              "<div>\n",
              "<style scoped>\n",
              "    .dataframe tbody tr th:only-of-type {\n",
              "        vertical-align: middle;\n",
              "    }\n",
              "\n",
              "    .dataframe tbody tr th {\n",
              "        vertical-align: top;\n",
              "    }\n",
              "\n",
              "    .dataframe thead th {\n",
              "        text-align: right;\n",
              "    }\n",
              "</style>\n",
              "<table border=\"1\" class=\"dataframe\">\n",
              "  <thead>\n",
              "    <tr style=\"text-align: right;\">\n",
              "      <th></th>\n",
              "      <th></th>\n",
              "      <th>hotel</th>\n",
              "      <th>lead_time</th>\n",
              "      <th>arrival_date_month</th>\n",
              "      <th>arrival_date_week_number</th>\n",
              "      <th>meal</th>\n",
              "      <th>country</th>\n",
              "      <th>market_segment</th>\n",
              "      <th>is_repeated_guest</th>\n",
              "      <th>previous_cancellations</th>\n",
              "      <th>previous_bookings_not_canceled</th>\n",
              "      <th>booking_changes</th>\n",
              "      <th>days_in_waiting_list</th>\n",
              "      <th>customer_type</th>\n",
              "      <th>adr</th>\n",
              "      <th>required_car_parking_spaces</th>\n",
              "      <th>total_of_special_requests</th>\n",
              "      <th>total_stay</th>\n",
              "      <th>guests</th>\n",
              "      <th>different_room_assigned</th>\n",
              "    </tr>\n",
              "    <tr>\n",
              "      <th>deposit_type</th>\n",
              "      <th>is_canceled</th>\n",
              "      <th></th>\n",
              "      <th></th>\n",
              "      <th></th>\n",
              "      <th></th>\n",
              "      <th></th>\n",
              "      <th></th>\n",
              "      <th></th>\n",
              "      <th></th>\n",
              "      <th></th>\n",
              "      <th></th>\n",
              "      <th></th>\n",
              "      <th></th>\n",
              "      <th></th>\n",
              "      <th></th>\n",
              "      <th></th>\n",
              "      <th></th>\n",
              "      <th></th>\n",
              "      <th></th>\n",
              "      <th></th>\n",
              "    </tr>\n",
              "  </thead>\n",
              "  <tbody>\n",
              "    <tr>\n",
              "      <th rowspan=\"2\" valign=\"top\">No Deposit</th>\n",
              "      <th>False</th>\n",
              "      <td>74947</td>\n",
              "      <td>74947</td>\n",
              "      <td>74947</td>\n",
              "      <td>74947</td>\n",
              "      <td>74947</td>\n",
              "      <td>74947</td>\n",
              "      <td>74947</td>\n",
              "      <td>74947</td>\n",
              "      <td>74947</td>\n",
              "      <td>74947</td>\n",
              "      <td>74947</td>\n",
              "      <td>74947</td>\n",
              "      <td>74947</td>\n",
              "      <td>74947</td>\n",
              "      <td>74947</td>\n",
              "      <td>74947</td>\n",
              "      <td>74947</td>\n",
              "      <td>74947</td>\n",
              "      <td>74947</td>\n",
              "    </tr>\n",
              "    <tr>\n",
              "      <th>True</th>\n",
              "      <td>29690</td>\n",
              "      <td>29690</td>\n",
              "      <td>29690</td>\n",
              "      <td>29690</td>\n",
              "      <td>29690</td>\n",
              "      <td>29690</td>\n",
              "      <td>29690</td>\n",
              "      <td>29690</td>\n",
              "      <td>29690</td>\n",
              "      <td>29690</td>\n",
              "      <td>29690</td>\n",
              "      <td>29690</td>\n",
              "      <td>29690</td>\n",
              "      <td>29690</td>\n",
              "      <td>29690</td>\n",
              "      <td>29690</td>\n",
              "      <td>29690</td>\n",
              "      <td>29690</td>\n",
              "      <td>29690</td>\n",
              "    </tr>\n",
              "  </tbody>\n",
              "</table>\n",
              "</div>"
            ],
            "text/plain": [
              "                          hotel  lead_time  ...  guests  different_room_assigned\n",
              "deposit_type is_canceled                    ...                                 \n",
              "No Deposit   False        74947      74947  ...   74947                    74947\n",
              "             True         29690      29690  ...   29690                    29690\n",
              "\n",
              "[2 rows x 19 columns]"
            ]
          },
          "metadata": {},
          "execution_count": 10
        }
      ]
    },
    {
      "cell_type": "code",
      "metadata": {
        "id": "ovC4G0NZmzym"
      },
      "source": [
        "dataset_copy = dataset.copy(deep=True)"
      ],
      "execution_count": 11,
      "outputs": []
    },
    {
      "cell_type": "code",
      "metadata": {
        "id": "E3A5aETJFqMb"
      },
      "source": [
        ""
      ],
      "execution_count": null,
      "outputs": []
    },
    {
      "cell_type": "code",
      "metadata": {
        "id": "mWEhJ9HSFqO6"
      },
      "source": [
        ""
      ],
      "execution_count": null,
      "outputs": []
    },
    {
      "cell_type": "markdown",
      "metadata": {
        "id": "K-V4Ic9CFqx1"
      },
      "source": [
        "# Relationship betweeen room reassignment and book cancelation"
      ]
    },
    {
      "cell_type": "code",
      "metadata": {
        "colab": {
          "base_uri": "https://localhost:8080/",
          "height": 117
        },
        "id": "QMGDaqbMFqRv",
        "outputId": "7e7fbee3-cf3d-4f0c-f64e-4cc16cfedbd2"
      },
      "source": [
        "dataset.sample()"
      ],
      "execution_count": 12,
      "outputs": [
        {
          "output_type": "execute_result",
          "data": {
            "text/html": [
              "<div>\n",
              "<style scoped>\n",
              "    .dataframe tbody tr th:only-of-type {\n",
              "        vertical-align: middle;\n",
              "    }\n",
              "\n",
              "    .dataframe tbody tr th {\n",
              "        vertical-align: top;\n",
              "    }\n",
              "\n",
              "    .dataframe thead th {\n",
              "        text-align: right;\n",
              "    }\n",
              "</style>\n",
              "<table border=\"1\" class=\"dataframe\">\n",
              "  <thead>\n",
              "    <tr style=\"text-align: right;\">\n",
              "      <th></th>\n",
              "      <th>hotel</th>\n",
              "      <th>is_canceled</th>\n",
              "      <th>lead_time</th>\n",
              "      <th>arrival_date_month</th>\n",
              "      <th>arrival_date_week_number</th>\n",
              "      <th>meal</th>\n",
              "      <th>country</th>\n",
              "      <th>market_segment</th>\n",
              "      <th>is_repeated_guest</th>\n",
              "      <th>previous_cancellations</th>\n",
              "      <th>previous_bookings_not_canceled</th>\n",
              "      <th>booking_changes</th>\n",
              "      <th>deposit_type</th>\n",
              "      <th>days_in_waiting_list</th>\n",
              "      <th>customer_type</th>\n",
              "      <th>adr</th>\n",
              "      <th>required_car_parking_spaces</th>\n",
              "      <th>total_of_special_requests</th>\n",
              "      <th>total_stay</th>\n",
              "      <th>guests</th>\n",
              "      <th>different_room_assigned</th>\n",
              "    </tr>\n",
              "  </thead>\n",
              "  <tbody>\n",
              "    <tr>\n",
              "      <th>41872</th>\n",
              "      <td>City Hotel</td>\n",
              "      <td>False</td>\n",
              "      <td>0</td>\n",
              "      <td>August</td>\n",
              "      <td>35</td>\n",
              "      <td>BB</td>\n",
              "      <td>PRT</td>\n",
              "      <td>Online TA</td>\n",
              "      <td>0</td>\n",
              "      <td>0</td>\n",
              "      <td>0</td>\n",
              "      <td>0</td>\n",
              "      <td>No Deposit</td>\n",
              "      <td>0</td>\n",
              "      <td>Contract</td>\n",
              "      <td>106.0</td>\n",
              "      <td>0</td>\n",
              "      <td>2</td>\n",
              "      <td>2</td>\n",
              "      <td>2.0</td>\n",
              "      <td>False</td>\n",
              "    </tr>\n",
              "  </tbody>\n",
              "</table>\n",
              "</div>"
            ],
            "text/plain": [
              "            hotel  is_canceled  ...  guests different_room_assigned\n",
              "41872  City Hotel        False  ...     2.0                   False\n",
              "\n",
              "[1 rows x 21 columns]"
            ]
          },
          "metadata": {},
          "execution_count": 12
        }
      ]
    },
    {
      "cell_type": "code",
      "metadata": {
        "colab": {
          "base_uri": "https://localhost:8080/",
          "height": 419
        },
        "id": "DKkuoSBJFqTR",
        "outputId": "ce727f65-3e7d-4576-c62f-9874642308e4"
      },
      "source": [
        "dataset[['is_canceled','different_room_assigned']]"
      ],
      "execution_count": 14,
      "outputs": [
        {
          "output_type": "execute_result",
          "data": {
            "text/html": [
              "<div>\n",
              "<style scoped>\n",
              "    .dataframe tbody tr th:only-of-type {\n",
              "        vertical-align: middle;\n",
              "    }\n",
              "\n",
              "    .dataframe tbody tr th {\n",
              "        vertical-align: top;\n",
              "    }\n",
              "\n",
              "    .dataframe thead th {\n",
              "        text-align: right;\n",
              "    }\n",
              "</style>\n",
              "<table border=\"1\" class=\"dataframe\">\n",
              "  <thead>\n",
              "    <tr style=\"text-align: right;\">\n",
              "      <th></th>\n",
              "      <th>is_canceled</th>\n",
              "      <th>different_room_assigned</th>\n",
              "    </tr>\n",
              "  </thead>\n",
              "  <tbody>\n",
              "    <tr>\n",
              "      <th>0</th>\n",
              "      <td>False</td>\n",
              "      <td>False</td>\n",
              "    </tr>\n",
              "    <tr>\n",
              "      <th>1</th>\n",
              "      <td>False</td>\n",
              "      <td>False</td>\n",
              "    </tr>\n",
              "    <tr>\n",
              "      <th>2</th>\n",
              "      <td>False</td>\n",
              "      <td>True</td>\n",
              "    </tr>\n",
              "    <tr>\n",
              "      <th>3</th>\n",
              "      <td>False</td>\n",
              "      <td>False</td>\n",
              "    </tr>\n",
              "    <tr>\n",
              "      <th>4</th>\n",
              "      <td>False</td>\n",
              "      <td>False</td>\n",
              "    </tr>\n",
              "    <tr>\n",
              "      <th>...</th>\n",
              "      <td>...</td>\n",
              "      <td>...</td>\n",
              "    </tr>\n",
              "    <tr>\n",
              "      <th>119385</th>\n",
              "      <td>False</td>\n",
              "      <td>False</td>\n",
              "    </tr>\n",
              "    <tr>\n",
              "      <th>119386</th>\n",
              "      <td>False</td>\n",
              "      <td>False</td>\n",
              "    </tr>\n",
              "    <tr>\n",
              "      <th>119387</th>\n",
              "      <td>False</td>\n",
              "      <td>False</td>\n",
              "    </tr>\n",
              "    <tr>\n",
              "      <th>119388</th>\n",
              "      <td>False</td>\n",
              "      <td>False</td>\n",
              "    </tr>\n",
              "    <tr>\n",
              "      <th>119389</th>\n",
              "      <td>False</td>\n",
              "      <td>False</td>\n",
              "    </tr>\n",
              "  </tbody>\n",
              "</table>\n",
              "<p>104637 rows × 2 columns</p>\n",
              "</div>"
            ],
            "text/plain": [
              "        is_canceled  different_room_assigned\n",
              "0             False                    False\n",
              "1             False                    False\n",
              "2             False                     True\n",
              "3             False                    False\n",
              "4             False                    False\n",
              "...             ...                      ...\n",
              "119385        False                    False\n",
              "119386        False                    False\n",
              "119387        False                    False\n",
              "119388        False                    False\n",
              "119389        False                    False\n",
              "\n",
              "[104637 rows x 2 columns]"
            ]
          },
          "metadata": {},
          "execution_count": 14
        }
      ]
    },
    {
      "cell_type": "markdown",
      "metadata": {
        "id": "MUMBBWn_HcNw"
      },
      "source": [
        "## Does having a room resassigned lead to cancellation ?"
      ]
    },
    {
      "cell_type": "code",
      "metadata": {
        "colab": {
          "base_uri": "https://localhost:8080/",
          "height": 37
        },
        "id": "J4CacP7SRoAf",
        "outputId": "5b41bc7d-befd-4ba8-d90a-6caaa11ecbb6"
      },
      "source": [
        "stats.pearsonr(dataset['is_canceled'], dataset['different_room_assigned'])"
      ],
      "execution_count": 39,
      "outputs": [
        {
          "output_type": "execute_result",
          "data": {
            "image/png": "[encoded data removed]",
            "text/latex": "$\\displaystyle \\left( -0.211342175274026, \\  0.0\\right)$",
            "text/plain": [
              "(-0.21134217527402566, 0.0)"
            ]
          },
          "metadata": {},
          "execution_count": 39
        }
      ]
    },
    {
      "cell_type": "markdown",
      "metadata": {
        "id": "JtNnUVfhSaLI"
      },
      "source": [
        "##### We find that assigning rooms decreases cancellations !!!"
      ]
    },
    {
      "cell_type": "code",
      "metadata": {
        "id": "9fdxcw_ZR632"
      },
      "source": [
        ""
      ],
      "execution_count": null,
      "outputs": []
    },
    {
      "cell_type": "code",
      "metadata": {
        "id": "V71qhhPGR6-Q"
      },
      "source": [
        ""
      ],
      "execution_count": null,
      "outputs": []
    },
    {
      "cell_type": "markdown",
      "metadata": {
        "id": "rsvYzpvRJQa5"
      },
      "source": [
        "### There seems to be some correlation between room reasignment and cancellation\n",
        "\n",
        "But is room reassigment the only confounding variable? \n",
        "What if there were some unobserved confounders, would it still influence cancellation ??\n"
      ]
    },
    {
      "cell_type": "code",
      "metadata": {
        "id": "SspFPtisQiy9"
      },
      "source": [
        ""
      ],
      "execution_count": null,
      "outputs": []
    },
    {
      "cell_type": "code",
      "metadata": {
        "id": "r2b3gNnHQi1k"
      },
      "source": [
        ""
      ],
      "execution_count": null,
      "outputs": []
    },
    {
      "cell_type": "code",
      "metadata": {
        "id": "MFIW2zE0Qi4o"
      },
      "source": [
        ""
      ],
      "execution_count": null,
      "outputs": []
    },
    {
      "cell_type": "code",
      "metadata": {
        "id": "slN21vykQi6v"
      },
      "source": [
        ""
      ],
      "execution_count": null,
      "outputs": []
    },
    {
      "cell_type": "code",
      "metadata": {
        "id": "GkA_IO6jJuMH"
      },
      "source": [
        ""
      ],
      "execution_count": null,
      "outputs": []
    },
    {
      "cell_type": "markdown",
      "metadata": {
        "id": "IKlpxlN6Jutk"
      },
      "source": [
        "# Step-1. Create a Causal Graph"
      ]
    },
    {
      "cell_type": "code",
      "metadata": {
        "id": "i7w_md8QJuOl"
      },
      "source": [
        ""
      ],
      "execution_count": null,
      "outputs": []
    },
    {
      "cell_type": "markdown",
      "metadata": {
        "id": "etBe590DKqkq"
      },
      "source": [
        "## model Assumptions\n",
        "\n",
        "1. Market Segment has 2 levels, “TA” refers to the “Travel Agents” and “TO” means “Tour Operators” so it should affect the Lead Time (which is simply the number of days between booking and arrival).\n",
        "\n",
        "2. Country would also play a role in deciding whether a person books early or not (hence more Lead Time) and what type of Meal a person would prefer.\n",
        "\n",
        "3. Lead Time would definitely affected the number of Days in Waitlist (There are lesser chances of finding a reservation if you’re booking late). \n",
        "\n",
        "4. Additionally, higher Lead Times can also lead to Cancellations.\n",
        "\n",
        "5. The number of Days in Waitlist, the Total Stay in nights and the number of Guests might affect whether the booking is cancelled or retained.\n",
        "\n",
        "6. Previous Booking Retentions would affect whether a customer is a Repeated Guest or not. Additionally, both of these variables would affect whether the booking get cancelled or not (Ex- A customer who has retained his past 5 bookings in the past has a higher chance of retaining this one also. Similarly a person who has been cancelling this booking has a higher chance of repeating the same).\n",
        "\n",
        "7. Booking Changes would affect whether the customer is assigned a different room or not which might also lead to cancellation.\n",
        "\n",
        "8. Finally, the number of Booking Changes being the only confounder affecting Treatment and Outcome is highly unlikely and its possible that there might be some Unobsevered Confounders, regarding which we have no information being captured in our data."
      ]
    },
    {
      "cell_type": "code",
      "metadata": {
        "id": "rxeTizf2JuTC"
      },
      "source": [
        "\n",
        "causal_graph = \"\"\"digraph {\n",
        "different_room_assigned[label=\"Different Room Assigned\"];\n",
        "is_canceled[label=\"Booking Cancelled\"];\n",
        "booking_changes[label=\"Booking Changes\"];\n",
        "previous_bookings_not_canceled[label=\"Previous Booking Retentions\"];\n",
        "days_in_waiting_list[label=\"Days in Waitlist\"];\n",
        "lead_time[label=\"Lead Time\"];\n",
        "market_segment[label=\"Market Segment\"];\n",
        "country[label=\"Country\"];\n",
        "U[label=\"Unobserved Confounders\"];\n",
        "is_repeated_guest;\n",
        "total_stay;\n",
        "guests;\n",
        "meal;\n",
        "hotel;\n",
        "U->different_room_assigned; U->is_canceled;U->required_car_parking_spaces;\n",
        "market_segment -> lead_time;\n",
        "lead_time->is_canceled; country -> lead_time;\n",
        "different_room_assigned -> is_canceled;\n",
        "country->meal;\n",
        "lead_time -> days_in_waiting_list;\n",
        "days_in_waiting_list ->is_canceled;\n",
        "previous_bookings_not_canceled -> is_canceled;\n",
        "previous_bookings_not_canceled -> is_repeated_guest;\n",
        "is_repeated_guest -> is_canceled;\n",
        "total_stay -> is_canceled;\n",
        "guests -> is_canceled;\n",
        "booking_changes -> different_room_assigned; booking_changes -> is_canceled;\n",
        "hotel -> is_canceled;\n",
        "required_car_parking_spaces -> is_canceled;\n",
        "total_of_special_requests -> is_canceled;\n",
        "country->{hotel, required_car_parking_spaces,total_of_special_requests,is_canceled};\n",
        "market_segment->{hotel, required_car_parking_spaces,total_of_special_requests,is_canceled};\n",
        "}\"\"\""
      ],
      "execution_count": 29,
      "outputs": []
    },
    {
      "cell_type": "code",
      "metadata": {
        "id": "03v4N064JuVQ"
      },
      "source": [
        "model= dowhy.CausalModel(\n",
        "        data = dataset,\n",
        "        graph=causal_graph.replace(\"\\n\", \" \"),\n",
        "        treatment='different_room_assigned',\n",
        "        outcome='is_canceled')\n"
      ],
      "execution_count": 32,
      "outputs": []
    },
    {
      "cell_type": "code",
      "metadata": {
        "colab": {
          "base_uri": "https://localhost:8080/",
          "height": 305
        },
        "id": "R_w1cMD9L2Ag",
        "outputId": "c9f9c13b-7be4-406f-e232-aaa9a3c0e618"
      },
      "source": [
        "from IPython.display import Image, display\n",
        "display(Image(filename=\"causal_model.png\"))"
      ],
      "execution_count": 33,
      "outputs": [
        {
          "output_type": "display_data",
          "data": {
            "image/png": "[encoded data removed]",
            "text/plain": [
              "<IPython.core.display.Image object>"
            ]
          },
          "metadata": {}
        }
      ]
    },
    {
      "cell_type": "code",
      "metadata": {
        "colab": {
          "base_uri": "https://localhost:8080/",
          "height": 248
        },
        "id": "BZrIprs1MAb4",
        "outputId": "0c8ae59b-de10-40d7-dea1-78d2d22719a1"
      },
      "source": [
        "model.view_model()"
      ],
      "execution_count": 34,
      "outputs": [
        {
          "output_type": "display_data",
          "data": {
            "image/png": "[encoded data removed]",
            "text/plain": [
              "<Figure size 432x288 with 1 Axes>"
            ]
          },
          "metadata": {}
        }
      ]
    },
    {
      "cell_type": "markdown",
      "metadata": {
        "id": "qE-BuD10Mnf4"
      },
      "source": [
        "# Step-2. Identify the Causal Effect"
      ]
    },
    {
      "cell_type": "markdown",
      "metadata": {
        "id": "POGmvJ4PMniW"
      },
      "source": [
        ""
      ]
    },
    {
      "cell_type": "markdown",
      "metadata": {
        "id": "4RvP9OlNMnkm"
      },
      "source": [
        ""
      ]
    },
    {
      "cell_type": "code",
      "metadata": {
        "colab": {
          "base_uri": "https://localhost:8080/"
        },
        "id": "FyJT5bwNHt-v",
        "outputId": "6afb36d3-af83-46cc-99be-5355ad074a90"
      },
      "source": [
        "import statsmodels\n",
        "model= dowhy.CausalModel(\n",
        "        data = dataset,\n",
        "        graph=causal_graph.replace(\"\\n\", \" \"),\n",
        "        treatment=\"different_room_assigned\",\n",
        "        outcome='is_canceled')\n",
        "#Identify the causal effect\n",
        "identified_estimand = model.identify_effect(proceed_when_unidentifiable=True)\n",
        "print(identified_estimand)"
      ],
      "execution_count": 35,
      "outputs": [
        {
          "output_type": "stream",
          "text": [
            "Estimand type: nonparametric-ate\n",
            "\n",
            "### Estimand : 1\n",
            "Estimand name: backdoor\n",
            "Estimand expression:\n",
            "            d                                                                 \n",
            "──────────────────────────(Expectation(is_canceled|country,previous_bookings_n\n",
            "d[different_room_assigned]                                                    \n",
            "\n",
            "                                                                              \n",
            "ot_canceled,lead_time,hotel,required_car_parking_spaces,booking_changes,is_rep\n",
            "                                                                              \n",
            "\n",
            "                                                                              \n",
            "eated_guest,total_stay,meal,total_of_special_requests,guests,market_segment,da\n",
            "                                                                              \n",
            "\n",
            "                    \n",
            "ys_in_waiting_list))\n",
            "                    \n",
            "Estimand assumption 1, Unconfoundedness: If U→{different_room_assigned} and U→is_canceled then P(is_canceled|different_room_assigned,country,previous_bookings_not_canceled,lead_time,hotel,required_car_parking_spaces,booking_changes,is_repeated_guest,total_stay,meal,total_of_special_requests,guests,market_segment,days_in_waiting_list,U) = P(is_canceled|different_room_assigned,country,previous_bookings_not_canceled,lead_time,hotel,required_car_parking_spaces,booking_changes,is_repeated_guest,total_stay,meal,total_of_special_requests,guests,market_segment,days_in_waiting_list)\n",
            "\n",
            "### Estimand : 2\n",
            "Estimand name: iv\n",
            "No such variable found!\n",
            "\n",
            "### Estimand : 3\n",
            "Estimand name: frontdoor\n",
            "No such variable found!\n",
            "\n"
          ],
          "name": "stdout"
        }
      ]
    },
    {
      "cell_type": "code",
      "metadata": {
        "id": "7B8KCh9jHuBj"
      },
      "source": [
        ""
      ],
      "execution_count": null,
      "outputs": []
    },
    {
      "cell_type": "markdown",
      "metadata": {
        "id": "MxOLxmNFNrxJ"
      },
      "source": [
        "# Step-3. Estimate the identified estimand"
      ]
    },
    {
      "cell_type": "code",
      "metadata": {
        "colab": {
          "base_uri": "https://localhost:8080/"
        },
        "id": "NTjge9bfNtdV",
        "outputId": "a2064716-34a2-4d6f-e004-5cd3f3f030f1"
      },
      "source": [
        "estimate = model.estimate_effect(identified_estimand,\n",
        "                                 method_name=\"backdoor.propensity_score_stratification\",target_units=\"ate\")\n",
        "# ATE = Average Treatment Effect\n",
        "# ATT = Average Treatment Effect on Treated (i.e. those who were assigned a different room)\n",
        "# ATC = Average Treatment Effect on Control (i.e. those who were not assigned a different room)\n",
        "print(estimate)"
      ],
      "execution_count": 36,
      "outputs": [
        {
          "output_type": "stream",
          "text": [
            "*** Causal Estimate ***\n",
            "\n",
            "## Identified estimand\n",
            "Estimand type: nonparametric-ate\n",
            "\n",
            "### Estimand : 1\n",
            "Estimand name: backdoor\n",
            "Estimand expression:\n",
            "            d                                                                 \n",
            "──────────────────────────(Expectation(is_canceled|country,previous_bookings_n\n",
            "d[different_room_assigned]                                                    \n",
            "\n",
            "                                                                              \n",
            "ot_canceled,lead_time,hotel,required_car_parking_spaces,booking_changes,is_rep\n",
            "                                                                              \n",
            "\n",
            "                                                                              \n",
            "eated_guest,total_stay,meal,total_of_special_requests,guests,market_segment,da\n",
            "                                                                              \n",
            "\n",
            "                    \n",
            "ys_in_waiting_list))\n",
            "                    \n",
            "Estimand assumption 1, Unconfoundedness: If U→{different_room_assigned} and U→is_canceled then P(is_canceled|different_room_assigned,country,previous_bookings_not_canceled,lead_time,hotel,required_car_parking_spaces,booking_changes,is_repeated_guest,total_stay,meal,total_of_special_requests,guests,market_segment,days_in_waiting_list,U) = P(is_canceled|different_room_assigned,country,previous_bookings_not_canceled,lead_time,hotel,required_car_parking_spaces,booking_changes,is_repeated_guest,total_stay,meal,total_of_special_requests,guests,market_segment,days_in_waiting_list)\n",
            "\n",
            "## Realized estimand\n",
            "b: is_canceled~different_room_assigned+country+previous_bookings_not_canceled+lead_time+hotel+required_car_parking_spaces+booking_changes+is_repeated_guest+total_stay+meal+total_of_special_requests+guests+market_segment+days_in_waiting_list\n",
            "Target units: ate\n",
            "\n",
            "## Estimate\n",
            "Mean value: -0.2507239975864996\n",
            "\n"
          ],
          "name": "stdout"
        }
      ]
    },
    {
      "cell_type": "markdown",
      "metadata": {
        "id": "9P5BGLYLRFZA"
      },
      "source": [
        "# The result is surprising. It means that having a different room assigned decreases the chances of a cancellation\n",
        "\n",
        "# It implies that a decision/policy to reduce the number of different_room_assigned at hotels may be counter-productive."
      ]
    },
    {
      "cell_type": "code",
      "metadata": {
        "id": "O9q8hewYNtf7"
      },
      "source": [
        ""
      ],
      "execution_count": null,
      "outputs": []
    },
    {
      "cell_type": "markdown",
      "metadata": {
        "id": "m3b6t51xTdk2"
      },
      "source": [
        "# Step-4. Refute results"
      ]
    },
    {
      "cell_type": "code",
      "metadata": {
        "colab": {
          "base_uri": "https://localhost:8080/"
        },
        "id": "ii49YKHkNtiG",
        "outputId": "d180eb53-6380-4942-9222-4c0415b1b7d8"
      },
      "source": [
        "refute1_results=model.refute_estimate(identified_estimand, estimate,\n",
        "        method_name=\"random_common_cause\")\n",
        "print(refute1_results)"
      ],
      "execution_count": 40,
      "outputs": [
        {
          "output_type": "stream",
          "text": [
            "Refute: Add a Random Common Cause\n",
            "Estimated effect:-0.2507239975864996\n",
            "New effect:-0.2500216487868105\n",
            "\n"
          ],
          "name": "stdout"
        }
      ]
    },
    {
      "cell_type": "code",
      "metadata": {
        "colab": {
          "base_uri": "https://localhost:8080/"
        },
        "id": "POlUUqgANtkQ",
        "outputId": "2d58fcf6-8472-45f1-908f-085254cb5d1a"
      },
      "source": [
        "refute2_results=model.refute_estimate(identified_estimand, estimate,\n",
        "        method_name=\"placebo_treatment_refuter\")\n",
        "print(refute2_results)"
      ],
      "execution_count": 41,
      "outputs": [
        {
          "output_type": "stream",
          "text": [
            "Refute: Use a Placebo Treatment\n",
            "Estimated effect:-0.2507239975864996\n",
            "New effect:8.484475275960156e-05\n",
            "p value:0.46\n",
            "\n"
          ],
          "name": "stdout"
        }
      ]
    },
    {
      "cell_type": "code",
      "metadata": {
        "id": "u1qx9kVOTiKn"
      },
      "source": [
        "refute3_results=model.refute_estimate(identified_estimand, estimate,\n",
        "        method_name=\"data_subset_refuter\")\n",
        "print(refute3_results)"
      ],
      "execution_count": null,
      "outputs": []
    },
    {
      "cell_type": "code",
      "metadata": {
        "id": "ZtQj2LiWTiNb"
      },
      "source": [
        ""
      ],
      "execution_count": null,
      "outputs": []
    },
    {
      "cell_type": "code",
      "metadata": {
        "id": "NU7eu_ZMTiQU"
      },
      "source": [
        ""
      ],
      "execution_count": null,
      "outputs": []
    },
    {
      "cell_type": "markdown",
      "metadata": {
        "id": "ncu1QntcU2Y_"
      },
      "source": [
        "## To do: add code to explain and interpret the model"
      ]
    },
    {
      "cell_type": "code",
      "metadata": {
        "id": "4dR82h0-TiSG"
      },
      "source": [
        ""
      ],
      "execution_count": null,
      "outputs": []
    },
    {
      "cell_type": "code",
      "metadata": {
        "id": "T_Iwj3Y0TiUs"
      },
      "source": [
        ""
      ],
      "execution_count": null,
      "outputs": []
    },
    {
      "cell_type": "code",
      "metadata": {
        "id": "8AVQoPK7TiW1"
      },
      "source": [
        ""
      ],
      "execution_count": null,
      "outputs": []
    },
    {
      "cell_type": "code",
      "metadata": {
        "id": "OlEbnB47TiZP"
      },
      "source": [
        ""
      ],
      "execution_count": null,
      "outputs": []
    },
    {
      "cell_type": "code",
      "metadata": {
        "id": "jXtCyr8HHEKw"
      },
      "source": [
        ""
      ],
      "execution_count": null,
      "outputs": []
    }
  ]
}