{
  "nbformat": 4,
  "nbformat_minor": 0,
  "metadata": {
    "colab": {
      "name": "Getting started with DoWhy: A simple example.ipynb",
      "provenance": [],
      "authorship_tag": "ABX9TyMdOYecj1mLktWzcK6NZP2q",
      "include_colab_link": true
    },
    "kernelspec": {
      "name": "python3",
      "display_name": "Python 3"
    },
    "language_info": {
      "name": "python"
    }
  },
  "cells": [
    {
      "cell_type": "markdown",
      "metadata": {
        "id": "view-in-github",
        "colab_type": "text"
      },
      "source": [
        "<a href=\"https://colab.research.google.com/github/thousandoaks/Intro-Causal-Inference/blob/main/code/Getting_started_with_DoWhy_A_simple_example.ipynb\" target=\"_parent\"><img src=\"https://colab.research.google.com/assets/colab-badge.svg\" alt=\"Open In Colab\"/></a>"
      ]
    },
    {
      "cell_type": "code",
      "metadata": {
        "colab": {
          "base_uri": "https://localhost:8080/"
        },
        "id": "fdvmamEKfXd1",
        "outputId": "85db977e-6517-4a95-c26e-d1aa1cb077e4"
      },
      "source": [
        "pip install dowhy"
      ],
      "execution_count": 2,
      "outputs": [
        {
          "output_type": "stream",
          "text": [
            "Collecting dowhy\n",
            "  Downloading dowhy-0.6-py3-none-any.whl (123 kB)\n",
            "\u001b[?25l\r\u001b[K     |██▋                             | 10 kB 17.2 MB/s eta 0:00:01\r\u001b[K     |█████▎                          | 20 kB 20.5 MB/s eta 0:00:01\r\u001b[K     |████████                        | 30 kB 15.9 MB/s eta 0:00:01\r\u001b[K     |██████████▋                     | 40 kB 10.7 MB/s eta 0:00:01\r\u001b[K     |█████████████▏                  | 51 kB 5.6 MB/s eta 0:00:01\r\u001b[K     |███████████████▉                | 61 kB 6.2 MB/s eta 0:00:01\r\u001b[K     |██████████████████▌             | 71 kB 5.8 MB/s eta 0:00:01\r\u001b[K     |█████████████████████▏          | 81 kB 6.5 MB/s eta 0:00:01\r\u001b[K     |███████████████████████▉        | 92 kB 4.9 MB/s eta 0:00:01\r\u001b[K     |██████████████████████████▍     | 102 kB 5.3 MB/s eta 0:00:01\r\u001b[K     |█████████████████████████████   | 112 kB 5.3 MB/s eta 0:00:01\r\u001b[K     |███████████████████████████████▊| 122 kB 5.3 MB/s eta 0:00:01\r\u001b[K     |████████████████████████████████| 123 kB 5.3 MB/s \n",
            "\u001b[?25hRequirement already satisfied: statsmodels in /usr/local/lib/python3.7/dist-packages (from dowhy) (0.10.2)\n",
            "Requirement already satisfied: sympy>=1.4 in /usr/local/lib/python3.7/dist-packages (from dowhy) (1.7.1)\n",
            "Requirement already satisfied: scipy in /usr/local/lib/python3.7/dist-packages (from dowhy) (1.4.1)\n",
            "Requirement already satisfied: networkx>=2.0 in /usr/local/lib/python3.7/dist-packages (from dowhy) (2.6.2)\n",
            "Collecting pydot>=1.4\n",
            "  Downloading pydot-1.4.2-py2.py3-none-any.whl (21 kB)\n",
            "Requirement already satisfied: numpy>=1.15 in /usr/local/lib/python3.7/dist-packages (from dowhy) (1.19.5)\n",
            "Requirement already satisfied: scikit-learn in /usr/local/lib/python3.7/dist-packages (from dowhy) (0.22.2.post1)\n",
            "Requirement already satisfied: pandas>=0.24 in /usr/local/lib/python3.7/dist-packages (from dowhy) (1.1.5)\n",
            "Requirement already satisfied: python-dateutil>=2.7.3 in /usr/local/lib/python3.7/dist-packages (from pandas>=0.24->dowhy) (2.8.2)\n",
            "Requirement already satisfied: pytz>=2017.2 in /usr/local/lib/python3.7/dist-packages (from pandas>=0.24->dowhy) (2018.9)\n",
            "Requirement already satisfied: pyparsing>=2.1.4 in /usr/local/lib/python3.7/dist-packages (from pydot>=1.4->dowhy) (2.4.7)\n",
            "Requirement already satisfied: six>=1.5 in /usr/local/lib/python3.7/dist-packages (from python-dateutil>=2.7.3->pandas>=0.24->dowhy) (1.15.0)\n",
            "Requirement already satisfied: mpmath>=0.19 in /usr/local/lib/python3.7/dist-packages (from sympy>=1.4->dowhy) (1.2.1)\n",
            "Requirement already satisfied: joblib>=0.11 in /usr/local/lib/python3.7/dist-packages (from scikit-learn->dowhy) (1.0.1)\n",
            "Requirement already satisfied: patsy>=0.4.0 in /usr/local/lib/python3.7/dist-packages (from statsmodels->dowhy) (0.5.1)\n",
            "Installing collected packages: pydot, dowhy\n",
            "  Attempting uninstall: pydot\n",
            "    Found existing installation: pydot 1.3.0\n",
            "    Uninstalling pydot-1.3.0:\n",
            "      Successfully uninstalled pydot-1.3.0\n",
            "Successfully installed dowhy-0.6 pydot-1.4.2\n"
          ],
          "name": "stdout"
        }
      ]
    },
    {
      "cell_type": "code",
      "metadata": {
        "id": "U7iFz-NVfoNm"
      },
      "source": [
        "import numpy as np\n",
        "import pandas as pd\n",
        "\n",
        "import dowhy\n",
        "from dowhy import CausalModel\n",
        "import dowhy.datasets\n",
        "\n",
        "# Avoid printing dataconversion warnings from sklearn\n",
        "import warnings\n",
        "from sklearn.exceptions import DataConversionWarning\n",
        "warnings.filterwarnings(action='ignore', category=DataConversionWarning)\n",
        "\n",
        "# Config dict to set the logging level\n",
        "import logging.config\n",
        "DEFAULT_LOGGING = {\n",
        "    'version': 1,\n",
        "    'disable_existing_loggers': False,\n",
        "    'loggers': {\n",
        "        '': {\n",
        "            'level': 'WARN',\n",
        "        },\n",
        "    }\n",
        "}\n",
        "\n",
        "logging.config.dictConfig(DEFAULT_LOGGING)"
      ],
      "execution_count": 3,
      "outputs": []
    },
    {
      "cell_type": "code",
      "metadata": {
        "colab": {
          "base_uri": "https://localhost:8080/"
        },
        "id": "TmF65ne2fthA",
        "outputId": "d8be9100-8717-445e-e3a4-23411462087e"
      },
      "source": [
        "data = dowhy.datasets.linear_dataset(beta=10,\n",
        "        num_common_causes=5,\n",
        "        num_instruments = 2,\n",
        "        num_effect_modifiers=1,\n",
        "        num_samples=20000,\n",
        "        treatment_is_binary=True,\n",
        "        num_discrete_common_causes=1)\n",
        "df = data[\"df\"]\n",
        "print(df.head())\n",
        "print(data[\"dot_graph\"])\n",
        "print(\"\\n\")\n",
        "print(data[\"gml_graph\"])"
      ],
      "execution_count": 8,
      "outputs": [
        {
          "output_type": "stream",
          "text": [
            "         X0   Z0        Z1        W0  ...        W3  W4     v0          y\n",
            "0 -1.432424  1.0  0.307553  1.261187  ...  0.928597   1   True  28.102847\n",
            "1 -0.583339  0.0  0.117744 -1.391037  ... -1.389994   2  False  -5.879898\n",
            "2 -1.038430  1.0  0.026121  0.727341  ... -0.559043   2   True  15.659111\n",
            "3 -0.984499  1.0  0.674727  0.157743  ...  1.200592   1   True  16.970012\n",
            "4 -0.665454  1.0  0.199176  0.968056  ... -2.091311   1   True   3.248001\n",
            "\n",
            "[5 rows x 10 columns]\n",
            "digraph { U[label=\"Unobserved Confounders\"]; U->y;v0->y;U->v0;W0-> v0; W1-> v0; W2-> v0; W3-> v0; W4-> v0;Z0-> v0; Z1-> v0;W0-> y; W1-> y; W2-> y; W3-> y; W4-> y;X0-> y;}\n",
            "\n",
            "\n",
            "graph[directed 1node[ id \"y\" label \"y\"]node[ id \"Unobserved Confounders\" label \"Unobserved Confounders\"]edge[source \"Unobserved Confounders\" target \"y\"]node[ id \"W0\" label \"W0\"] node[ id \"W1\" label \"W1\"] node[ id \"W2\" label \"W2\"] node[ id \"W3\" label \"W3\"] node[ id \"W4\" label \"W4\"]node[ id \"Z0\" label \"Z0\"] node[ id \"Z1\" label \"Z1\"]node[ id \"v0\" label \"v0\"]edge[source \"Unobserved Confounders\" target \"v0\"]edge[source \"v0\" target \"y\"]edge[ source \"W0\" target \"v0\"] edge[ source \"W1\" target \"v0\"] edge[ source \"W2\" target \"v0\"] edge[ source \"W3\" target \"v0\"] edge[ source \"W4\" target \"v0\"]edge[ source \"Z0\" target \"v0\"] edge[ source \"Z1\" target \"v0\"]edge[ source \"W0\" target \"y\"] edge[ source \"W1\" target \"y\"] edge[ source \"W2\" target \"y\"] edge[ source \"W3\" target \"y\"] edge[ source \"W4\" target \"y\"]node[ id \"X0\" label \"X0\"] edge[ source \"X0\" target \"y\"]]\n"
          ],
          "name": "stdout"
        }
      ]
    },
    {
      "cell_type": "code",
      "metadata": {
        "colab": {
          "base_uri": "https://localhost:8080/",
          "height": 419
        },
        "id": "0YZu6CN-f1D8",
        "outputId": "87d2ea47-ee48-4b33-e50e-eaf221be3aa5"
      },
      "source": [
        "df"
      ],
      "execution_count": 9,
      "outputs": [
        {
          "output_type": "execute_result",
          "data": {
            "text/html": [
              "<div>\n",
              "<style scoped>\n",
              "    .dataframe tbody tr th:only-of-type {\n",
              "        vertical-align: middle;\n",
              "    }\n",
              "\n",
              "    .dataframe tbody tr th {\n",
              "        vertical-align: top;\n",
              "    }\n",
              "\n",
              "    .dataframe thead th {\n",
              "        text-align: right;\n",
              "    }\n",
              "</style>\n",
              "<table border=\"1\" class=\"dataframe\">\n",
              "  <thead>\n",
              "    <tr style=\"text-align: right;\">\n",
              "      <th></th>\n",
              "      <th>X0</th>\n",
              "      <th>Z0</th>\n",
              "      <th>Z1</th>\n",
              "      <th>W0</th>\n",
              "      <th>W1</th>\n",
              "      <th>W2</th>\n",
              "      <th>W3</th>\n",
              "      <th>W4</th>\n",
              "      <th>v0</th>\n",
              "      <th>y</th>\n",
              "    </tr>\n",
              "  </thead>\n",
              "  <tbody>\n",
              "    <tr>\n",
              "      <th>0</th>\n",
              "      <td>-1.432424</td>\n",
              "      <td>1.0</td>\n",
              "      <td>0.307553</td>\n",
              "      <td>1.261187</td>\n",
              "      <td>2.569677</td>\n",
              "      <td>0.199363</td>\n",
              "      <td>0.928597</td>\n",
              "      <td>1</td>\n",
              "      <td>True</td>\n",
              "      <td>28.102847</td>\n",
              "    </tr>\n",
              "    <tr>\n",
              "      <th>1</th>\n",
              "      <td>-0.583339</td>\n",
              "      <td>0.0</td>\n",
              "      <td>0.117744</td>\n",
              "      <td>-1.391037</td>\n",
              "      <td>-0.673376</td>\n",
              "      <td>-0.795703</td>\n",
              "      <td>-1.389994</td>\n",
              "      <td>2</td>\n",
              "      <td>False</td>\n",
              "      <td>-5.879898</td>\n",
              "    </tr>\n",
              "    <tr>\n",
              "      <th>2</th>\n",
              "      <td>-1.038430</td>\n",
              "      <td>1.0</td>\n",
              "      <td>0.026121</td>\n",
              "      <td>0.727341</td>\n",
              "      <td>0.018212</td>\n",
              "      <td>-0.009081</td>\n",
              "      <td>-0.559043</td>\n",
              "      <td>2</td>\n",
              "      <td>True</td>\n",
              "      <td>15.659111</td>\n",
              "    </tr>\n",
              "    <tr>\n",
              "      <th>3</th>\n",
              "      <td>-0.984499</td>\n",
              "      <td>1.0</td>\n",
              "      <td>0.674727</td>\n",
              "      <td>0.157743</td>\n",
              "      <td>0.371972</td>\n",
              "      <td>-0.263513</td>\n",
              "      <td>1.200592</td>\n",
              "      <td>1</td>\n",
              "      <td>True</td>\n",
              "      <td>16.970012</td>\n",
              "    </tr>\n",
              "    <tr>\n",
              "      <th>4</th>\n",
              "      <td>-0.665454</td>\n",
              "      <td>1.0</td>\n",
              "      <td>0.199176</td>\n",
              "      <td>0.968056</td>\n",
              "      <td>-0.590365</td>\n",
              "      <td>-0.779294</td>\n",
              "      <td>-2.091311</td>\n",
              "      <td>1</td>\n",
              "      <td>True</td>\n",
              "      <td>3.248001</td>\n",
              "    </tr>\n",
              "    <tr>\n",
              "      <th>...</th>\n",
              "      <td>...</td>\n",
              "      <td>...</td>\n",
              "      <td>...</td>\n",
              "      <td>...</td>\n",
              "      <td>...</td>\n",
              "      <td>...</td>\n",
              "      <td>...</td>\n",
              "      <td>...</td>\n",
              "      <td>...</td>\n",
              "      <td>...</td>\n",
              "    </tr>\n",
              "    <tr>\n",
              "      <th>19995</th>\n",
              "      <td>-0.752127</td>\n",
              "      <td>1.0</td>\n",
              "      <td>0.812065</td>\n",
              "      <td>0.033728</td>\n",
              "      <td>-0.803308</td>\n",
              "      <td>-0.420052</td>\n",
              "      <td>-1.365087</td>\n",
              "      <td>2</td>\n",
              "      <td>True</td>\n",
              "      <td>6.830700</td>\n",
              "    </tr>\n",
              "    <tr>\n",
              "      <th>19996</th>\n",
              "      <td>0.122774</td>\n",
              "      <td>0.0</td>\n",
              "      <td>0.925043</td>\n",
              "      <td>0.373865</td>\n",
              "      <td>0.095294</td>\n",
              "      <td>-2.834141</td>\n",
              "      <td>-0.849587</td>\n",
              "      <td>0</td>\n",
              "      <td>True</td>\n",
              "      <td>2.783994</td>\n",
              "    </tr>\n",
              "    <tr>\n",
              "      <th>19997</th>\n",
              "      <td>-1.558765</td>\n",
              "      <td>1.0</td>\n",
              "      <td>0.846115</td>\n",
              "      <td>0.991086</td>\n",
              "      <td>0.702266</td>\n",
              "      <td>0.337282</td>\n",
              "      <td>-1.452529</td>\n",
              "      <td>2</td>\n",
              "      <td>True</td>\n",
              "      <td>14.544910</td>\n",
              "    </tr>\n",
              "    <tr>\n",
              "      <th>19998</th>\n",
              "      <td>1.534886</td>\n",
              "      <td>1.0</td>\n",
              "      <td>0.123870</td>\n",
              "      <td>1.152853</td>\n",
              "      <td>0.257575</td>\n",
              "      <td>0.853032</td>\n",
              "      <td>0.166835</td>\n",
              "      <td>3</td>\n",
              "      <td>True</td>\n",
              "      <td>37.816614</td>\n",
              "    </tr>\n",
              "    <tr>\n",
              "      <th>19999</th>\n",
              "      <td>0.091724</td>\n",
              "      <td>1.0</td>\n",
              "      <td>0.116200</td>\n",
              "      <td>-0.930566</td>\n",
              "      <td>1.388789</td>\n",
              "      <td>0.200285</td>\n",
              "      <td>-1.069989</td>\n",
              "      <td>3</td>\n",
              "      <td>True</td>\n",
              "      <td>22.606470</td>\n",
              "    </tr>\n",
              "  </tbody>\n",
              "</table>\n",
              "<p>20000 rows × 10 columns</p>\n",
              "</div>"
            ],
            "text/plain": [
              "             X0   Z0        Z1        W0  ...        W3  W4     v0          y\n",
              "0     -1.432424  1.0  0.307553  1.261187  ...  0.928597   1   True  28.102847\n",
              "1     -0.583339  0.0  0.117744 -1.391037  ... -1.389994   2  False  -5.879898\n",
              "2     -1.038430  1.0  0.026121  0.727341  ... -0.559043   2   True  15.659111\n",
              "3     -0.984499  1.0  0.674727  0.157743  ...  1.200592   1   True  16.970012\n",
              "4     -0.665454  1.0  0.199176  0.968056  ... -2.091311   1   True   3.248001\n",
              "...         ...  ...       ...       ...  ...       ...  ..    ...        ...\n",
              "19995 -0.752127  1.0  0.812065  0.033728  ... -1.365087   2   True   6.830700\n",
              "19996  0.122774  0.0  0.925043  0.373865  ... -0.849587   0   True   2.783994\n",
              "19997 -1.558765  1.0  0.846115  0.991086  ... -1.452529   2   True  14.544910\n",
              "19998  1.534886  1.0  0.123870  1.152853  ...  0.166835   3   True  37.816614\n",
              "19999  0.091724  1.0  0.116200 -0.930566  ... -1.069989   3   True  22.606470\n",
              "\n",
              "[20000 rows x 10 columns]"
            ]
          },
          "metadata": {},
          "execution_count": 9
        }
      ]
    },
    {
      "cell_type": "code",
      "metadata": {
        "colab": {
          "base_uri": "https://localhost:8080/",
          "height": 305
        },
        "id": "mNHUSOWLf1IX",
        "outputId": "f2c5a234-3a7b-4b60-beb3-26b4ff7b70c0"
      },
      "source": [
        "# With graph\n",
        "model=CausalModel(\n",
        "        data = df,\n",
        "        treatment=data[\"treatment_name\"],\n",
        "        outcome=data[\"outcome_name\"],\n",
        "        graph=data[\"gml_graph\"]\n",
        "        )\n",
        "\n",
        "\n",
        "\n",
        "\n",
        "from IPython.display import Image, display\n",
        "display(Image(filename=\"causal_model.png\"))"
      ],
      "execution_count": 11,
      "outputs": [
        {
          "output_type": "display_data",
          "data": {
            "image/png": "[encoded data removed]",
            "text/plain": [
              "<IPython.core.display.Image object>"
            ]
          },
          "metadata": {}
        }
      ]
    },
    {
      "cell_type": "markdown",
      "metadata": {
        "id": "GXXlMGLYhmDn"
      },
      "source": [
        "# Identification"
      ]
    },
    {
      "cell_type": "code",
      "metadata": {
        "colab": {
          "base_uri": "https://localhost:8080/"
        },
        "id": "DyneU66ghnt5",
        "outputId": "18bbb8c2-3fe4-43bc-9b59-01b952892f10"
      },
      "source": [
        "identified_estimand = model.identify_effect(proceed_when_unidentifiable=True)\n",
        "print(identified_estimand)"
      ],
      "execution_count": 12,
      "outputs": [
        {
          "output_type": "stream",
          "text": [
            "Estimand type: nonparametric-ate\n",
            "\n",
            "### Estimand : 1\n",
            "Estimand name: backdoor\n",
            "Estimand expression:\n",
            "  d                                    \n",
            "─────(Expectation(y|W1,X0,W4,W3,W0,W2))\n",
            "d[v₀]                                  \n",
            "Estimand assumption 1, Unconfoundedness: If U→{v0} and U→y then P(y|v0,W1,X0,W4,W3,W0,W2,U) = P(y|v0,W1,X0,W4,W3,W0,W2)\n",
            "\n",
            "### Estimand : 2\n",
            "Estimand name: iv\n",
            "Estimand expression:\n",
            "Expectation(Derivative(y, [Z1, Z0])*Derivative([v0], [Z1, Z0])**(-1))\n",
            "Estimand assumption 1, As-if-random: If U→→y then ¬(U →→{Z1,Z0})\n",
            "Estimand assumption 2, Exclusion: If we remove {Z1,Z0}→{v0}, then ¬({Z1,Z0}→y)\n",
            "\n",
            "### Estimand : 3\n",
            "Estimand name: frontdoor\n",
            "No such variable found!\n",
            "\n"
          ],
          "name": "stdout"
        }
      ]
    },
    {
      "cell_type": "code",
      "metadata": {
        "id": "vkK9XmHThnwe"
      },
      "source": [
        ""
      ],
      "execution_count": null,
      "outputs": []
    },
    {
      "cell_type": "markdown",
      "metadata": {
        "id": "bItwmRcVi0UB"
      },
      "source": [
        "# Estimation"
      ]
    },
    {
      "cell_type": "code",
      "metadata": {
        "colab": {
          "base_uri": "https://localhost:8080/"
        },
        "id": "M--M1V_Ihnyu",
        "outputId": "08865a69-1361-490a-b74f-cf13ce49ddca"
      },
      "source": [
        "causal_estimate = model.estimate_effect(identified_estimand,\n",
        "        method_name=\"backdoor.propensity_score_stratification\")\n",
        "print(causal_estimate)\n",
        "print(\"Causal Estimate is \" + str(causal_estimate.value))"
      ],
      "execution_count": 13,
      "outputs": [
        {
          "output_type": "stream",
          "text": [
            "*** Causal Estimate ***\n",
            "\n",
            "## Identified estimand\n",
            "Estimand type: nonparametric-ate\n",
            "\n",
            "### Estimand : 1\n",
            "Estimand name: backdoor\n",
            "Estimand expression:\n",
            "  d                                    \n",
            "─────(Expectation(y|W1,X0,W4,W3,W0,W2))\n",
            "d[v₀]                                  \n",
            "Estimand assumption 1, Unconfoundedness: If U→{v0} and U→y then P(y|v0,W1,X0,W4,W3,W0,W2,U) = P(y|v0,W1,X0,W4,W3,W0,W2)\n",
            "\n",
            "## Realized estimand\n",
            "b: y~v0+W1+X0+W4+W3+W0+W2\n",
            "Target units: ate\n",
            "\n",
            "## Estimate\n",
            "Mean value: 11.855122237162448\n",
            "\n",
            "Causal Estimate is 11.855122237162448\n"
          ],
          "name": "stdout"
        }
      ]
    },
    {
      "cell_type": "code",
      "metadata": {
        "id": "c4yM3KAEizhp"
      },
      "source": [
        ""
      ],
      "execution_count": null,
      "outputs": []
    },
    {
      "cell_type": "markdown",
      "metadata": {
        "id": "rlnXL9_2jpNW"
      },
      "source": [
        "# Refuting the estimate"
      ]
    },
    {
      "cell_type": "code",
      "metadata": {
        "colab": {
          "base_uri": "https://localhost:8080/"
        },
        "id": "CBtEz3kOizkG",
        "outputId": "fb86b0d3-a273-451f-a195-51b0f66ef1df"
      },
      "source": [
        "res_random=model.refute_estimate(identified_estimand, causal_estimate, method_name=\"random_common_cause\")\n",
        "print(res_random)"
      ],
      "execution_count": 15,
      "outputs": [
        {
          "output_type": "stream",
          "text": [
            "Refute: Add a Random Common Cause\n",
            "Estimated effect:11.855122237162448\n",
            "New effect:11.937094543754435\n",
            "\n"
          ],
          "name": "stdout"
        }
      ]
    },
    {
      "cell_type": "code",
      "metadata": {
        "colab": {
          "base_uri": "https://localhost:8080/"
        },
        "id": "hyYXghdPizml",
        "outputId": "677265df-ca35-4a66-b260-3531d678d616"
      },
      "source": [
        "res_unobserved=model.refute_estimate(identified_estimand, causal_estimate, method_name=\"add_unobserved_common_cause\",\n",
        "                                     confounders_effect_on_treatment=\"binary_flip\", confounders_effect_on_outcome=\"linear\",\n",
        "                                    effect_strength_on_treatment=0.01, effect_strength_on_outcome=0.02)\n",
        "print(res_unobserved)"
      ],
      "execution_count": 16,
      "outputs": [
        {
          "output_type": "stream",
          "text": [
            "/usr/local/lib/python3.7/dist-packages/statsmodels/tools/_testing.py:19: FutureWarning: pandas.util.testing is deprecated. Use the functions in the public API at pandas.testing instead.\n",
            "  import pandas.util.testing as tm\n"
          ],
          "name": "stderr"
        },
        {
          "output_type": "stream",
          "text": [
            "Refute: Add an Unobserved Common Cause\n",
            "Estimated effect:11.855122237162448\n",
            "New effect:10.05361058054404\n",
            "\n"
          ],
          "name": "stdout"
        }
      ]
    },
    {
      "cell_type": "code",
      "metadata": {
        "colab": {
          "base_uri": "https://localhost:8080/"
        },
        "id": "bWTAKGRnkFvn",
        "outputId": "7b6702ee-e120-42cc-84ac-4b945dee5f92"
      },
      "source": [
        "res_placebo=model.refute_estimate(identified_estimand, causal_estimate,\n",
        "        method_name=\"placebo_treatment_refuter\", placebo_type=\"permute\")\n",
        "print(res_placebo)"
      ],
      "execution_count": 17,
      "outputs": [
        {
          "output_type": "stream",
          "text": [
            "Refute: Use a Placebo Treatment\n",
            "Estimated effect:11.855122237162448\n",
            "New effect:-0.012962086515096123\n",
            "p value:0.42000000000000004\n",
            "\n"
          ],
          "name": "stdout"
        }
      ]
    },
    {
      "cell_type": "code",
      "metadata": {
        "colab": {
          "base_uri": "https://localhost:8080/"
        },
        "id": "m6GtPmOEkP15",
        "outputId": "ee97235c-b2fd-401d-9592-b19654aafb34"
      },
      "source": [
        "res_subset=model.refute_estimate(identified_estimand, causal_estimate,\n",
        "        method_name=\"data_subset_refuter\", subset_fraction=0.9)\n",
        "print(res_subset)"
      ],
      "execution_count": 18,
      "outputs": [
        {
          "output_type": "stream",
          "text": [
            "Refute: Use a subset of data\n",
            "Estimated effect:11.855122237162448\n",
            "New effect:11.927428986805392\n",
            "p value:0.2\n",
            "\n"
          ],
          "name": "stdout"
        }
      ]
    }
  ]
}