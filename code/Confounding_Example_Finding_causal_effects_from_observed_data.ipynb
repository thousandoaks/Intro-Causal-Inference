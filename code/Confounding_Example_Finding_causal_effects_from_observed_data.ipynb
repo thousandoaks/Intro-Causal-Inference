{
  "nbformat": 4,
  "nbformat_minor": 0,
  "metadata": {
    "colab": {
      "name": "Confounding Example: Finding causal effects from observed data.ipynb",
      "provenance": [],
      "authorship_tag": "ABX9TyPD97Aghx6jdOlgt5dkd2g6",
      "include_colab_link": true
    },
    "kernelspec": {
      "name": "python3",
      "display_name": "Python 3"
    },
    "language_info": {
      "name": "python"
    }
  },
  "cells": [
    {
      "cell_type": "markdown",
      "metadata": {
        "id": "view-in-github",
        "colab_type": "text"
      },
      "source": [
        "<a href=\"https://colab.research.google.com/github/thousandoaks/Intro-Causal-Inference/blob/main/code/Confounding_Example_Finding_causal_effects_from_observed_data.ipynb\" target=\"_parent\"><img src=\"https://colab.research.google.com/assets/colab-badge.svg\" alt=\"Open In Colab\"/></a>"
      ]
    },
    {
      "cell_type": "code",
      "metadata": {
        "colab": {
          "base_uri": "https://localhost:8080/",
          "height": 368
        },
        "id": "lt_s37qYklRE",
        "outputId": "9b523dd5-3006-4b47-f30f-a573035a145f"
      },
      "source": [
        ""
      ],
      "execution_count": 2,
      "outputs": [
        {
          "output_type": "error",
          "ename": "ModuleNotFoundError",
          "evalue": "ignored",
          "traceback": [
            "\u001b[0;31m---------------------------------------------------------------------------\u001b[0m",
            "\u001b[0;31mModuleNotFoundError\u001b[0m                       Traceback (most recent call last)",
            "\u001b[0;32m<ipython-input-2-e64126255903>\u001b[0m in \u001b[0;36m<module>\u001b[0;34m()\u001b[0m\n\u001b[1;32m      2\u001b[0m \u001b[0;32mimport\u001b[0m \u001b[0mpandas\u001b[0m \u001b[0;32mas\u001b[0m \u001b[0mpd\u001b[0m\u001b[0;34m\u001b[0m\u001b[0;34m\u001b[0m\u001b[0m\n\u001b[1;32m      3\u001b[0m \u001b[0;34m\u001b[0m\u001b[0m\n\u001b[0;32m----> 4\u001b[0;31m \u001b[0;32mimport\u001b[0m \u001b[0mdowhy\u001b[0m\u001b[0;34m\u001b[0m\u001b[0;34m\u001b[0m\u001b[0m\n\u001b[0m\u001b[1;32m      5\u001b[0m \u001b[0;32mfrom\u001b[0m \u001b[0mdowhy\u001b[0m \u001b[0;32mimport\u001b[0m \u001b[0mCausalModel\u001b[0m\u001b[0;34m\u001b[0m\u001b[0;34m\u001b[0m\u001b[0m\n\u001b[1;32m      6\u001b[0m \u001b[0;32mimport\u001b[0m \u001b[0mdowhy\u001b[0m\u001b[0;34m.\u001b[0m\u001b[0mdatasets\u001b[0m\u001b[0;34m\u001b[0m\u001b[0;34m\u001b[0m\u001b[0m\n",
            "\u001b[0;31mModuleNotFoundError\u001b[0m: No module named 'dowhy'",
            "",
            "\u001b[0;31m---------------------------------------------------------------------------\u001b[0;32m\nNOTE: If your import is failing due to a missing package, you can\nmanually install dependencies using either !pip or !apt.\n\nTo view examples of installing some common dependencies, click the\n\"Open Examples\" button below.\n\u001b[0;31m---------------------------------------------------------------------------\u001b[0m\n"
          ],
          "errorDetails": {
            "actions": [
              {
                "action": "open_url",
                "actionText": "Open Examples",
                "url": "/notebooks/snippets/importing_libraries.ipynb"
              }
            ]
          }
        }
      ]
    },
    {
      "cell_type": "code",
      "metadata": {
        "colab": {
          "base_uri": "https://localhost:8080/"
        },
        "id": "KV-eJAeNknPP",
        "outputId": "deda89b0-12e7-4825-b193-57f80436f69a"
      },
      "source": [
        "pip install dowhy"
      ],
      "execution_count": 3,
      "outputs": [
        {
          "output_type": "stream",
          "text": [
            "Collecting dowhy\n",
            "  Downloading dowhy-0.6-py3-none-any.whl (123 kB)\n",
            "\u001b[?25l\r\u001b[K     |██▋                             | 10 kB 22.9 MB/s eta 0:00:01\r\u001b[K     |█████▎                          | 20 kB 27.3 MB/s eta 0:00:01\r\u001b[K     |████████                        | 30 kB 23.0 MB/s eta 0:00:01\r\u001b[K     |██████████▋                     | 40 kB 18.5 MB/s eta 0:00:01\r\u001b[K     |█████████████▏                  | 51 kB 9.2 MB/s eta 0:00:01\r\u001b[K     |███████████████▉                | 61 kB 8.7 MB/s eta 0:00:01\r\u001b[K     |██████████████████▌             | 71 kB 9.2 MB/s eta 0:00:01\r\u001b[K     |█████████████████████▏          | 81 kB 10.2 MB/s eta 0:00:01\r\u001b[K     |███████████████████████▉        | 92 kB 10.4 MB/s eta 0:00:01\r\u001b[K     |██████████████████████████▍     | 102 kB 8.5 MB/s eta 0:00:01\r\u001b[K     |█████████████████████████████   | 112 kB 8.5 MB/s eta 0:00:01\r\u001b[K     |███████████████████████████████▊| 122 kB 8.5 MB/s eta 0:00:01\r\u001b[K     |████████████████████████████████| 123 kB 8.5 MB/s \n",
            "\u001b[?25hRequirement already satisfied: numpy>=1.15 in /usr/local/lib/python3.7/dist-packages (from dowhy) (1.19.5)\n",
            "Requirement already satisfied: scikit-learn in /usr/local/lib/python3.7/dist-packages (from dowhy) (0.22.2.post1)\n",
            "Requirement already satisfied: sympy>=1.4 in /usr/local/lib/python3.7/dist-packages (from dowhy) (1.7.1)\n",
            "Requirement already satisfied: statsmodels in /usr/local/lib/python3.7/dist-packages (from dowhy) (0.10.2)\n",
            "Requirement already satisfied: networkx>=2.0 in /usr/local/lib/python3.7/dist-packages (from dowhy) (2.6.2)\n",
            "Collecting pydot>=1.4\n",
            "  Downloading pydot-1.4.2-py2.py3-none-any.whl (21 kB)\n",
            "Requirement already satisfied: pandas>=0.24 in /usr/local/lib/python3.7/dist-packages (from dowhy) (1.1.5)\n",
            "Requirement already satisfied: scipy in /usr/local/lib/python3.7/dist-packages (from dowhy) (1.4.1)\n",
            "Requirement already satisfied: python-dateutil>=2.7.3 in /usr/local/lib/python3.7/dist-packages (from pandas>=0.24->dowhy) (2.8.2)\n",
            "Requirement already satisfied: pytz>=2017.2 in /usr/local/lib/python3.7/dist-packages (from pandas>=0.24->dowhy) (2018.9)\n",
            "Requirement already satisfied: pyparsing>=2.1.4 in /usr/local/lib/python3.7/dist-packages (from pydot>=1.4->dowhy) (2.4.7)\n",
            "Requirement already satisfied: six>=1.5 in /usr/local/lib/python3.7/dist-packages (from python-dateutil>=2.7.3->pandas>=0.24->dowhy) (1.15.0)\n",
            "Requirement already satisfied: mpmath>=0.19 in /usr/local/lib/python3.7/dist-packages (from sympy>=1.4->dowhy) (1.2.1)\n",
            "Requirement already satisfied: joblib>=0.11 in /usr/local/lib/python3.7/dist-packages (from scikit-learn->dowhy) (1.0.1)\n",
            "Requirement already satisfied: patsy>=0.4.0 in /usr/local/lib/python3.7/dist-packages (from statsmodels->dowhy) (0.5.1)\n",
            "Installing collected packages: pydot, dowhy\n",
            "  Attempting uninstall: pydot\n",
            "    Found existing installation: pydot 1.3.0\n",
            "    Uninstalling pydot-1.3.0:\n",
            "      Successfully uninstalled pydot-1.3.0\n",
            "Successfully installed dowhy-0.6 pydot-1.4.2\n"
          ],
          "name": "stdout"
        }
      ]
    },
    {
      "cell_type": "code",
      "metadata": {
        "id": "g4N-8biNkujO"
      },
      "source": [
        "import numpy as np\n",
        "import pandas as pd\n",
        "import matplotlib.pyplot as plt\n",
        "import math\n",
        "import dowhy\n",
        "from dowhy import CausalModel\n",
        "import dowhy.datasets, dowhy.plotter\n",
        "\n",
        "# Config dict to set the logging level\n",
        "import logging.config\n",
        "DEFAULT_LOGGING = {\n",
        "    'version': 1,\n",
        "    'disable_existing_loggers': False,\n",
        "    'loggers': {\n",
        "        '': {\n",
        "            'level': 'INFO',\n",
        "        },\n",
        "    }\n",
        "}\n",
        "\n",
        "logging.config.dictConfig(DEFAULT_LOGGING)"
      ],
      "execution_count": 5,
      "outputs": []
    },
    {
      "cell_type": "code",
      "metadata": {
        "colab": {
          "base_uri": "https://localhost:8080/"
        },
        "id": "9z_lFEmckzhO",
        "outputId": "d0b7e6dc-6945-4bf9-bfbe-88e7eb5e734d"
      },
      "source": [
        "rvar = 1 if np.random.uniform() >0.5 else 0\n",
        "data_dict = dowhy.datasets.xy_dataset(10000, effect=rvar,\n",
        "                                      num_common_causes=1,\n",
        "                                      sd_error=0.2)\n",
        "df = data_dict['df']\n",
        "print(df[[\"Treatment\", \"Outcome\", \"w0\"]].head())"
      ],
      "execution_count": 9,
      "outputs": [
        {
          "output_type": "stream",
          "text": [
            "   Treatment    Outcome        w0\n",
            "0   1.947599   3.781958 -3.912791\n",
            "1   9.531855  19.239879  3.701374\n",
            "2   4.724220   9.221993 -1.449829\n",
            "3   9.478071  18.528374  3.117070\n",
            "4   2.244750   4.298116 -3.841043\n"
          ],
          "name": "stdout"
        }
      ]
    },
    {
      "cell_type": "code",
      "metadata": {
        "colab": {
          "base_uri": "https://localhost:8080/"
        },
        "id": "me8exXOulRJJ",
        "outputId": "11435395-d325-4cfe-f965-d04b53a0b640"
      },
      "source": [
        "data_dict"
      ],
      "execution_count": 12,
      "outputs": [
        {
          "output_type": "execute_result",
          "data": {
            "text/plain": [
              "{'ate': None,\n",
              " 'common_causes_names': ['w0'],\n",
              " 'df':       Treatment    Outcome        w0         s\n",
              " 0      1.947599   3.781958 -3.912791  6.704689\n",
              " 1      9.531855  19.239879  3.701374  3.546467\n",
              " 2      4.724220   9.221993 -1.449829  8.596925\n",
              " 3      9.478071  18.528374  3.117070  9.667784\n",
              " 4      2.244750   4.298116 -3.841043  7.398694\n",
              " ...         ...        ...       ...       ...\n",
              " 9995   7.875296  14.987443  1.687751  1.479392\n",
              " 9996   7.599421  15.644957  1.736055  4.504641\n",
              " 9997   3.301577   6.683812 -2.669616  5.846577\n",
              " 9998   2.712366   5.321366 -3.123959  6.064029\n",
              " 9999   8.611741  17.590395  2.724524  1.870630\n",
              " \n",
              " [10000 rows x 4 columns],\n",
              " 'dot_graph': None,\n",
              " 'gml_graph': None,\n",
              " 'instrument_names': None,\n",
              " 'outcome_name': 'Outcome',\n",
              " 'time_val': 's',\n",
              " 'treatment_name': 'Treatment'}"
            ]
          },
          "metadata": {},
          "execution_count": 12
        }
      ]
    },
    {
      "cell_type": "code",
      "metadata": {
        "colab": {
          "base_uri": "https://localhost:8080/",
          "height": 420
        },
        "id": "Vk7HgqvnkzjH",
        "outputId": "fb512a17-6b4b-4346-b86e-491dddcfdc71"
      },
      "source": [
        "dowhy.plotter.plot_treatment_outcome(df[data_dict[\"treatment_name\"]], df[data_dict[\"outcome_name\"]],\n",
        "                             df[data_dict[\"time_val\"]])"
      ],
      "execution_count": 10,
      "outputs": [
        {
          "output_type": "display_data",
          "data": {
            "image/png": "[encoded data removed]",
            "text/plain": [
              "<Figure size 576x432 with 1 Axes>"
            ]
          },
          "metadata": {
            "needs_background": "light"
          }
        }
      ]
    },
    {
      "cell_type": "code",
      "metadata": {
        "id": "0LtEqE7_mVZI"
      },
      "source": [
        ""
      ],
      "execution_count": null,
      "outputs": []
    },
    {
      "cell_type": "markdown",
      "metadata": {
        "id": "sbnMouzXmV8B"
      },
      "source": [
        "# Using DoWhy to resolve the mystery: Does Treatment cause Outcome?\n"
      ]
    },
    {
      "cell_type": "markdown",
      "metadata": {
        "id": "sURGgIp7mYP_"
      },
      "source": [
        "### STEP 1: Model the problem as a causal graph"
      ]
    },
    {
      "cell_type": "code",
      "metadata": {
        "colab": {
          "base_uri": "https://localhost:8080/",
          "height": 248
        },
        "id": "HspMRGBAmVbw",
        "outputId": "4621657a-fcaa-4446-9461-da74486b9754"
      },
      "source": [
        "model= CausalModel(\n",
        "        data=df,\n",
        "        treatment=data_dict[\"treatment_name\"],\n",
        "        outcome=data_dict[\"outcome_name\"],\n",
        "        common_causes=data_dict[\"common_causes_names\"],\n",
        "        instruments=data_dict[\"instrument_names\"])\n",
        "model.view_model(layout=\"dot\")"
      ],
      "execution_count": 13,
      "outputs": [
        {
          "output_type": "display_data",
          "data": {
            "image/png": "[encoded data removed]",
            "text/plain": [
              "<Figure size 432x288 with 1 Axes>"
            ]
          },
          "metadata": {}
        }
      ]
    },
    {
      "cell_type": "code",
      "metadata": {
        "id": "lkW5HdHdmVeP"
      },
      "source": [
        ""
      ],
      "execution_count": null,
      "outputs": []
    },
    {
      "cell_type": "code",
      "metadata": {
        "id": "XGtERavimVgi"
      },
      "source": [
        ""
      ],
      "execution_count": null,
      "outputs": []
    },
    {
      "cell_type": "markdown",
      "metadata": {
        "id": "nxl-BzkmmmrD"
      },
      "source": [
        "### STEP 2: Identify causal effect using properties of the formal causal graph"
      ]
    },
    {
      "cell_type": "code",
      "metadata": {
        "colab": {
          "base_uri": "https://localhost:8080/"
        },
        "id": "UrnjVnNPmop4",
        "outputId": "ef491dc4-35fe-4fdd-f75c-319eee349616"
      },
      "source": [
        "identified_estimand = model.identify_effect(proceed_when_unidentifiable=True)\n",
        "print(identified_estimand)"
      ],
      "execution_count": 14,
      "outputs": [
        {
          "output_type": "stream",
          "text": [
            "Estimand type: nonparametric-ate\n",
            "\n",
            "### Estimand : 1\n",
            "Estimand name: backdoor\n",
            "Estimand expression:\n",
            "     d                               \n",
            "────────────(Expectation(Outcome|w0))\n",
            "d[Treatment]                         \n",
            "Estimand assumption 1, Unconfoundedness: If U→{Treatment} and U→Outcome then P(Outcome|Treatment,w0,U) = P(Outcome|Treatment,w0)\n",
            "\n",
            "### Estimand : 2\n",
            "Estimand name: iv\n",
            "No such variable found!\n",
            "\n",
            "### Estimand : 3\n",
            "Estimand name: frontdoor\n",
            "No such variable found!\n",
            "\n"
          ],
          "name": "stdout"
        }
      ]
    },
    {
      "cell_type": "markdown",
      "metadata": {
        "id": "NFMg_Wuamx6X"
      },
      "source": [
        "## STEP 3: Estimate the causal effect"
      ]
    },
    {
      "cell_type": "markdown",
      "metadata": {
        "id": "vRx-KZQnmx_O"
      },
      "source": [
        ""
      ]
    },
    {
      "cell_type": "code",
      "metadata": {
        "colab": {
          "base_uri": "https://localhost:8080/",
          "height": 471
        },
        "id": "Asqms18Lm3FX",
        "outputId": "81f1811a-2dc0-4b8f-83b5-f030b0917d5b"
      },
      "source": [
        "estimate = model.estimate_effect(identified_estimand,\n",
        "        method_name=\"backdoor.linear_regression\")\n",
        "print(\"Causal Estimate is \" + str(estimate.value))\n",
        "\n",
        "# Plot Slope of line between treamtent and outcome =causal effect\n",
        "dowhy.plotter.plot_causal_effect(estimate, df[data_dict[\"treatment_name\"]], df[data_dict[\"outcome_name\"]])"
      ],
      "execution_count": 15,
      "outputs": [
        {
          "output_type": "stream",
          "text": [
            "/usr/local/lib/python3.7/dist-packages/statsmodels/tools/_testing.py:19: FutureWarning: pandas.util.testing is deprecated. Use the functions in the public API at pandas.testing instead.\n",
            "  import pandas.util.testing as tm\n"
          ],
          "name": "stderr"
        },
        {
          "output_type": "stream",
          "text": [
            "Causal Estimate is 0.999576483122202\n"
          ],
          "name": "stdout"
        },
        {
          "output_type": "display_data",
          "data": {
            "image/png": "[encoded data removed]",
            "text/plain": [
              "<Figure size 576x432 with 1 Axes>"
            ]
          },
          "metadata": {
            "needs_background": "light"
          }
        }
      ]
    },
    {
      "cell_type": "code",
      "metadata": {
        "colab": {
          "base_uri": "https://localhost:8080/"
        },
        "id": "fowiEdEcngYY",
        "outputId": "289209ca-034a-471a-8a04-d2b296a2ead6"
      },
      "source": [
        "print(\"DoWhy estimate is \" + str(estimate.value))\n",
        "print (\"Actual true causal effect was {0}\".format(rvar))"
      ],
      "execution_count": 16,
      "outputs": [
        {
          "output_type": "stream",
          "text": [
            "DoWhy estimate is 0.999576483122202\n",
            "Actual true causal effect was 1\n"
          ],
          "name": "stdout"
        }
      ]
    },
    {
      "cell_type": "code",
      "metadata": {
        "id": "MtjTD3Conga6"
      },
      "source": [
        ""
      ],
      "execution_count": null,
      "outputs": []
    },
    {
      "cell_type": "markdown",
      "metadata": {
        "id": "CA5QOqt9nvC4"
      },
      "source": [
        "## Step 4: Refuting the estimate"
      ]
    },
    {
      "cell_type": "code",
      "metadata": {
        "colab": {
          "base_uri": "https://localhost:8080/"
        },
        "id": "M56GXpeunxes",
        "outputId": "50d4e63f-cd65-4b1a-df53-8eb860e24f18"
      },
      "source": [
        "res_random=model.refute_estimate(identified_estimand, estimate, method_name=\"random_common_cause\")\n",
        "print(res_random)"
      ],
      "execution_count": 17,
      "outputs": [
        {
          "output_type": "stream",
          "text": [
            "Refute: Add a Random Common Cause\n",
            "Estimated effect:0.999576483122202\n",
            "New effect:0.9993802792374984\n",
            "\n"
          ],
          "name": "stdout"
        }
      ]
    },
    {
      "cell_type": "code",
      "metadata": {
        "colab": {
          "base_uri": "https://localhost:8080/"
        },
        "id": "8Lm3Tomjn2Hx",
        "outputId": "af45d9d6-4f09-40e3-ae7d-d1bdf6191185"
      },
      "source": [
        "res_placebo=model.refute_estimate(identified_estimand, estimate,\n",
        "        method_name=\"placebo_treatment_refuter\", placebo_type=\"permute\")\n",
        "print(res_placebo)"
      ],
      "execution_count": 18,
      "outputs": [
        {
          "output_type": "stream",
          "text": [
            "Refute: Use a Placebo Treatment\n",
            "Estimated effect:0.999576483122202\n",
            "New effect:-0.00011297483737658709\n",
            "p value:0.49\n",
            "\n"
          ],
          "name": "stdout"
        }
      ]
    },
    {
      "cell_type": "code",
      "metadata": {
        "colab": {
          "base_uri": "https://localhost:8080/"
        },
        "id": "27_0VWVRn2Ko",
        "outputId": "39a32cad-66cb-4daf-807b-2d068b099fed"
      },
      "source": [
        "res_subset=model.refute_estimate(identified_estimand, estimate,\n",
        "        method_name=\"data_subset_refuter\", subset_fraction=0.9)\n",
        "print(res_subset)"
      ],
      "execution_count": 19,
      "outputs": [
        {
          "output_type": "stream",
          "text": [
            "Refute: Use a subset of data\n",
            "Estimated effect:0.999576483122202\n",
            "New effect:0.9999930757655726\n",
            "p value:0.48\n",
            "\n"
          ],
          "name": "stdout"
        }
      ]
    },
    {
      "cell_type": "code",
      "metadata": {
        "id": "SxTKBhkFn2NE"
      },
      "source": [
        ""
      ],
      "execution_count": null,
      "outputs": []
    }
  ]
}