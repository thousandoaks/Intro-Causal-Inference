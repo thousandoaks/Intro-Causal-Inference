{
  "nbformat": 4,
  "nbformat_minor": 0,
  "metadata": {
    "colab": {
      "name": "Simple example on using Instrumental Variables method for estimation.ipynb",
      "provenance": [],
      "authorship_tag": "ABX9TyNIqsDydhTJVV/czioPXK0i",
      "include_colab_link": true
    },
    "kernelspec": {
      "name": "python3",
      "display_name": "Python 3"
    },
    "language_info": {
      "name": "python"
    }
  },
  "cells": [
    {
      "cell_type": "markdown",
      "metadata": {
        "id": "view-in-github",
        "colab_type": "text"
      },
      "source": [
        "<a href=\"https://colab.research.google.com/github/thousandoaks/Intro-Causal-Inference/blob/main/code/Simple_example_on_using_Instrumental_Variables_method_for_estimation.ipynb\" target=\"_parent\"><img src=\"https://colab.research.google.com/assets/colab-badge.svg\" alt=\"Open In Colab\"/></a>"
      ]
    },
    {
      "cell_type": "code",
      "metadata": {
        "colab": {
          "base_uri": "https://localhost:8080/"
        },
        "id": "Iqi-7qqUUqdw",
        "outputId": "78562e21-31f4-44f4-d9a0-54c7323498d6"
      },
      "source": [
        "pip install dowhy"
      ],
      "execution_count": 1,
      "outputs": [
        {
          "output_type": "stream",
          "text": [
            "Collecting dowhy\n",
            "  Downloading dowhy-0.6-py3-none-any.whl (123 kB)\n",
            "\u001b[?25l\r\u001b[K     |██▋                             | 10 kB 22.3 MB/s eta 0:00:01\r\u001b[K     |█████▎                          | 20 kB 25.2 MB/s eta 0:00:01\r\u001b[K     |████████                        | 30 kB 29.2 MB/s eta 0:00:01\r\u001b[K     |██████████▋                     | 40 kB 31.9 MB/s eta 0:00:01\r\u001b[K     |█████████████▏                  | 51 kB 34.0 MB/s eta 0:00:01\r\u001b[K     |███████████████▉                | 61 kB 35.9 MB/s eta 0:00:01\r\u001b[K     |██████████████████▌             | 71 kB 37.3 MB/s eta 0:00:01\r\u001b[K     |█████████████████████▏          | 81 kB 38.3 MB/s eta 0:00:01\r\u001b[K     |███████████████████████▉        | 92 kB 40.6 MB/s eta 0:00:01\r\u001b[K     |██████████████████████████▍     | 102 kB 40.9 MB/s eta 0:00:01\r\u001b[K     |█████████████████████████████   | 112 kB 40.9 MB/s eta 0:00:01\r\u001b[K     |███████████████████████████████▊| 122 kB 40.9 MB/s eta 0:00:01\r\u001b[K     |████████████████████████████████| 123 kB 40.9 MB/s \n",
            "\u001b[?25hRequirement already satisfied: sympy>=1.4 in /usr/local/lib/python3.7/dist-packages (from dowhy) (1.7.1)\n",
            "Requirement already satisfied: statsmodels in /usr/local/lib/python3.7/dist-packages (from dowhy) (0.10.2)\n",
            "Requirement already satisfied: pandas>=0.24 in /usr/local/lib/python3.7/dist-packages (from dowhy) (1.1.5)\n",
            "Requirement already satisfied: networkx>=2.0 in /usr/local/lib/python3.7/dist-packages (from dowhy) (2.6.2)\n",
            "Requirement already satisfied: scipy in /usr/local/lib/python3.7/dist-packages (from dowhy) (1.4.1)\n",
            "Requirement already satisfied: numpy>=1.15 in /usr/local/lib/python3.7/dist-packages (from dowhy) (1.19.5)\n",
            "Requirement already satisfied: scikit-learn in /usr/local/lib/python3.7/dist-packages (from dowhy) (0.22.2.post1)\n",
            "Collecting pydot>=1.4\n",
            "  Downloading pydot-1.4.2-py2.py3-none-any.whl (21 kB)\n",
            "Requirement already satisfied: python-dateutil>=2.7.3 in /usr/local/lib/python3.7/dist-packages (from pandas>=0.24->dowhy) (2.8.2)\n",
            "Requirement already satisfied: pytz>=2017.2 in /usr/local/lib/python3.7/dist-packages (from pandas>=0.24->dowhy) (2018.9)\n",
            "Requirement already satisfied: pyparsing>=2.1.4 in /usr/local/lib/python3.7/dist-packages (from pydot>=1.4->dowhy) (2.4.7)\n",
            "Requirement already satisfied: six>=1.5 in /usr/local/lib/python3.7/dist-packages (from python-dateutil>=2.7.3->pandas>=0.24->dowhy) (1.15.0)\n",
            "Requirement already satisfied: mpmath>=0.19 in /usr/local/lib/python3.7/dist-packages (from sympy>=1.4->dowhy) (1.2.1)\n",
            "Requirement already satisfied: joblib>=0.11 in /usr/local/lib/python3.7/dist-packages (from scikit-learn->dowhy) (1.0.1)\n",
            "Requirement already satisfied: patsy>=0.4.0 in /usr/local/lib/python3.7/dist-packages (from statsmodels->dowhy) (0.5.1)\n",
            "Installing collected packages: pydot, dowhy\n",
            "  Attempting uninstall: pydot\n",
            "    Found existing installation: pydot 1.3.0\n",
            "    Uninstalling pydot-1.3.0:\n",
            "      Successfully uninstalled pydot-1.3.0\n",
            "Successfully installed dowhy-0.6 pydot-1.4.2\n"
          ],
          "name": "stdout"
        }
      ]
    },
    {
      "cell_type": "code",
      "metadata": {
        "id": "pcyrx4EwU2ve"
      },
      "source": [
        "%load_ext autoreload\n",
        "%autoreload 2"
      ],
      "execution_count": 2,
      "outputs": []
    },
    {
      "cell_type": "code",
      "metadata": {
        "colab": {
          "base_uri": "https://localhost:8080/"
        },
        "id": "QBI7B1LOVTct",
        "outputId": "02dc90b1-cf5e-4abc-ebca-76dc381b9a51"
      },
      "source": [
        "import numpy as np\n",
        "import pandas as pd\n",
        "import patsy as ps\n",
        "\n",
        "from statsmodels.sandbox.regression.gmm import IV2SLS\n",
        "import os, sys\n",
        "from dowhy import CausalModel"
      ],
      "execution_count": 3,
      "outputs": [
        {
          "output_type": "stream",
          "text": [
            "/usr/local/lib/python3.7/dist-packages/statsmodels/tools/_testing.py:19: FutureWarning: pandas.util.testing is deprecated. Use the functions in the public API at pandas.testing instead.\n",
            "  import pandas.util.testing as tm\n"
          ],
          "name": "stderr"
        }
      ]
    },
    {
      "cell_type": "code",
      "metadata": {
        "id": "GDmyHCz5VTfL"
      },
      "source": [
        ""
      ],
      "execution_count": null,
      "outputs": []
    },
    {
      "cell_type": "markdown",
      "metadata": {
        "id": "RkKnmRjaVWq_"
      },
      "source": [
        "## We create a fictitious dataset with the goal of estimating the impact of education on future earnings of an individual. The ability of the individual is a confounder and being given an education_voucher is the instrument."
      ]
    },
    {
      "cell_type": "code",
      "metadata": {
        "id": "T_fo2_13VThk"
      },
      "source": [
        "n_points = 1000\n",
        "education_abilty = 1\n",
        "education_voucher = 2\n",
        "income_abilty = 2\n",
        "income_education = 4\n",
        "\n",
        "\n",
        "# confounder\n",
        "ability = np.random.normal(0, 3, size=n_points)\n",
        "\n",
        "# instrument\n",
        "voucher = np.random.normal(2, 1, size=n_points)\n",
        "\n",
        "# treatment\n",
        "education = np.random.normal(5, 1, size=n_points) + education_abilty * ability +\\\n",
        "            education_voucher * voucher\n",
        "\n",
        "# outcome\n",
        "income = np.random.normal(10, 3, size=n_points) +\\\n",
        "         income_abilty * ability + income_education * education\n",
        "\n",
        "# build dataset (exclude confounder `ability` which we assume to be unobserved)\n",
        "data = np.stack([education, income, voucher]).T\n",
        "df = pd.DataFrame(data, columns = ['education', 'income', 'voucher'])"
      ],
      "execution_count": 4,
      "outputs": []
    },
    {
      "cell_type": "markdown",
      "metadata": {
        "id": "PrQbz2xMZRgY"
      },
      "source": [
        "## Note that the real effect of education (treatment) on income is 4"
      ]
    },
    {
      "cell_type": "markdown",
      "metadata": {
        "id": "8WpEyvXZV1Gz"
      },
      "source": [
        "Note that ability, a factor which influences both income and education, is unobserved !!!"
      ]
    },
    {
      "cell_type": "code",
      "metadata": {
        "colab": {
          "base_uri": "https://localhost:8080/",
          "height": 419
        },
        "id": "PmRlinnzVTjr",
        "outputId": "5e5fd90d-65d3-49df-e9e0-af8206101872"
      },
      "source": [
        "df"
      ],
      "execution_count": 5,
      "outputs": [
        {
          "output_type": "execute_result",
          "data": {
            "text/html": [
              "<div>\n",
              "<style scoped>\n",
              "    .dataframe tbody tr th:only-of-type {\n",
              "        vertical-align: middle;\n",
              "    }\n",
              "\n",
              "    .dataframe tbody tr th {\n",
              "        vertical-align: top;\n",
              "    }\n",
              "\n",
              "    .dataframe thead th {\n",
              "        text-align: right;\n",
              "    }\n",
              "</style>\n",
              "<table border=\"1\" class=\"dataframe\">\n",
              "  <thead>\n",
              "    <tr style=\"text-align: right;\">\n",
              "      <th></th>\n",
              "      <th>education</th>\n",
              "      <th>income</th>\n",
              "      <th>voucher</th>\n",
              "    </tr>\n",
              "  </thead>\n",
              "  <tbody>\n",
              "    <tr>\n",
              "      <th>0</th>\n",
              "      <td>3.255789</td>\n",
              "      <td>25.283927</td>\n",
              "      <td>-0.064325</td>\n",
              "    </tr>\n",
              "    <tr>\n",
              "      <th>1</th>\n",
              "      <td>-0.386182</td>\n",
              "      <td>-3.496941</td>\n",
              "      <td>0.612688</td>\n",
              "    </tr>\n",
              "    <tr>\n",
              "      <th>2</th>\n",
              "      <td>6.617194</td>\n",
              "      <td>35.616558</td>\n",
              "      <td>0.255174</td>\n",
              "    </tr>\n",
              "    <tr>\n",
              "      <th>3</th>\n",
              "      <td>7.219453</td>\n",
              "      <td>29.662962</td>\n",
              "      <td>1.897590</td>\n",
              "    </tr>\n",
              "    <tr>\n",
              "      <th>4</th>\n",
              "      <td>11.223111</td>\n",
              "      <td>59.088658</td>\n",
              "      <td>2.355276</td>\n",
              "    </tr>\n",
              "    <tr>\n",
              "      <th>...</th>\n",
              "      <td>...</td>\n",
              "      <td>...</td>\n",
              "      <td>...</td>\n",
              "    </tr>\n",
              "    <tr>\n",
              "      <th>995</th>\n",
              "      <td>10.358359</td>\n",
              "      <td>53.692831</td>\n",
              "      <td>1.626094</td>\n",
              "    </tr>\n",
              "    <tr>\n",
              "      <th>996</th>\n",
              "      <td>9.837301</td>\n",
              "      <td>52.364995</td>\n",
              "      <td>2.857632</td>\n",
              "    </tr>\n",
              "    <tr>\n",
              "      <th>997</th>\n",
              "      <td>8.946566</td>\n",
              "      <td>50.955394</td>\n",
              "      <td>1.298716</td>\n",
              "    </tr>\n",
              "    <tr>\n",
              "      <th>998</th>\n",
              "      <td>4.873658</td>\n",
              "      <td>24.843591</td>\n",
              "      <td>1.059733</td>\n",
              "    </tr>\n",
              "    <tr>\n",
              "      <th>999</th>\n",
              "      <td>3.561428</td>\n",
              "      <td>20.696991</td>\n",
              "      <td>-0.233620</td>\n",
              "    </tr>\n",
              "  </tbody>\n",
              "</table>\n",
              "<p>1000 rows × 3 columns</p>\n",
              "</div>"
            ],
            "text/plain": [
              "     education     income   voucher\n",
              "0     3.255789  25.283927 -0.064325\n",
              "1    -0.386182  -3.496941  0.612688\n",
              "2     6.617194  35.616558  0.255174\n",
              "3     7.219453  29.662962  1.897590\n",
              "4    11.223111  59.088658  2.355276\n",
              "..         ...        ...       ...\n",
              "995  10.358359  53.692831  1.626094\n",
              "996   9.837301  52.364995  2.857632\n",
              "997   8.946566  50.955394  1.298716\n",
              "998   4.873658  24.843591  1.059733\n",
              "999   3.561428  20.696991 -0.233620\n",
              "\n",
              "[1000 rows x 3 columns]"
            ]
          },
          "metadata": {},
          "execution_count": 5
        }
      ]
    },
    {
      "cell_type": "code",
      "metadata": {
        "id": "MH6Oq4KJVeDl"
      },
      "source": [
        ""
      ],
      "execution_count": null,
      "outputs": []
    },
    {
      "cell_type": "markdown",
      "metadata": {
        "id": "_X1qVK4EXu_f"
      },
      "source": [
        "# Step 1. Model the problem"
      ]
    },
    {
      "cell_type": "code",
      "metadata": {
        "colab": {
          "base_uri": "https://localhost:8080/",
          "height": 305
        },
        "id": "zkzHhNC0XyBI",
        "outputId": "2ea3c361-fcbe-4a63-d1d8-1ed8b5981bdd"
      },
      "source": [
        "#Step 1: Model\n",
        "model=CausalModel(\n",
        "        data = df,\n",
        "        treatment='education',\n",
        "        outcome='income',\n",
        "        common_causes=['U'],\n",
        "        instruments=['voucher']\n",
        "        )\n",
        "\n",
        "from IPython.display import Image, display\n",
        "display(Image(filename=\"causal_model.png\"))"
      ],
      "execution_count": 7,
      "outputs": [
        {
          "output_type": "display_data",
          "data": {
            "image/png": "[encoded data removed]",
            "text/plain": [
              "<IPython.core.display.Image object>"
            ]
          },
          "metadata": {}
        }
      ]
    },
    {
      "cell_type": "markdown",
      "metadata": {
        "id": "mKHz-uzvYQWV"
      },
      "source": [
        "# Step 2. Identify"
      ]
    },
    {
      "cell_type": "code",
      "metadata": {
        "colab": {
          "base_uri": "https://localhost:8080/"
        },
        "id": "15CIrSQkXyDe",
        "outputId": "dcd9ab6d-43da-4c54-b6ff-b5659273aeda"
      },
      "source": [
        "# Step 2: Identify\n",
        "identified_estimand = model.identify_effect(proceed_when_unidentifiable=True)\n",
        "print(identified_estimand)"
      ],
      "execution_count": 8,
      "outputs": [
        {
          "output_type": "stream",
          "text": [
            "Estimand type: nonparametric-ate\n",
            "\n",
            "### Estimand : 1\n",
            "Estimand name: backdoor\n",
            "Estimand expression:\n",
            "     d                           \n",
            "────────────(Expectation(income))\n",
            "d[education]                     \n",
            "Estimand assumption 1, Unconfoundedness: If U→{education} and U→income then P(income|education,,U) = P(income|education,)\n",
            "\n",
            "### Estimand : 2\n",
            "Estimand name: iv\n",
            "Estimand expression:\n",
            "Expectation(Derivative(income, [voucher])*Derivative([education], [voucher])**\n",
            "(-1))\n",
            "Estimand assumption 1, As-if-random: If U→→income then ¬(U →→{voucher})\n",
            "Estimand assumption 2, Exclusion: If we remove {voucher}→{education}, then ¬({voucher}→income)\n",
            "\n",
            "### Estimand : 3\n",
            "Estimand name: frontdoor\n",
            "No such variable found!\n",
            "\n"
          ],
          "name": "stdout"
        }
      ]
    },
    {
      "cell_type": "code",
      "metadata": {
        "id": "tFPDHGivXyF2"
      },
      "source": [
        ""
      ],
      "execution_count": null,
      "outputs": []
    },
    {
      "cell_type": "markdown",
      "metadata": {
        "id": "qtWv-G_lYVgO"
      },
      "source": [
        "# Step 3. Estimate"
      ]
    },
    {
      "cell_type": "code",
      "metadata": {
        "colab": {
          "base_uri": "https://localhost:8080/"
        },
        "id": "1lwBXvaPYX44",
        "outputId": "0452ded3-53e2-41f6-bcdf-9d006db797c5"
      },
      "source": [
        "# Step 3: Estimate\n",
        "#Choose the second estimand: using IV\n",
        "estimate = model.estimate_effect(identified_estimand,\n",
        "        method_name=\"iv.instrumental_variable\", test_significance=True)\n",
        "\n",
        "print(estimate)"
      ],
      "execution_count": 9,
      "outputs": [
        {
          "output_type": "stream",
          "text": [
            "*** Causal Estimate ***\n",
            "\n",
            "## Identified estimand\n",
            "Estimand type: nonparametric-ate\n",
            "\n",
            "### Estimand : 1\n",
            "Estimand name: iv\n",
            "Estimand expression:\n",
            "Expectation(Derivative(income, [voucher])*Derivative([education], [voucher])**\n",
            "(-1))\n",
            "Estimand assumption 1, As-if-random: If U→→income then ¬(U →→{voucher})\n",
            "Estimand assumption 2, Exclusion: If we remove {voucher}→{education}, then ¬({voucher}→income)\n",
            "\n",
            "## Realized estimand\n",
            "Realized estimand: Wald Estimator\n",
            "Realized estimand type: nonparametric-ate\n",
            "Estimand expression:\n",
            "                                                                              \n",
            "Expectation(Derivative(income, voucher))⋅Expectation(Derivative(education, vou\n",
            "\n",
            "      -1\n",
            "cher))  \n",
            "Estimand assumption 1, As-if-random: If U→→income then ¬(U →→{voucher})\n",
            "Estimand assumption 2, Exclusion: If we remove {voucher}→{education}, then ¬({voucher}→income)\n",
            "Estimand assumption 3, treatment_effect_homogeneity: Each unit's treatment ['education'] is affected in the same way by common causes of ['education'] and income\n",
            "Estimand assumption 4, outcome_effect_homogeneity: Each unit's outcome income is affected in the same way by common causes of ['education'] and income\n",
            "\n",
            "Target units: ate\n",
            "\n",
            "## Estimate\n",
            "Mean value: 3.967100097638284\n",
            "p-value: [0, 0.001]\n",
            "\n"
          ],
          "name": "stdout"
        }
      ]
    },
    {
      "cell_type": "markdown",
      "metadata": {
        "id": "Q2nqGNrXZFGd"
      },
      "source": [
        "## We have an estimate, indicating that increasing education by one unit increases income by 4 points."
      ]
    },
    {
      "cell_type": "markdown",
      "metadata": {
        "id": "TG6xjlsGZhy0"
      },
      "source": [
        "# Step 4. Refute"
      ]
    },
    {
      "cell_type": "code",
      "metadata": {
        "colab": {
          "base_uri": "https://localhost:8080/"
        },
        "id": "ITHJhJ2QYaPT",
        "outputId": "9554a26c-b3a2-4089-8e6c-4f8d47ab142b"
      },
      "source": [
        "# Step 4: Refute\n",
        "ref = model.refute_estimate(identified_estimand, estimate, method_name=\"placebo_treatment_refuter\", placebo_type=\"permute\") # only permute placebo_type works with IV estimate\n",
        "print(ref)"
      ],
      "execution_count": 11,
      "outputs": [
        {
          "output_type": "stream",
          "text": [
            "Refute: Use a Placebo Treatment\n",
            "Estimated effect:3.967100097638284\n",
            "New effect:0.04834316079207432\n",
            "p value:0.39\n",
            "\n"
          ],
          "name": "stdout"
        }
      ]
    }
  ]
}