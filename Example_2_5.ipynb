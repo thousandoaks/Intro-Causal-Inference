{
  "nbformat": 4,
  "nbformat_minor": 0,
  "metadata": {
    "colab": {
      "name": "Example-2.5.ipynb",
      "provenance": [],
      "authorship_tag": "ABX9TyO0Y4hESgyLYgm4nWfVZSba",
      "include_colab_link": true
    },
    "kernelspec": {
      "name": "python3",
      "display_name": "Python 3"
    },
    "language_info": {
      "name": "python"
    }
  },
  "cells": [
    {
      "cell_type": "markdown",
      "metadata": {
        "id": "view-in-github",
        "colab_type": "text"
      },
      "source": [
        "<a href=\"https://colab.research.google.com/github/thousandoaks/Intro-Causal-Inference/blob/main/Example_2_5.ipynb\" target=\"_parent\"><img src=\"https://colab.research.google.com/assets/colab-badge.svg\" alt=\"Open In Colab\"/></a>"
      ]
    },
    {
      "cell_type": "code",
      "metadata": {
        "id": "2g38TpFUFWFu"
      },
      "source": [
        "\"\"\"\n",
        "Estimating the causal effect of sodium on blood pressure in a simulated example\n",
        "adapted from Luque-Fernandez et al. (2018):\n",
        "    https://academic.oup.com/ije/article/48/2/640/5248195\n",
        "\"\"\"\n",
        "\n",
        "import numpy as np\n",
        "import pandas as pd\n",
        "from sklearn.linear_model import LinearRegression"
      ],
      "execution_count": 1,
      "outputs": []
    },
    {
      "cell_type": "code",
      "metadata": {
        "id": "ilga1ohSFcJJ"
      },
      "source": [
        ""
      ],
      "execution_count": 1,
      "outputs": []
    },
    {
      "cell_type": "code",
      "metadata": {
        "id": "q26N6uvaFcLs"
      },
      "source": [
        "def generate_data(n=1000, seed=0, beta1=1.05, alpha1=0.4, alpha2=0.3, binary_treatment=True, binary_cutoff=3.5):\n",
        "    np.random.seed(seed)\n",
        "    age = np.random.normal(65, 5, n)\n",
        "    sodium = age / 18 + np.random.normal(size=n)\n",
        "    if binary_treatment:\n",
        "        if binary_cutoff is None:\n",
        "            binary_cutoff = sodium.mean()\n",
        "        sodium = (sodium > binary_cutoff).astype(int)\n",
        "    blood_pressure = beta1 * sodium + 2 * age + np.random.normal(size=n)\n",
        "    proteinuria = alpha1 * sodium + alpha2 * blood_pressure + np.random.normal(size=n)\n",
        "    hypertension = (blood_pressure >= 140).astype(int)  # not used, but could be used for binary outcomes\n",
        "    return pd.DataFrame({'blood_pressure': blood_pressure, 'sodium': sodium,\n",
        "                         'age': age, 'proteinuria': proteinuria})"
      ],
      "execution_count": 2,
      "outputs": []
    },
    {
      "cell_type": "code",
      "metadata": {
        "id": "AK1AMEMzFcOB"
      },
      "source": [
        "def estimate_causal_effect(Xt, y, model=LinearRegression(), treatment_idx=0, regression_coef=False):\n",
        "    model.fit(Xt, y)\n",
        "    if regression_coef:\n",
        "        return model.coef_[treatment_idx]\n",
        "    else:\n",
        "        Xt1 = pd.DataFrame.copy(Xt)\n",
        "        Xt1[Xt.columns[treatment_idx]] = 1\n",
        "        Xt0 = pd.DataFrame.copy(Xt)\n",
        "        Xt0[Xt.columns[treatment_idx]] = 0\n",
        "        return (model.predict(Xt1) - model.predict(Xt0)).mean()"
      ],
      "execution_count": 3,
      "outputs": []
    },
    {
      "cell_type": "code",
      "metadata": {
        "id": "3N1PuPwdFcQQ"
      },
      "source": [
        "binary_t_df = generate_data(beta1=1.05, alpha1=.4, alpha2=.3, binary_treatment=True, n=10000000)\n",
        "continuous_t_df = generate_data(beta1=1.05, alpha1=.4, alpha2=.3, binary_treatment=False, n=10000000)"
      ],
      "execution_count": 4,
      "outputs": []
    },
    {
      "cell_type": "code",
      "metadata": {
        "id": "vD3TwPh8FcSQ"
      },
      "source": [
        "ate_est_naive = None\n",
        "ate_est_adjust_all = None\n",
        "ate_est_adjust_age = None"
      ],
      "execution_count": 5,
      "outputs": []
    },
    {
      "cell_type": "code",
      "metadata": {
        "id": "5nsVoprKFsZx"
      },
      "source": [
        ""
      ],
      "execution_count": null,
      "outputs": []
    },
    {
      "cell_type": "markdown",
      "metadata": {
        "id": "JhwRqk9xGxkC"
      },
      "source": [
        "Let's try with the binary treatment example first"
      ]
    },
    {
      "cell_type": "code",
      "metadata": {
        "colab": {
          "base_uri": "https://localhost:8080/",
          "height": 142
        },
        "id": "SO9yEXSfF1ZV",
        "outputId": "5201fa08-1234-421a-a5e9-0ba086a40c57"
      },
      "source": [
        "binary_t_df.sample(3)"
      ],
      "execution_count": 9,
      "outputs": [
        {
          "output_type": "execute_result",
          "data": {
            "text/html": [
              "<div>\n",
              "<style scoped>\n",
              "    .dataframe tbody tr th:only-of-type {\n",
              "        vertical-align: middle;\n",
              "    }\n",
              "\n",
              "    .dataframe tbody tr th {\n",
              "        vertical-align: top;\n",
              "    }\n",
              "\n",
              "    .dataframe thead th {\n",
              "        text-align: right;\n",
              "    }\n",
              "</style>\n",
              "<table border=\"1\" class=\"dataframe\">\n",
              "  <thead>\n",
              "    <tr style=\"text-align: right;\">\n",
              "      <th></th>\n",
              "      <th>blood_pressure</th>\n",
              "      <th>sodium</th>\n",
              "      <th>age</th>\n",
              "      <th>proteinuria</th>\n",
              "    </tr>\n",
              "  </thead>\n",
              "  <tbody>\n",
              "    <tr>\n",
              "      <th>8752272</th>\n",
              "      <td>131.442772</td>\n",
              "      <td>0</td>\n",
              "      <td>65.691963</td>\n",
              "      <td>40.938811</td>\n",
              "    </tr>\n",
              "    <tr>\n",
              "      <th>9100273</th>\n",
              "      <td>146.237698</td>\n",
              "      <td>1</td>\n",
              "      <td>72.035257</td>\n",
              "      <td>43.332678</td>\n",
              "    </tr>\n",
              "    <tr>\n",
              "      <th>9995594</th>\n",
              "      <td>137.621423</td>\n",
              "      <td>1</td>\n",
              "      <td>68.193237</td>\n",
              "      <td>41.992012</td>\n",
              "    </tr>\n",
              "  </tbody>\n",
              "</table>\n",
              "</div>"
            ],
            "text/plain": [
              "         blood_pressure  sodium        age  proteinuria\n",
              "8752272      131.442772       0  65.691963    40.938811\n",
              "9100273      146.237698       1  72.035257    43.332678\n",
              "9995594      137.621423       1  68.193237    41.992012"
            ]
          },
          "metadata": {},
          "execution_count": 9
        }
      ]
    },
    {
      "cell_type": "code",
      "metadata": {
        "id": "BN9YjTaXG3s5"
      },
      "source": [
        "df=binary_t_df"
      ],
      "execution_count": 11,
      "outputs": []
    },
    {
      "cell_type": "code",
      "metadata": {
        "colab": {
          "base_uri": "https://localhost:8080/"
        },
        "id": "a6I7ZMNOF1b7",
        "outputId": "8d8ecd9f-3a12-4717-b4e6-f148e6daeff0"
      },
      "source": [
        "ate_est_naive = estimate_causal_effect(df[['sodium']], df['blood_pressure'], treatment_idx=0)\n",
        "ate_est_adjust_all = estimate_causal_effect(df[['sodium', 'age', 'proteinuria']],df['blood_pressure'], treatment_idx=0)\n",
        "ate_est_adjust_age = estimate_causal_effect(df[['sodium', 'age']], df['blood_pressure'])\n",
        "print('# Adjustment Formula Estimates #')\n",
        "print('Naive ATE estimate:\\t\\t\\t\\t\\t\\t\\t', ate_est_naive)\n",
        "print('ATE estimate adjusting for all covariates:\\t', ate_est_adjust_all)\n",
        "print('ATE estimate adjusting for age:\\t\\t\\t\\t', ate_est_adjust_age)\n",
        "print()"
      ],
      "execution_count": 12,
      "outputs": [
        {
          "output_type": "stream",
          "text": [
            "# Adjustment Formula Estimates #\n",
            "Naive ATE estimate:\t\t\t\t\t\t\t 5.328501680864975\n",
            "ATE estimate adjusting for all covariates:\t 0.8537946431496021\n",
            "ATE estimate adjusting for age:\t\t\t\t 1.0502124539714488\n",
            "\n"
          ],
          "name": "stdout"
        }
      ]
    },
    {
      "cell_type": "code",
      "metadata": {
        "colab": {
          "base_uri": "https://localhost:8080/"
        },
        "id": "wOwOEURsGqUn",
        "outputId": "555e4cfa-76bf-4e35-a643-04c84ce225c9"
      },
      "source": [
        "ate_est_naive = estimate_causal_effect(df[['sodium']], df['blood_pressure'], treatment_idx=0,\n",
        "                                               regression_coef=True)\n",
        "ate_est_adjust_all = estimate_causal_effect(df[['sodium', 'age', 'proteinuria']],\n",
        "                                                    df['blood_pressure'], treatment_idx=0,\n",
        "                                                    regression_coef=True)\n",
        "ate_est_adjust_age = estimate_causal_effect(df[['sodium', 'age']], df['blood_pressure'],\n",
        "                                                    regression_coef=True)\n",
        "print('# Regression Coefficient Estimates #')\n",
        "print('Naive ATE estimate:\\t\\t\\t\\t\\t\\t\\t', ate_est_naive)\n",
        "print('ATE estimate adjusting for all covariates:\\t', ate_est_adjust_all)\n",
        "print('ATE estimate adjusting for age:\\t\\t\\t\\t', ate_est_adjust_age)\n",
        "print()"
      ],
      "execution_count": 13,
      "outputs": [
        {
          "output_type": "stream",
          "text": [
            "# Regression Coefficient Estimates #\n",
            "Naive ATE estimate:\t\t\t\t\t\t\t 5.328501680864978\n",
            "ATE estimate adjusting for all covariates:\t 0.8537946431495851\n",
            "ATE estimate adjusting for age:\t\t\t\t 1.0502124539714823\n",
            "\n"
          ],
          "name": "stdout"
        }
      ]
    },
    {
      "cell_type": "code",
      "metadata": {
        "id": "pNSFRSfaIeeX"
      },
      "source": [
        ""
      ],
      "execution_count": null,
      "outputs": []
    }
  ]
}